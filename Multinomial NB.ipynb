{
 "cells": [
  {
   "cell_type": "markdown",
   "metadata": {
    "id": "Dnubs-Nnb3cw"
   },
   "source": [
    "# Naive Bayes Classifier on Donors Choose Prediction"
   ]
  },
  {
   "cell_type": "markdown",
   "metadata": {
    "id": "RW0zYHb5m_wI"
   },
   "source": [
    "Approach:\n",
    "\n",
    "<ol>\n",
    "    <li><strong>Apply Multinomial NB on these feature sets</strong></li>\n",
    "        <ul>\n",
    "            <li>Features that need to be considered</li> \n",
    "                <dl>\n",
    "                  <dt>Essay</dt>\n",
    "                  <dt>Categorical features</dt>\n",
    "                  <dd> - Teacher_prefix</dd>\n",
    "                  <dd> - Project_grade_category</dd>\n",
    "                  <dd> - School_state</dd>\n",
    "                  <dd> - Clean_categories</dd>\n",
    "                  <dd> - Clean_subcategories</dd>\n",
    "                  <dt>Numerical features</dt>\n",
    "                  <dd> - Price</dd>\n",
    "                  <dd> - Teacher_number_of_previously_posted_projects</dd>\n",
    "                </dl>    \n",
    "            <li><font color='red'>Set 1</font>: categorical, numerical features + preprocessed_eassay (BOW)</li>\n",
    "            <li><font color='red'>Set 2</font>: categorical, numerical features + preprocessed_eassay (TFIDF)</li>\n",
    "        </ul>\n",
    "    <li><strong>The hyper paramter tuning(find best alpha:smoothing parameter)</strong>\n",
    "        <ul>\n",
    "    <li>Consider alpha values in range: 10^-5 to 10^2 like [0.00001,0.0005, 0.0001,0.005,0.001,0.05,0.01,0.1,0.5,1,5,10,50,100]</li>\n",
    "    <li>Explore class_prior = [0.5, 0.5] parameter which can be present in MultinomialNB <a href='https://scikit-learn.org/stable/modules/generated/sklearn.naive_bayes.MultinomialNB.html'> function </a>.\n",
    "    <li>Find the best hyper parameter which will give the maximum AUC value</li>\n",
    "    <li>For hyper parameter tuning using k-fold cross validation.</li>\n",
    "    <li>Once after we found the best hyper parameter, we need to train your model with it, and find the AUC on test data and plot the ROC curve on both train and test.\n",
    "    </li>\n",
    "    <li>Along with plotting ROC curve, we need to print the confusion matrix with predicted and original labels of test data points.\n",
    "    </li>\n",
    "        </ul>\n",
    "<li>Find the top 20 features from either from feature <font color='red'>Set 1</font> or feature <font color='red'>Set 2</font> using values of `feature_log_prob_ ` parameter of `MultinomialNB` \n",
    "(https://scikit-learn.org/stable/modules/generated/sklearn.naive_bayes.MultinomialNB.html) and print <strong>BOTH</strong> positive as well as negative corresponding feature names.\n",
    "    </li>\n",
    "    <li>Summarize the results at the end.\n",
    "    </li>\n",
    "</ol>"
   ]
  },
  {
   "cell_type": "markdown",
   "metadata": {
    "id": "inzYCIaib3c3"
   },
   "source": [
    "<h1>2. Naive Bayes </h1>"
   ]
  },
  {
   "cell_type": "markdown",
   "metadata": {
    "id": "FYqCIxzFb3c5"
   },
   "source": [
    "## 1.1 Loading Data"
   ]
  },
  {
   "cell_type": "code",
   "execution_count": 1,
   "metadata": {},
   "outputs": [],
   "source": [
    "import pandas as pd\n",
    "import numpy as np\n",
    "import nltk\n",
    "import seaborn as sns\n",
    "import matplotlib.pyplot as plt\n",
    "from sklearn.feature_extraction.text import CountVectorizer\n",
    "from sklearn.feature_extraction.text import TfidfVectorizer\n",
    "from sklearn import metrics\n",
    "from sklearn.metrics import confusion_matrix\n",
    "from sklearn.metrics import auc, roc_curve\n",
    "from collections import Counter\n",
    "from tqdm import tqdm"
   ]
  },
  {
   "cell_type": "code",
   "execution_count": 2,
   "metadata": {
    "id": "dA1jknyqb3c_"
   },
   "outputs": [
    {
     "data": {
      "text/html": [
       "<div>\n",
       "<style scoped>\n",
       "    .dataframe tbody tr th:only-of-type {\n",
       "        vertical-align: middle;\n",
       "    }\n",
       "\n",
       "    .dataframe tbody tr th {\n",
       "        vertical-align: top;\n",
       "    }\n",
       "\n",
       "    .dataframe thead th {\n",
       "        text-align: right;\n",
       "    }\n",
       "</style>\n",
       "<table border=\"1\" class=\"dataframe\">\n",
       "  <thead>\n",
       "    <tr style=\"text-align: right;\">\n",
       "      <th></th>\n",
       "      <th>school_state</th>\n",
       "      <th>teacher_prefix</th>\n",
       "      <th>project_grade_category</th>\n",
       "      <th>teacher_number_of_previously_posted_projects</th>\n",
       "      <th>project_is_approved</th>\n",
       "      <th>clean_categories</th>\n",
       "      <th>clean_subcategories</th>\n",
       "      <th>essay</th>\n",
       "      <th>price</th>\n",
       "    </tr>\n",
       "  </thead>\n",
       "  <tbody>\n",
       "    <tr>\n",
       "      <th>0</th>\n",
       "      <td>ca</td>\n",
       "      <td>mrs</td>\n",
       "      <td>grades_prek_2</td>\n",
       "      <td>53</td>\n",
       "      <td>1</td>\n",
       "      <td>math_science</td>\n",
       "      <td>appliedsciences health_lifescience</td>\n",
       "      <td>i fortunate enough use fairy tale stem kits cl...</td>\n",
       "      <td>725.05</td>\n",
       "    </tr>\n",
       "    <tr>\n",
       "      <th>1</th>\n",
       "      <td>ut</td>\n",
       "      <td>ms</td>\n",
       "      <td>grades_3_5</td>\n",
       "      <td>4</td>\n",
       "      <td>1</td>\n",
       "      <td>specialneeds</td>\n",
       "      <td>specialneeds</td>\n",
       "      <td>imagine 8 9 years old you third grade classroo...</td>\n",
       "      <td>213.03</td>\n",
       "    </tr>\n",
       "    <tr>\n",
       "      <th>2</th>\n",
       "      <td>ca</td>\n",
       "      <td>mrs</td>\n",
       "      <td>grades_prek_2</td>\n",
       "      <td>10</td>\n",
       "      <td>1</td>\n",
       "      <td>literacy_language</td>\n",
       "      <td>literacy</td>\n",
       "      <td>having class 24 students comes diverse learner...</td>\n",
       "      <td>329.00</td>\n",
       "    </tr>\n",
       "    <tr>\n",
       "      <th>3</th>\n",
       "      <td>ga</td>\n",
       "      <td>mrs</td>\n",
       "      <td>grades_prek_2</td>\n",
       "      <td>2</td>\n",
       "      <td>1</td>\n",
       "      <td>appliedlearning</td>\n",
       "      <td>earlydevelopment</td>\n",
       "      <td>i recently read article giving students choice...</td>\n",
       "      <td>481.04</td>\n",
       "    </tr>\n",
       "    <tr>\n",
       "      <th>4</th>\n",
       "      <td>wa</td>\n",
       "      <td>mrs</td>\n",
       "      <td>grades_3_5</td>\n",
       "      <td>2</td>\n",
       "      <td>1</td>\n",
       "      <td>literacy_language</td>\n",
       "      <td>literacy</td>\n",
       "      <td>my students crave challenge eat obstacles brea...</td>\n",
       "      <td>17.74</td>\n",
       "    </tr>\n",
       "  </tbody>\n",
       "</table>\n",
       "</div>"
      ],
      "text/plain": [
       "  school_state teacher_prefix project_grade_category  \\\n",
       "0           ca            mrs          grades_prek_2   \n",
       "1           ut             ms             grades_3_5   \n",
       "2           ca            mrs          grades_prek_2   \n",
       "3           ga            mrs          grades_prek_2   \n",
       "4           wa            mrs             grades_3_5   \n",
       "\n",
       "   teacher_number_of_previously_posted_projects  project_is_approved  \\\n",
       "0                                            53                    1   \n",
       "1                                             4                    1   \n",
       "2                                            10                    1   \n",
       "3                                             2                    1   \n",
       "4                                             2                    1   \n",
       "\n",
       "    clean_categories                 clean_subcategories  \\\n",
       "0       math_science  appliedsciences health_lifescience   \n",
       "1       specialneeds                        specialneeds   \n",
       "2  literacy_language                            literacy   \n",
       "3    appliedlearning                    earlydevelopment   \n",
       "4  literacy_language                            literacy   \n",
       "\n",
       "                                               essay   price  \n",
       "0  i fortunate enough use fairy tale stem kits cl...  725.05  \n",
       "1  imagine 8 9 years old you third grade classroo...  213.03  \n",
       "2  having class 24 students comes diverse learner...  329.00  \n",
       "3  i recently read article giving students choice...  481.04  \n",
       "4  my students crave challenge eat obstacles brea...   17.74  "
      ]
     },
     "execution_count": 2,
     "metadata": {},
     "output_type": "execute_result"
    }
   ],
   "source": [
    "data = pd.read_csv('preprocessed_data.csv',nrows=80000)\n",
    "data.head()"
   ]
  },
  {
   "cell_type": "markdown",
   "metadata": {
    "id": "WtVV13Fyb3dH"
   },
   "source": [
    "<h2>1.2 Splitting data into Train and cross validation(or test): Stratified Sampling</h2>"
   ]
  },
  {
   "cell_type": "code",
   "execution_count": 3,
   "metadata": {
    "id": "i-PyprDNb3dI"
   },
   "outputs": [
    {
     "data": {
      "text/html": [
       "<div>\n",
       "<style scoped>\n",
       "    .dataframe tbody tr th:only-of-type {\n",
       "        vertical-align: middle;\n",
       "    }\n",
       "\n",
       "    .dataframe tbody tr th {\n",
       "        vertical-align: top;\n",
       "    }\n",
       "\n",
       "    .dataframe thead th {\n",
       "        text-align: right;\n",
       "    }\n",
       "</style>\n",
       "<table border=\"1\" class=\"dataframe\">\n",
       "  <thead>\n",
       "    <tr style=\"text-align: right;\">\n",
       "      <th></th>\n",
       "      <th>school_state</th>\n",
       "      <th>teacher_prefix</th>\n",
       "      <th>project_grade_category</th>\n",
       "      <th>teacher_number_of_previously_posted_projects</th>\n",
       "      <th>clean_categories</th>\n",
       "      <th>clean_subcategories</th>\n",
       "      <th>essay</th>\n",
       "      <th>price</th>\n",
       "    </tr>\n",
       "  </thead>\n",
       "  <tbody>\n",
       "    <tr>\n",
       "      <th>0</th>\n",
       "      <td>ca</td>\n",
       "      <td>mrs</td>\n",
       "      <td>grades_prek_2</td>\n",
       "      <td>53</td>\n",
       "      <td>math_science</td>\n",
       "      <td>appliedsciences health_lifescience</td>\n",
       "      <td>i fortunate enough use fairy tale stem kits cl...</td>\n",
       "      <td>725.05</td>\n",
       "    </tr>\n",
       "    <tr>\n",
       "      <th>1</th>\n",
       "      <td>ut</td>\n",
       "      <td>ms</td>\n",
       "      <td>grades_3_5</td>\n",
       "      <td>4</td>\n",
       "      <td>specialneeds</td>\n",
       "      <td>specialneeds</td>\n",
       "      <td>imagine 8 9 years old you third grade classroo...</td>\n",
       "      <td>213.03</td>\n",
       "    </tr>\n",
       "  </tbody>\n",
       "</table>\n",
       "</div>"
      ],
      "text/plain": [
       "  school_state teacher_prefix project_grade_category  \\\n",
       "0           ca            mrs          grades_prek_2   \n",
       "1           ut             ms             grades_3_5   \n",
       "\n",
       "   teacher_number_of_previously_posted_projects clean_categories  \\\n",
       "0                                            53     math_science   \n",
       "1                                             4     specialneeds   \n",
       "\n",
       "                  clean_subcategories  \\\n",
       "0  appliedsciences health_lifescience   \n",
       "1                        specialneeds   \n",
       "\n",
       "                                               essay   price  \n",
       "0  i fortunate enough use fairy tale stem kits cl...  725.05  \n",
       "1  imagine 8 9 years old you third grade classroo...  213.03  "
      ]
     },
     "execution_count": 3,
     "metadata": {},
     "output_type": "execute_result"
    }
   ],
   "source": [
    "y=data['project_is_approved'].values\n",
    "X=data.drop(['project_is_approved'],axis=1)\n",
    "X.head(2)"
   ]
  },
  {
   "cell_type": "code",
   "execution_count": 4,
   "metadata": {},
   "outputs": [],
   "source": [
    "from sklearn.model_selection import train_test_split\n",
    "X_train,X_test,y_train,y_test=train_test_split(X,y,test_size=0.33,stratify=y)\n",
    "X_train,X_cv,y_train,y_cv=train_test_split(X_train,y_train,test_size=0.33,stratify=y_train)"
   ]
  },
  {
   "cell_type": "code",
   "execution_count": 5,
   "metadata": {},
   "outputs": [
    {
     "name": "stdout",
     "output_type": "stream",
     "text": [
      "(35912, 8) (35912,)\n",
      "(17688, 8) (17688,)\n",
      "(26400, 8) (26400,)\n"
     ]
    }
   ],
   "source": [
    "print(X_train.shape,y_train.shape)\n",
    "print(X_cv.shape,y_cv.shape)\n",
    "print(X_test.shape,y_test.shape)"
   ]
  },
  {
   "cell_type": "code",
   "execution_count": 6,
   "metadata": {},
   "outputs": [],
   "source": [
    "l=[]  #list for feature names for set1\n",
    "p=[]  #list for feature names for set1"
   ]
  },
  {
   "cell_type": "markdown",
   "metadata": {
    "id": "EnZwVNULb3dO"
   },
   "source": [
    "<h2>1.3 Make Data Model Ready: encoding eassay, and project_title</h2>"
   ]
  },
  {
   "cell_type": "code",
   "execution_count": 7,
   "metadata": {
    "id": "-SczZKiab3dR"
   },
   "outputs": [
    {
     "name": "stdout",
     "output_type": "stream",
     "text": [
      "After Count Vectorization:\n",
      "(35912, 5000) (35912,)\n",
      "(17688, 5000) (17688,)\n",
      "(26400, 5000) (26400,)\n",
      "----------------------------------------------------------------------------------------------------\n",
      "After Tfidf Vectorization:\n",
      "(35912, 5000) (35912,)\n",
      "(17688, 5000) (17688,)\n",
      "(26400, 5000) (26400,)\n",
      "----------------------------------------------------------------------------------------------------\n"
     ]
    }
   ],
   "source": [
    "vectorizer1=CountVectorizer(min_df=10,ngram_range=(1,4),max_features=5000)\n",
    "vectorizer2=TfidfVectorizer(min_df=10,ngram_range=(1,4),max_features=5000)\n",
    "\n",
    "vectorizer1.fit(X_train['essay'].values)\n",
    "vectorizer2.fit(X_train['essay'].values)\n",
    "\n",
    "l.extend(vectorizer1.get_feature_names())\n",
    "p.extend(vectorizer2.get_feature_names())\n",
    "\n",
    "X_train_essay_bow=vectorizer1.transform(X_train['essay'].values)\n",
    "X_test_essay_bow=vectorizer1.transform(X_test['essay'].values)\n",
    "X_cv_essay_bow=vectorizer1.transform(X_cv['essay'].values)\n",
    "\n",
    "print('After Count Vectorization:')\n",
    "print(X_train_essay_bow.shape,y_train.shape)\n",
    "print(X_cv_essay_bow.shape,y_cv.shape)\n",
    "print(X_test_essay_bow.shape,y_test.shape)\n",
    "print('-'*100)\n",
    "\n",
    "X_train_essay_tfidf=vectorizer2.transform(X_train['essay'].values)\n",
    "X_test_essay_tfidf=vectorizer2.transform(X_test['essay'].values)\n",
    "X_cv_essay_tfidf=vectorizer2.transform(X_cv['essay'].values)\n",
    "\n",
    "print('After Tfidf Vectorization:')\n",
    "print(X_train_essay_tfidf.shape,y_train.shape)\n",
    "print(X_cv_essay_tfidf.shape,y_cv.shape)\n",
    "print(X_test_essay_tfidf.shape,y_test.shape)\n",
    "print('-'*100)"
   ]
  },
  {
   "cell_type": "markdown",
   "metadata": {
    "id": "bGy86kgHb3dX"
   },
   "source": [
    "<h2>1.4 Make Data Model Ready: encoding numerical, categorical features</h2>"
   ]
  },
  {
   "cell_type": "markdown",
   "metadata": {},
   "source": [
    "**Encoding school_state**"
   ]
  },
  {
   "cell_type": "code",
   "execution_count": 8,
   "metadata": {
    "id": "EfXkofX1b3da"
   },
   "outputs": [
    {
     "name": "stdout",
     "output_type": "stream",
     "text": [
      "After Count Vectorization:\n",
      "(35912, 51) (35912,)\n",
      "(17688, 51) (17688,)\n",
      "(26400, 51) (26400,)\n",
      "----------------------------------------------------------------------------------------------------\n",
      "After Tfidf Vectorization:\n",
      "(35912, 51) (35912,)\n",
      "(17688, 51) (17688,)\n",
      "(26400, 51) (26400,)\n",
      "----------------------------------------------------------------------------------------------------\n"
     ]
    }
   ],
   "source": [
    "vectorization1=CountVectorizer()\n",
    "vectorization2=TfidfVectorizer()\n",
    "\n",
    "vectorizer1.fit(X_train['school_state'].values)\n",
    "vectorizer2.fit(X_train['school_state'].values)\n",
    "\n",
    "l.extend(vectorizer1.get_feature_names())\n",
    "p.extend(vectorizer2.get_feature_names())\n",
    "\n",
    "X_train_school_bow=vectorizer1.transform(X_train['school_state'].values)\n",
    "X_test_school_bow=vectorizer1.transform(X_test['school_state'].values)\n",
    "X_cv_school_bow=vectorizer1.transform(X_cv['school_state'].values)\n",
    "\n",
    "print('After Count Vectorization:')\n",
    "print(X_train_school_bow.shape,y_train.shape)\n",
    "print(X_cv_school_bow.shape,y_cv.shape)\n",
    "print(X_test_school_bow.shape,y_test.shape)\n",
    "print('-'*100)\n",
    "\n",
    "X_train_school_tfidf=vectorizer2.transform(X_train['school_state'].values)\n",
    "X_test_school_tfidf=vectorizer2.transform(X_test['school_state'].values)\n",
    "X_cv_school_tfidf=vectorizer2.transform(X_cv['school_state'].values)\n",
    "\n",
    "print('After Tfidf Vectorization:')\n",
    "print(X_train_school_tfidf.shape,y_train.shape)\n",
    "print(X_cv_school_tfidf.shape,y_cv.shape)\n",
    "print(X_test_school_tfidf.shape,y_test.shape)\n",
    "print('-'*100)"
   ]
  },
  {
   "cell_type": "markdown",
   "metadata": {},
   "source": [
    "**Encoding teacher_prefix**"
   ]
  },
  {
   "cell_type": "code",
   "execution_count": 9,
   "metadata": {},
   "outputs": [
    {
     "name": "stdout",
     "output_type": "stream",
     "text": [
      "After Count Vectorization:\n",
      "(35912, 5) (35912,)\n",
      "(17688, 5) (17688,)\n",
      "(26400, 5) (26400,)\n",
      "----------------------------------------------------------------------------------------------------\n",
      "After Tfidf Vectorization:\n",
      "(35912, 5) (35912,)\n",
      "(17688, 5) (17688,)\n",
      "(26400, 5) (26400,)\n",
      "----------------------------------------------------------------------------------------------------\n"
     ]
    }
   ],
   "source": [
    "vectorizer1=CountVectorizer()\n",
    "vectorizer2=TfidfVectorizer()\n",
    "\n",
    "vectorizer1.fit(X_train['teacher_prefix'].values)\n",
    "vectorizer2.fit(X_train['teacher_prefix'].values)\n",
    "\n",
    "l.extend(vectorizer1.get_feature_names())\n",
    "p.extend(vectorizer2.get_feature_names())\n",
    "\n",
    "X_train_teacher_bow=vectorizer1.transform(X_train['teacher_prefix'].values)\n",
    "X_test_teacher_bow=vectorizer1.transform(X_test['teacher_prefix'].values)\n",
    "X_cv_teacher_bow=vectorizer1.transform(X_cv['teacher_prefix'].values)\n",
    "\n",
    "print('After Count Vectorization:')\n",
    "print(X_train_teacher_bow.shape,y_train.shape)\n",
    "print(X_cv_teacher_bow.shape,y_cv.shape)\n",
    "print(X_test_teacher_bow.shape,y_test.shape)\n",
    "print('-'*100)\n",
    "\n",
    "X_train_teacher_tfidf=vectorizer2.transform(X_train['teacher_prefix'].values)\n",
    "X_test_teacher_tfidf=vectorizer2.transform(X_test['teacher_prefix'].values)\n",
    "X_cv_teacher_tfidf=vectorizer2.transform(X_cv['teacher_prefix'].values)\n",
    "\n",
    "print('After Tfidf Vectorization:')\n",
    "print(X_train_teacher_tfidf.shape,y_train.shape)\n",
    "print(X_cv_teacher_tfidf.shape,y_cv.shape)\n",
    "print(X_test_teacher_tfidf.shape,y_test.shape)\n",
    "print('-'*100)"
   ]
  },
  {
   "cell_type": "markdown",
   "metadata": {},
   "source": [
    "**Encoding project_grade_category**"
   ]
  },
  {
   "cell_type": "code",
   "execution_count": 10,
   "metadata": {},
   "outputs": [
    {
     "name": "stdout",
     "output_type": "stream",
     "text": [
      "After Count Vectorization:\n",
      "(35912, 4) (35912,)\n",
      "(17688, 4) (17688,)\n",
      "(26400, 4) (26400,)\n",
      "----------------------------------------------------------------------------------------------------\n",
      "After Tfidf Vectorization:\n",
      "(35912, 4) (35912,)\n",
      "(17688, 4) (17688,)\n",
      "(26400, 4) (26400,)\n",
      "----------------------------------------------------------------------------------------------------\n"
     ]
    }
   ],
   "source": [
    "vectorization1=CountVectorizer()\n",
    "vectorization2=TfidfVectorizer()\n",
    "\n",
    "vectorizer1.fit(X_train['project_grade_category'].values)\n",
    "vectorizer2.fit(X_train['project_grade_category'].values)\n",
    "\n",
    "l.extend(vectorizer1.get_feature_names())\n",
    "p.extend(vectorizer2.get_feature_names())\n",
    "\n",
    "X_train_grade_bow=vectorizer1.transform(X_train['project_grade_category'].values)\n",
    "X_test_grade_bow=vectorizer1.transform(X_test['project_grade_category'].values)\n",
    "X_cv_grade_bow=vectorizer1.transform(X_cv['project_grade_category'].values)\n",
    "\n",
    "print('After Count Vectorization:')\n",
    "print(X_train_grade_bow.shape,y_train.shape)\n",
    "print(X_cv_grade_bow.shape,y_cv.shape)\n",
    "print(X_test_grade_bow.shape,y_test.shape)\n",
    "print('-'*100)\n",
    "\n",
    "X_train_grade_tfidf=vectorizer2.transform(X_train['project_grade_category'].values)\n",
    "X_test_grade_tfidf=vectorizer2.transform(X_test['project_grade_category'].values)\n",
    "X_cv_grade_tfidf=vectorizer2.transform(X_cv['project_grade_category'].values)\n",
    "\n",
    "print('After Tfidf Vectorization:')\n",
    "print(X_train_grade_tfidf.shape,y_train.shape)\n",
    "print(X_cv_grade_tfidf.shape,y_cv.shape)\n",
    "print(X_test_grade_tfidf.shape,y_test.shape)\n",
    "print('-'*100)"
   ]
  },
  {
   "cell_type": "markdown",
   "metadata": {},
   "source": [
    "**Encoding clean_categories**"
   ]
  },
  {
   "cell_type": "code",
   "execution_count": 11,
   "metadata": {},
   "outputs": [
    {
     "name": "stdout",
     "output_type": "stream",
     "text": [
      "After Count Vectorization:\n",
      "(35912, 9) (35912,)\n",
      "(17688, 9) (17688,)\n",
      "(26400, 9) (26400,)\n",
      "----------------------------------------------------------------------------------------------------\n",
      "After Tfidf Vectorization:\n",
      "(35912, 9) (35912,)\n",
      "(17688, 9) (17688,)\n",
      "(26400, 9) (26400,)\n",
      "----------------------------------------------------------------------------------------------------\n"
     ]
    }
   ],
   "source": [
    "vectorization1=CountVectorizer()\n",
    "vectorization2=TfidfVectorizer()\n",
    "\n",
    "vectorizer1.fit(X_train['clean_categories'].values)\n",
    "vectorizer2.fit(X_train['clean_categories'].values)\n",
    "\n",
    "l.extend(vectorizer1.get_feature_names())\n",
    "p.extend(vectorizer2.get_feature_names())\n",
    "\n",
    "X_train_cat_bow=vectorizer1.transform(X_train['clean_categories'].values)\n",
    "X_test_cat_bow=vectorizer1.transform(X_test['clean_categories'].values)\n",
    "X_cv_cat_bow=vectorizer1.transform(X_cv['clean_categories'].values)\n",
    "\n",
    "print('After Count Vectorization:')\n",
    "print(X_train_cat_bow.shape,y_train.shape)\n",
    "print(X_cv_cat_bow.shape,y_cv.shape)\n",
    "print(X_test_cat_bow.shape,y_test.shape)\n",
    "print('-'*100)\n",
    "\n",
    "X_train_cat_tfidf=vectorizer2.transform(X_train['clean_categories'].values)\n",
    "X_test_cat_tfidf=vectorizer2.transform(X_test['clean_categories'].values)\n",
    "X_cv_cat_tfidf=vectorizer2.transform(X_cv['clean_categories'].values)\n",
    "\n",
    "print('After Tfidf Vectorization:')\n",
    "print(X_train_cat_tfidf.shape,y_train.shape)\n",
    "print(X_cv_cat_tfidf.shape,y_cv.shape)\n",
    "print(X_test_cat_tfidf.shape,y_test.shape)\n",
    "print('-'*100)"
   ]
  },
  {
   "cell_type": "markdown",
   "metadata": {},
   "source": [
    "**Encoding clean_subcategories**"
   ]
  },
  {
   "cell_type": "code",
   "execution_count": 12,
   "metadata": {},
   "outputs": [
    {
     "name": "stdout",
     "output_type": "stream",
     "text": [
      "After Count Vectorization:\n",
      "(35912, 30) (35912,)\n",
      "(17688, 30) (17688,)\n",
      "(26400, 30) (26400,)\n",
      "----------------------------------------------------------------------------------------------------\n",
      "After Tfidf Vectorization:\n",
      "(35912, 30) (35912,)\n",
      "(17688, 30) (17688,)\n",
      "(26400, 30) (26400,)\n",
      "----------------------------------------------------------------------------------------------------\n"
     ]
    }
   ],
   "source": [
    "vectorization1=CountVectorizer()\n",
    "vectorization2=TfidfVectorizer()\n",
    "\n",
    "vectorizer1.fit(X_train['clean_subcategories'].values)\n",
    "vectorizer2.fit(X_train['clean_subcategories'].values)\n",
    "\n",
    "l.extend(vectorizer1.get_feature_names())\n",
    "p.extend(vectorizer2.get_feature_names())\n",
    "\n",
    "X_train_subcat_bow=vectorizer1.transform(X_train['clean_subcategories'].values)\n",
    "X_test_subcat_bow=vectorizer1.transform(X_test['clean_subcategories'].values)\n",
    "X_cv_subcat_bow=vectorizer1.transform(X_cv['clean_subcategories'].values)\n",
    "\n",
    "print('After Count Vectorization:')\n",
    "print(X_train_subcat_bow.shape,y_train.shape)\n",
    "print(X_cv_subcat_bow.shape,y_cv.shape)\n",
    "print(X_test_subcat_bow.shape,y_test.shape)\n",
    "print('-'*100)\n",
    "\n",
    "X_train_subcat_tfidf=vectorizer2.transform(X_train['clean_subcategories'].values)\n",
    "X_test_subcat_tfidf=vectorizer2.transform(X_test['clean_subcategories'].values)\n",
    "X_cv_subcat_tfidf=vectorizer2.transform(X_cv['clean_subcategories'].values)\n",
    "\n",
    "print('After Tfidf Vectorization:')\n",
    "print(X_train_subcat_tfidf.shape,y_train.shape)\n",
    "print(X_cv_subcat_tfidf.shape,y_cv.shape)\n",
    "print(X_test_subcat_tfidf.shape,y_test.shape)\n",
    "print('-'*100)"
   ]
  },
  {
   "cell_type": "markdown",
   "metadata": {},
   "source": [
    "**Encoding price**"
   ]
  },
  {
   "cell_type": "code",
   "execution_count": 13,
   "metadata": {},
   "outputs": [
    {
     "name": "stdout",
     "output_type": "stream",
     "text": [
      "After Normalization:\n",
      "(35912, 1) (35912,)\n",
      "(17688, 1) (17688,)\n",
      "(26400, 1) (26400,)\n",
      "----------------------------------------------------------------------------------------------------\n"
     ]
    }
   ],
   "source": [
    "from sklearn.preprocessing import Normalizer\n",
    "normalizer=Normalizer()\n",
    "\n",
    "normalizer.fit(X_train['price'].values.reshape(1,-1))\n",
    "\n",
    "l.append('price')\n",
    "p.append('price')\n",
    "\n",
    "X_train_price_norm=normalizer.transform(X_train['price'].values.reshape(1,-1))\n",
    "X_cv_price_norm=normalizer.transform(X_cv['price'].values.reshape(1,-1))\n",
    "X_test_price_norm=normalizer.transform(X_test['price'].values.reshape(1,-1))\n",
    "\n",
    "X_train_price_norm=X_train_price_norm.T\n",
    "X_cv_price_norm=X_cv_price_norm.T\n",
    "X_test_price_norm=X_test_price_norm.T\n",
    "\n",
    "print('After Normalization:')\n",
    "print(X_train_price_norm.shape,y_train.shape)\n",
    "print(X_cv_price_norm.shape,y_cv.shape)\n",
    "print(X_test_price_norm.shape,y_test.shape)\n",
    "print('-'*100)"
   ]
  },
  {
   "cell_type": "markdown",
   "metadata": {},
   "source": [
    "**Encoding teacher_number_of_previously_posted_projects**"
   ]
  },
  {
   "cell_type": "code",
   "execution_count": 14,
   "metadata": {},
   "outputs": [
    {
     "name": "stdout",
     "output_type": "stream",
     "text": [
      "After Normalization:\n",
      "(35912, 1) (35912,)\n",
      "(17688, 1) (17688,)\n",
      "(26400, 1) (26400,)\n",
      "----------------------------------------------------------------------------------------------------\n"
     ]
    }
   ],
   "source": [
    "from sklearn.preprocessing import Normalizer\n",
    "normalizer=Normalizer()\n",
    "\n",
    "normalizer.fit(X_train['teacher_number_of_previously_posted_projects'].values.reshape(1,-1))\n",
    "\n",
    "l.append('teacher_number_of_previously_posted_projects')\n",
    "p.append('teacher_number_of_previously_posted_projects')\n",
    "\n",
    "X_train_ppp_norm=normalizer.transform(X_train['teacher_number_of_previously_posted_projects'].values.reshape(1,-1))\n",
    "X_cv_ppp_norm=normalizer.transform(X_cv['teacher_number_of_previously_posted_projects'].values.reshape(1,-1))\n",
    "X_test_ppp_norm=normalizer.transform(X_test['teacher_number_of_previously_posted_projects'].values.reshape(1,-1))\n",
    "\n",
    "X_train_ppp_norm=X_train_ppp_norm.T\n",
    "X_cv_ppp_norm=X_cv_ppp_norm.T\n",
    "X_test_ppp_norm=X_test_ppp_norm.T\n",
    "\n",
    "print('After Normalization:')\n",
    "print(X_train_ppp_norm.shape,y_train.shape)\n",
    "print(X_cv_ppp_norm.shape,y_cv.shape)\n",
    "print(X_test_ppp_norm.shape,y_test.shape)\n",
    "print('-'*100)"
   ]
  },
  {
   "cell_type": "markdown",
   "metadata": {},
   "source": [
    "**Concatenating all the features**"
   ]
  },
  {
   "cell_type": "code",
   "execution_count": 15,
   "metadata": {},
   "outputs": [
    {
     "name": "stdout",
     "output_type": "stream",
     "text": [
      "Final Data matrix for BOW\n",
      "(35912, 5101) (35912,)\n",
      "(17688, 5101) (17688,)\n",
      "(26400, 5101) (26400,)\n",
      "----------------------------------------------------------------------------------------------------\n",
      "Final Data matrix for Tfidf\n",
      "(35912, 5101) (35912,)\n",
      "(17688, 5101) (17688,)\n",
      "(26400, 5101) (26400,)\n",
      "----------------------------------------------------------------------------------------------------\n"
     ]
    }
   ],
   "source": [
    "from scipy.sparse import hstack\n",
    "\n",
    "#1 for Bag of Words\n",
    "X_tr1=hstack((X_train_essay_bow,X_train_school_bow,X_train_teacher_bow,X_train_grade_bow,X_train_cat_bow,X_train_subcat_bow,X_train_price_norm,X_train_ppp_norm)).tocsr()\n",
    "X_cv1=hstack((X_cv_essay_bow,X_cv_school_bow,X_cv_teacher_bow,X_cv_grade_bow,X_cv_cat_bow,X_cv_subcat_bow,X_cv_price_norm,X_cv_ppp_norm)).tocsr()\n",
    "X_te1=hstack((X_test_essay_bow,X_test_school_bow,X_test_teacher_bow,X_test_grade_bow,X_test_cat_bow,X_test_subcat_bow,X_test_price_norm,X_test_ppp_norm)).tocsr()\n",
    "\n",
    "#2 for Tfidf\n",
    "X_tr2=hstack((X_train_essay_tfidf,X_train_school_tfidf,X_train_teacher_tfidf,X_train_grade_tfidf,X_train_cat_tfidf,X_train_subcat_tfidf,X_train_price_norm,X_train_ppp_norm)).tocsr()\n",
    "X_cv2=hstack((X_cv_essay_tfidf,X_cv_school_tfidf,X_cv_teacher_tfidf,X_cv_grade_tfidf,X_cv_cat_tfidf,X_cv_subcat_tfidf,X_cv_price_norm,X_cv_ppp_norm)).tocsr()\n",
    "X_te2=hstack((X_test_essay_tfidf,X_test_school_tfidf,X_test_teacher_tfidf,X_test_grade_tfidf,X_test_cat_tfidf,X_test_subcat_tfidf,X_test_price_norm,X_test_ppp_norm)).tocsr()\n",
    "\n",
    "print('Final Data matrix for BOW')\n",
    "print(X_tr1.shape,y_train.shape)\n",
    "print(X_cv1.shape,y_cv.shape)\n",
    "print(X_te1.shape,y_test.shape)\n",
    "print('-'*100)\n",
    "\n",
    "print('Final Data matrix for Tfidf')\n",
    "print(X_tr2.shape,y_train.shape)\n",
    "print(X_cv2.shape,y_cv.shape)\n",
    "print(X_te2.shape,y_test.shape)\n",
    "print('-'*100)"
   ]
  },
  {
   "cell_type": "markdown",
   "metadata": {
    "id": "yYHPYadYb3dh"
   },
   "source": [
    "<h2>1.5 Appling NB on different kind of featurization as mentioned in the instructions</h2>\n",
    "\n",
    "<br>Apply NB on different kind of featurization as mentioned in the instructions\n",
    "<br> For Every model that you work on make sure you do the step 2 and step 3 of instrucations"
   ]
  },
  {
   "cell_type": "code",
   "execution_count": 16,
   "metadata": {
    "id": "DNwqilFxb3di"
   },
   "outputs": [
    {
     "name": "stdout",
     "output_type": "stream",
     "text": [
      "(53600, 5101) (53600, 5101) (53600,)\n"
     ]
    }
   ],
   "source": [
    "from scipy.sparse import vstack\n",
    "\n",
    "#Merging Train and CV data as we are using RandomSearchCV\n",
    "X_train_set1=vstack((X_tr1,X_cv1)).tocsr()\n",
    "X_train_set2=vstack((X_tr2,X_cv2)).tocsr()\n",
    "\n",
    "y_train=np.append(y_train,y_cv)\n",
    "print(X_train_set1.shape,X_train_set2.shape,y_train.shape)"
   ]
  },
  {
   "cell_type": "markdown",
   "metadata": {},
   "source": [
    "<h1> Using Class prior probabilities"
   ]
  },
  {
   "cell_type": "code",
   "execution_count": 17,
   "metadata": {},
   "outputs": [],
   "source": [
    "from sklearn.model_selection import RandomizedSearchCV\n",
    "from sklearn.naive_bayes import MultinomialNB\n",
    "\n",
    "parameters={'alpha':[0.00001,0.0005, 0.0001,0.005,0.001,0.05,0.01,0.1,0.5,1,5,10,50,100]}\n",
    "neigh=MultinomialNB(fit_prior=False,class_prior=[0.5,0.5])\n",
    "#print(neigh.get_params().keys())\n",
    "clf1=RandomizedSearchCV(neigh,parameters,scoring='roc_auc',cv=5,n_jobs=-1,return_train_score=True)\n",
    "clf1.fit(X_train_set1,y_train)\n",
    "\n",
    "clf2=RandomizedSearchCV(neigh,parameters,scoring='roc_auc',cv=5,n_jobs=-1,return_train_score=True)\n",
    "clf2.fit(X_train_set2,y_train)\n",
    "\n",
    "results1=pd.DataFrame.from_dict(clf1.cv_results_)\n",
    "results1=results1.sort_values(['param_alpha'])\n",
    "\n",
    "results2=pd.DataFrame.from_dict(clf2.cv_results_)\n",
    "results2=results2.sort_values(['param_alpha'])\n",
    "\n",
    "train_auc1=results1['mean_train_score']\n",
    "train_auc_std1=results1['std_train_score']\n",
    "cv_auc1=results1['mean_test_score']\n",
    "cv_auc_std1=results1['std_test_score']\n",
    "alpha1=results1['param_alpha']\n",
    "train_auc2=results2['mean_train_score']\n",
    "train_auc_std2=results2['std_train_score']\n",
    "cv_auc2=results2['mean_test_score']\n",
    "cv_auc_std2=results2['std_test_score']\n",
    "alpha2=results2['param_alpha']"
   ]
  },
  {
   "cell_type": "code",
   "execution_count": 18,
   "metadata": {},
   "outputs": [
    {
     "data": {
      "text/html": [
       "<div>\n",
       "<style scoped>\n",
       "    .dataframe tbody tr th:only-of-type {\n",
       "        vertical-align: middle;\n",
       "    }\n",
       "\n",
       "    .dataframe tbody tr th {\n",
       "        vertical-align: top;\n",
       "    }\n",
       "\n",
       "    .dataframe thead th {\n",
       "        text-align: right;\n",
       "    }\n",
       "</style>\n",
       "<table border=\"1\" class=\"dataframe\">\n",
       "  <thead>\n",
       "    <tr style=\"text-align: right;\">\n",
       "      <th></th>\n",
       "      <th>mean_fit_time</th>\n",
       "      <th>std_fit_time</th>\n",
       "      <th>mean_score_time</th>\n",
       "      <th>std_score_time</th>\n",
       "      <th>param_alpha</th>\n",
       "      <th>params</th>\n",
       "      <th>split0_test_score</th>\n",
       "      <th>split1_test_score</th>\n",
       "      <th>split2_test_score</th>\n",
       "      <th>split3_test_score</th>\n",
       "      <th>...</th>\n",
       "      <th>mean_test_score</th>\n",
       "      <th>std_test_score</th>\n",
       "      <th>rank_test_score</th>\n",
       "      <th>split0_train_score</th>\n",
       "      <th>split1_train_score</th>\n",
       "      <th>split2_train_score</th>\n",
       "      <th>split3_train_score</th>\n",
       "      <th>split4_train_score</th>\n",
       "      <th>mean_train_score</th>\n",
       "      <th>std_train_score</th>\n",
       "    </tr>\n",
       "  </thead>\n",
       "  <tbody>\n",
       "    <tr>\n",
       "      <th>6</th>\n",
       "      <td>0.183772</td>\n",
       "      <td>0.006663</td>\n",
       "      <td>0.017948</td>\n",
       "      <td>0.007345</td>\n",
       "      <td>0.00001</td>\n",
       "      <td>{'alpha': 1e-05}</td>\n",
       "      <td>0.682236</td>\n",
       "      <td>0.682997</td>\n",
       "      <td>0.689319</td>\n",
       "      <td>0.701343</td>\n",
       "      <td>...</td>\n",
       "      <td>0.687622</td>\n",
       "      <td>0.007359</td>\n",
       "      <td>1</td>\n",
       "      <td>0.725901</td>\n",
       "      <td>0.728248</td>\n",
       "      <td>0.724063</td>\n",
       "      <td>0.724348</td>\n",
       "      <td>0.726152</td>\n",
       "      <td>0.725742</td>\n",
       "      <td>0.001499</td>\n",
       "    </tr>\n",
       "    <tr>\n",
       "      <th>3</th>\n",
       "      <td>0.216220</td>\n",
       "      <td>0.008435</td>\n",
       "      <td>0.045181</td>\n",
       "      <td>0.015459</td>\n",
       "      <td>0.00010</td>\n",
       "      <td>{'alpha': 0.0001}</td>\n",
       "      <td>0.682234</td>\n",
       "      <td>0.682997</td>\n",
       "      <td>0.689308</td>\n",
       "      <td>0.701343</td>\n",
       "      <td>...</td>\n",
       "      <td>0.687619</td>\n",
       "      <td>0.007359</td>\n",
       "      <td>2</td>\n",
       "      <td>0.725898</td>\n",
       "      <td>0.728245</td>\n",
       "      <td>0.724062</td>\n",
       "      <td>0.724345</td>\n",
       "      <td>0.726138</td>\n",
       "      <td>0.725738</td>\n",
       "      <td>0.001498</td>\n",
       "    </tr>\n",
       "    <tr>\n",
       "      <th>8</th>\n",
       "      <td>0.164330</td>\n",
       "      <td>0.003303</td>\n",
       "      <td>0.024127</td>\n",
       "      <td>0.009362</td>\n",
       "      <td>0.00050</td>\n",
       "      <td>{'alpha': 0.0005}</td>\n",
       "      <td>0.682230</td>\n",
       "      <td>0.682997</td>\n",
       "      <td>0.689298</td>\n",
       "      <td>0.701343</td>\n",
       "      <td>...</td>\n",
       "      <td>0.687617</td>\n",
       "      <td>0.007359</td>\n",
       "      <td>3</td>\n",
       "      <td>0.725895</td>\n",
       "      <td>0.728242</td>\n",
       "      <td>0.724060</td>\n",
       "      <td>0.724342</td>\n",
       "      <td>0.726124</td>\n",
       "      <td>0.725733</td>\n",
       "      <td>0.001497</td>\n",
       "    </tr>\n",
       "    <tr>\n",
       "      <th>2</th>\n",
       "      <td>0.238317</td>\n",
       "      <td>0.003478</td>\n",
       "      <td>0.021071</td>\n",
       "      <td>0.007182</td>\n",
       "      <td>0.00100</td>\n",
       "      <td>{'alpha': 0.001}</td>\n",
       "      <td>0.682228</td>\n",
       "      <td>0.682996</td>\n",
       "      <td>0.689293</td>\n",
       "      <td>0.701344</td>\n",
       "      <td>...</td>\n",
       "      <td>0.687615</td>\n",
       "      <td>0.007359</td>\n",
       "      <td>4</td>\n",
       "      <td>0.725894</td>\n",
       "      <td>0.728240</td>\n",
       "      <td>0.724058</td>\n",
       "      <td>0.724340</td>\n",
       "      <td>0.726117</td>\n",
       "      <td>0.725730</td>\n",
       "      <td>0.001497</td>\n",
       "    </tr>\n",
       "    <tr>\n",
       "      <th>1</th>\n",
       "      <td>0.258570</td>\n",
       "      <td>0.021326</td>\n",
       "      <td>0.033332</td>\n",
       "      <td>0.000720</td>\n",
       "      <td>0.00500</td>\n",
       "      <td>{'alpha': 0.005}</td>\n",
       "      <td>0.682221</td>\n",
       "      <td>0.682995</td>\n",
       "      <td>0.689281</td>\n",
       "      <td>0.701341</td>\n",
       "      <td>...</td>\n",
       "      <td>0.687610</td>\n",
       "      <td>0.007359</td>\n",
       "      <td>5</td>\n",
       "      <td>0.725887</td>\n",
       "      <td>0.728233</td>\n",
       "      <td>0.724053</td>\n",
       "      <td>0.724333</td>\n",
       "      <td>0.726093</td>\n",
       "      <td>0.725720</td>\n",
       "      <td>0.001496</td>\n",
       "    </tr>\n",
       "  </tbody>\n",
       "</table>\n",
       "<p>5 rows × 21 columns</p>\n",
       "</div>"
      ],
      "text/plain": [
       "   mean_fit_time  std_fit_time  mean_score_time  std_score_time param_alpha  \\\n",
       "6       0.183772      0.006663         0.017948        0.007345     0.00001   \n",
       "3       0.216220      0.008435         0.045181        0.015459     0.00010   \n",
       "8       0.164330      0.003303         0.024127        0.009362     0.00050   \n",
       "2       0.238317      0.003478         0.021071        0.007182     0.00100   \n",
       "1       0.258570      0.021326         0.033332        0.000720     0.00500   \n",
       "\n",
       "              params  split0_test_score  split1_test_score  split2_test_score  \\\n",
       "6   {'alpha': 1e-05}           0.682236           0.682997           0.689319   \n",
       "3  {'alpha': 0.0001}           0.682234           0.682997           0.689308   \n",
       "8  {'alpha': 0.0005}           0.682230           0.682997           0.689298   \n",
       "2   {'alpha': 0.001}           0.682228           0.682996           0.689293   \n",
       "1   {'alpha': 0.005}           0.682221           0.682995           0.689281   \n",
       "\n",
       "   split3_test_score  ...  mean_test_score  std_test_score  rank_test_score  \\\n",
       "6           0.701343  ...         0.687622        0.007359                1   \n",
       "3           0.701343  ...         0.687619        0.007359                2   \n",
       "8           0.701343  ...         0.687617        0.007359                3   \n",
       "2           0.701344  ...         0.687615        0.007359                4   \n",
       "1           0.701341  ...         0.687610        0.007359                5   \n",
       "\n",
       "   split0_train_score  split1_train_score  split2_train_score  \\\n",
       "6            0.725901            0.728248            0.724063   \n",
       "3            0.725898            0.728245            0.724062   \n",
       "8            0.725895            0.728242            0.724060   \n",
       "2            0.725894            0.728240            0.724058   \n",
       "1            0.725887            0.728233            0.724053   \n",
       "\n",
       "   split3_train_score  split4_train_score  mean_train_score  std_train_score  \n",
       "6            0.724348            0.726152          0.725742         0.001499  \n",
       "3            0.724345            0.726138          0.725738         0.001498  \n",
       "8            0.724342            0.726124          0.725733         0.001497  \n",
       "2            0.724340            0.726117          0.725730         0.001497  \n",
       "1            0.724333            0.726093          0.725720         0.001496  \n",
       "\n",
       "[5 rows x 21 columns]"
      ]
     },
     "execution_count": 18,
     "metadata": {},
     "output_type": "execute_result"
    }
   ],
   "source": [
    "results1.head()"
   ]
  },
  {
   "cell_type": "code",
   "execution_count": 19,
   "metadata": {},
   "outputs": [
    {
     "data": {
      "text/html": [
       "<div>\n",
       "<style scoped>\n",
       "    .dataframe tbody tr th:only-of-type {\n",
       "        vertical-align: middle;\n",
       "    }\n",
       "\n",
       "    .dataframe tbody tr th {\n",
       "        vertical-align: top;\n",
       "    }\n",
       "\n",
       "    .dataframe thead th {\n",
       "        text-align: right;\n",
       "    }\n",
       "</style>\n",
       "<table border=\"1\" class=\"dataframe\">\n",
       "  <thead>\n",
       "    <tr style=\"text-align: right;\">\n",
       "      <th></th>\n",
       "      <th>mean_fit_time</th>\n",
       "      <th>std_fit_time</th>\n",
       "      <th>mean_score_time</th>\n",
       "      <th>std_score_time</th>\n",
       "      <th>param_alpha</th>\n",
       "      <th>params</th>\n",
       "      <th>split0_test_score</th>\n",
       "      <th>split1_test_score</th>\n",
       "      <th>split2_test_score</th>\n",
       "      <th>split3_test_score</th>\n",
       "      <th>...</th>\n",
       "      <th>mean_test_score</th>\n",
       "      <th>std_test_score</th>\n",
       "      <th>rank_test_score</th>\n",
       "      <th>split0_train_score</th>\n",
       "      <th>split1_train_score</th>\n",
       "      <th>split2_train_score</th>\n",
       "      <th>split3_train_score</th>\n",
       "      <th>split4_train_score</th>\n",
       "      <th>mean_train_score</th>\n",
       "      <th>std_train_score</th>\n",
       "    </tr>\n",
       "  </thead>\n",
       "  <tbody>\n",
       "    <tr>\n",
       "      <th>2</th>\n",
       "      <td>0.239793</td>\n",
       "      <td>0.012821</td>\n",
       "      <td>0.025470</td>\n",
       "      <td>0.015511</td>\n",
       "      <td>0.00001</td>\n",
       "      <td>{'alpha': 1e-05}</td>\n",
       "      <td>0.662728</td>\n",
       "      <td>0.672743</td>\n",
       "      <td>0.676701</td>\n",
       "      <td>0.676361</td>\n",
       "      <td>...</td>\n",
       "      <td>0.671234</td>\n",
       "      <td>0.005362</td>\n",
       "      <td>1</td>\n",
       "      <td>0.711385</td>\n",
       "      <td>0.714595</td>\n",
       "      <td>0.709940</td>\n",
       "      <td>0.710302</td>\n",
       "      <td>0.711909</td>\n",
       "      <td>0.711626</td>\n",
       "      <td>0.001646</td>\n",
       "    </tr>\n",
       "    <tr>\n",
       "      <th>1</th>\n",
       "      <td>0.229534</td>\n",
       "      <td>0.029180</td>\n",
       "      <td>0.036278</td>\n",
       "      <td>0.026810</td>\n",
       "      <td>0.00010</td>\n",
       "      <td>{'alpha': 0.0001}</td>\n",
       "      <td>0.662727</td>\n",
       "      <td>0.672743</td>\n",
       "      <td>0.676701</td>\n",
       "      <td>0.676360</td>\n",
       "      <td>...</td>\n",
       "      <td>0.671233</td>\n",
       "      <td>0.005362</td>\n",
       "      <td>2</td>\n",
       "      <td>0.711384</td>\n",
       "      <td>0.714594</td>\n",
       "      <td>0.709939</td>\n",
       "      <td>0.710301</td>\n",
       "      <td>0.711909</td>\n",
       "      <td>0.711625</td>\n",
       "      <td>0.001646</td>\n",
       "    </tr>\n",
       "    <tr>\n",
       "      <th>7</th>\n",
       "      <td>0.206545</td>\n",
       "      <td>0.009309</td>\n",
       "      <td>0.036139</td>\n",
       "      <td>0.014896</td>\n",
       "      <td>0.00050</td>\n",
       "      <td>{'alpha': 0.0005}</td>\n",
       "      <td>0.662725</td>\n",
       "      <td>0.672739</td>\n",
       "      <td>0.676698</td>\n",
       "      <td>0.676356</td>\n",
       "      <td>...</td>\n",
       "      <td>0.671230</td>\n",
       "      <td>0.005361</td>\n",
       "      <td>3</td>\n",
       "      <td>0.711380</td>\n",
       "      <td>0.714590</td>\n",
       "      <td>0.709935</td>\n",
       "      <td>0.710297</td>\n",
       "      <td>0.711905</td>\n",
       "      <td>0.711621</td>\n",
       "      <td>0.001646</td>\n",
       "    </tr>\n",
       "    <tr>\n",
       "      <th>6</th>\n",
       "      <td>0.187957</td>\n",
       "      <td>0.026899</td>\n",
       "      <td>0.018500</td>\n",
       "      <td>0.007328</td>\n",
       "      <td>0.00100</td>\n",
       "      <td>{'alpha': 0.001}</td>\n",
       "      <td>0.662723</td>\n",
       "      <td>0.672736</td>\n",
       "      <td>0.676695</td>\n",
       "      <td>0.676353</td>\n",
       "      <td>...</td>\n",
       "      <td>0.671227</td>\n",
       "      <td>0.005361</td>\n",
       "      <td>4</td>\n",
       "      <td>0.711375</td>\n",
       "      <td>0.714585</td>\n",
       "      <td>0.709930</td>\n",
       "      <td>0.710292</td>\n",
       "      <td>0.711900</td>\n",
       "      <td>0.711617</td>\n",
       "      <td>0.001646</td>\n",
       "    </tr>\n",
       "    <tr>\n",
       "      <th>4</th>\n",
       "      <td>0.216460</td>\n",
       "      <td>0.023233</td>\n",
       "      <td>0.026179</td>\n",
       "      <td>0.016682</td>\n",
       "      <td>0.00500</td>\n",
       "      <td>{'alpha': 0.005}</td>\n",
       "      <td>0.662702</td>\n",
       "      <td>0.672709</td>\n",
       "      <td>0.676664</td>\n",
       "      <td>0.676315</td>\n",
       "      <td>...</td>\n",
       "      <td>0.671200</td>\n",
       "      <td>0.005356</td>\n",
       "      <td>5</td>\n",
       "      <td>0.711335</td>\n",
       "      <td>0.714547</td>\n",
       "      <td>0.709892</td>\n",
       "      <td>0.710255</td>\n",
       "      <td>0.711863</td>\n",
       "      <td>0.711578</td>\n",
       "      <td>0.001646</td>\n",
       "    </tr>\n",
       "  </tbody>\n",
       "</table>\n",
       "<p>5 rows × 21 columns</p>\n",
       "</div>"
      ],
      "text/plain": [
       "   mean_fit_time  std_fit_time  mean_score_time  std_score_time param_alpha  \\\n",
       "2       0.239793      0.012821         0.025470        0.015511     0.00001   \n",
       "1       0.229534      0.029180         0.036278        0.026810     0.00010   \n",
       "7       0.206545      0.009309         0.036139        0.014896     0.00050   \n",
       "6       0.187957      0.026899         0.018500        0.007328     0.00100   \n",
       "4       0.216460      0.023233         0.026179        0.016682     0.00500   \n",
       "\n",
       "              params  split0_test_score  split1_test_score  split2_test_score  \\\n",
       "2   {'alpha': 1e-05}           0.662728           0.672743           0.676701   \n",
       "1  {'alpha': 0.0001}           0.662727           0.672743           0.676701   \n",
       "7  {'alpha': 0.0005}           0.662725           0.672739           0.676698   \n",
       "6   {'alpha': 0.001}           0.662723           0.672736           0.676695   \n",
       "4   {'alpha': 0.005}           0.662702           0.672709           0.676664   \n",
       "\n",
       "   split3_test_score  ...  mean_test_score  std_test_score  rank_test_score  \\\n",
       "2           0.676361  ...         0.671234        0.005362                1   \n",
       "1           0.676360  ...         0.671233        0.005362                2   \n",
       "7           0.676356  ...         0.671230        0.005361                3   \n",
       "6           0.676353  ...         0.671227        0.005361                4   \n",
       "4           0.676315  ...         0.671200        0.005356                5   \n",
       "\n",
       "   split0_train_score  split1_train_score  split2_train_score  \\\n",
       "2            0.711385            0.714595            0.709940   \n",
       "1            0.711384            0.714594            0.709939   \n",
       "7            0.711380            0.714590            0.709935   \n",
       "6            0.711375            0.714585            0.709930   \n",
       "4            0.711335            0.714547            0.709892   \n",
       "\n",
       "   split3_train_score  split4_train_score  mean_train_score  std_train_score  \n",
       "2            0.710302            0.711909          0.711626         0.001646  \n",
       "1            0.710301            0.711909          0.711625         0.001646  \n",
       "7            0.710297            0.711905          0.711621         0.001646  \n",
       "6            0.710292            0.711900          0.711617         0.001646  \n",
       "4            0.710255            0.711863          0.711578         0.001646  \n",
       "\n",
       "[5 rows x 21 columns]"
      ]
     },
     "execution_count": 19,
     "metadata": {},
     "output_type": "execute_result"
    }
   ],
   "source": [
    "results2.head()"
   ]
  },
  {
   "cell_type": "code",
   "execution_count": 20,
   "metadata": {},
   "outputs": [
    {
     "name": "stdout",
     "output_type": "stream",
     "text": [
      "1e-05 -11.512925464970229\n",
      "0.0001 -9.210340371976182\n",
      "0.0005 -7.600902459542082\n",
      "0.001 -6.907755278982137\n",
      "0.005 -5.298317366548036\n",
      "0.01 -4.605170185988091\n",
      "0.1 -2.3025850929940455\n",
      "0.5 -0.6931471805599453\n",
      "1 0.0\n",
      "5 1.6094379124341003\n"
     ]
    }
   ],
   "source": [
    "import math\n",
    "log_alpha=[]\n",
    "\n",
    "for i in alpha1:\n",
    "    log_alpha+=math.log(i),\n",
    "    print(i,math.log(i))"
   ]
  },
  {
   "cell_type": "code",
   "execution_count": 21,
   "metadata": {},
   "outputs": [
    {
     "data": {
      "image/png": "[encoded data removed]",
      "text/plain": [
       "<Figure size 432x288 with 1 Axes>"
      ]
     },
     "metadata": {
      "needs_background": "light"
     },
     "output_type": "display_data"
    }
   ],
   "source": [
    "plt.plot(log_alpha,train_auc1,label='Train AUC')\n",
    "plt.plot(log_alpha,cv_auc1,label='CV AUC')\n",
    "plt.scatter(log_alpha,train_auc1,label='Train AUC points')\n",
    "plt.scatter(log_alpha,cv_auc1,label='CV AUC points')\n",
    "\n",
    "plt.legend()\n",
    "plt.xlabel('Log alpha:Hyperparameter')\n",
    "plt.ylabel('AUC Score')\n",
    "plt.title('Hyperparameter v/s AUC score for set1')\n",
    "plt.grid(linewidth=0.5)\n",
    "plt.show()\n",
    "plt.close()"
   ]
  },
  {
   "cell_type": "code",
   "execution_count": 22,
   "metadata": {},
   "outputs": [],
   "source": [
    "#best alpha value for set1 \n",
    "best_alpha1=0.0005"
   ]
  },
  {
   "cell_type": "code",
   "execution_count": 23,
   "metadata": {},
   "outputs": [
    {
     "data": {
      "image/png": "[encoded data removed]",
      "text/plain": [
       "<Figure size 432x288 with 1 Axes>"
      ]
     },
     "metadata": {
      "needs_background": "light"
     },
     "output_type": "display_data"
    }
   ],
   "source": [
    "plt.plot(log_alpha,train_auc2,label='Train AUC')\n",
    "plt.plot(log_alpha,cv_auc2,label='CV AUC')\n",
    "plt.scatter(log_alpha,train_auc2,label='Train AUC points')\n",
    "plt.scatter(log_alpha,cv_auc2,label='CV AUC points')\n",
    "\n",
    "plt.legend()\n",
    "plt.xlabel('Log alpha:Hyperparameter')\n",
    "plt.ylabel('AUC Score')\n",
    "plt.title('Hyperparameter v/s AUC score for set2')\n",
    "plt.grid(linewidth=0.5)\n",
    "plt.show()\n",
    "plt.close()"
   ]
  },
  {
   "cell_type": "code",
   "execution_count": 24,
   "metadata": {},
   "outputs": [],
   "source": [
    "#best alpha value for set2\n",
    "best_alpha2=0.001"
   ]
  },
  {
   "cell_type": "code",
   "execution_count": 25,
   "metadata": {},
   "outputs": [],
   "source": [
    "def batch_predict(clf, data):\n",
    "    y_data_pred=[]\n",
    "    loop=data.shape[0]-data.shape[0]%1000\n",
    "    for i in range(0,loop,1000):\n",
    "        y_data_pred.extend(clf.predict_proba(data[i:i+1000])[:,1])\n",
    "        \n",
    "    #predicting for the last data points\n",
    "    if data.shape[0]%1000 !=0:\n",
    "        y_data_pred.extend(clf.predict_proba(data[loop:])[:,1])\n",
    "    \n",
    "    return y_data_pred"
   ]
  },
  {
   "cell_type": "code",
   "execution_count": 27,
   "metadata": {},
   "outputs": [
    {
     "data": {
      "image/png": "[encoded data removed]",
      "text/plain": [
       "<Figure size 600x600 with 1 Axes>"
      ]
     },
     "metadata": {
      "needs_background": "light"
     },
     "output_type": "display_data"
    }
   ],
   "source": [
    "from sklearn.metrics import roc_curve,auc\n",
    "\n",
    "neigh=MultinomialNB(alpha=best_alpha1)\n",
    "neigh.fit(X_train_set1,y_train)\n",
    "\n",
    "y_train_pred1=batch_predict(neigh,X_train_set1)\n",
    "y_test_pred1=batch_predict(neigh,X_te1)\n",
    "\n",
    "train_fpr1,train_tpr1,tr_thresholds1=roc_curve(y_train,y_train_pred1)\n",
    "test_fpr1,test_tpr1,te_thresholds1=roc_curve(y_test,y_test_pred1)\n",
    "\n",
    "plt.figure(figsize=(3,3), dpi=200)\n",
    "plt.plot(train_fpr1,train_tpr1,label='Train AUC='+str(auc(train_fpr1,train_tpr1)))\n",
    "plt.plot(test_fpr1, test_tpr1,label='Test AUC='+str(auc(test_fpr1,test_tpr1)))\n",
    "plt.legend()\n",
    "plt.xlabel('FPR')\n",
    "plt.ylabel('TPR')\n",
    "plt.title('ERROR PLOTS')\n",
    "plt.grid()\n",
    "plt.show()"
   ]
  },
  {
   "cell_type": "code",
   "execution_count": 28,
   "metadata": {},
   "outputs": [
    {
     "data": {
      "image/png": "[encoded data removed]",
      "text/plain": [
       "<Figure size 600x600 with 1 Axes>"
      ]
     },
     "metadata": {
      "needs_background": "light"
     },
     "output_type": "display_data"
    }
   ],
   "source": [
    "from sklearn.metrics import roc_curve,auc\n",
    "\n",
    "neigh=MultinomialNB(alpha=best_alpha2)\n",
    "neigh.fit(X_train_set2,y_train)\n",
    "\n",
    "y_train_pred2=batch_predict(neigh,X_train_set2)\n",
    "y_test_pred2=batch_predict(neigh,X_te2)\n",
    "\n",
    "train_fpr2,train_tpr2,tr_thresholds2=roc_curve(y_train,y_train_pred2)\n",
    "test_fpr2,test_tpr2,te_thresholds2=roc_curve(y_test,y_test_pred2)\n",
    "\n",
    "plt.figure(figsize=(3,3), dpi=200)\n",
    "plt.plot(train_fpr2,train_tpr2,label='Train AUC='+str(auc(train_fpr2,train_tpr2)))\n",
    "plt.plot(test_fpr2, test_tpr2,label='Test AUC='+str(auc(test_fpr2,test_tpr2)))\n",
    "plt.legend()\n",
    "plt.xlabel('FPR')\n",
    "plt.ylabel('TPR')\n",
    "plt.title('ERROR PLOTS')\n",
    "plt.grid()\n",
    "plt.show()"
   ]
  },
  {
   "cell_type": "code",
   "execution_count": 29,
   "metadata": {},
   "outputs": [],
   "source": [
    "def find_best_threshold(threshold,fpr,tpr,set_no):\n",
    "    t=threshold[np.argmax(tpr*(1-fpr))]\n",
    "    print(\"The maximum value of tpr*(1-fpr)\",max(tpr*(1-fpr)),\"for threshold\",np.round(t,3),\"for set\",set_no)\n",
    "    return t\n",
    "\n",
    "def predict_with_best_t(proba,threshold):\n",
    "    predictions=[]\n",
    "    for i in proba:\n",
    "        if i>=threshold:\n",
    "            predictions.append(1)\n",
    "        else:\n",
    "            predictions.append(0)\n",
    "    return predictions"
   ]
  },
  {
   "cell_type": "code",
   "execution_count": 30,
   "metadata": {},
   "outputs": [
    {
     "name": "stdout",
     "output_type": "stream",
     "text": [
      "The maximum value of tpr*(1-fpr) 0.4451950566356477 for threshold 0.836 for set 1\n",
      "Train confusion matrix\n",
      "[[ 5472  2760]\n",
      " [14983 30385]]\n",
      "Test confusion matrix\n",
      "[[ 2575  1479]\n",
      " [ 7474 14872]]\n"
     ]
    }
   ],
   "source": [
    "from sklearn.metrics import confusion_matrix\n",
    "best_t1=find_best_threshold(tr_thresholds1,train_fpr1,train_tpr1,1)\n",
    "print(\"Train confusion matrix\")\n",
    "print(confusion_matrix(y_train,predict_with_best_t(y_train_pred1,best_t1)))\n",
    "print(\"Test confusion matrix\")\n",
    "print(confusion_matrix(y_test,predict_with_best_t(y_test_pred1,best_t1)))"
   ]
  },
  {
   "cell_type": "code",
   "execution_count": 45,
   "metadata": {},
   "outputs": [
    {
     "data": {
      "image/png": "[encoded data removed]",
      "text/plain": [
       "<Figure size 600x600 with 2 Axes>"
      ]
     },
     "metadata": {
      "needs_background": "light"
     },
     "output_type": "display_data"
    }
   ],
   "source": [
    "plt.figure(figsize=(4,4), dpi=150)\n",
    "ax=sns.heatmap(np.array(confusion_matrix(y_train,predict_with_best_t(y_train_pred1,best_t1))), annot=True,fmt=\"d\",cmap='Blues')\n",
    "ax.set(xlabel='Actual',ylabel='Predicted')\n",
    "plt.show()"
   ]
  },
  {
   "cell_type": "code",
   "execution_count": 47,
   "metadata": {},
   "outputs": [
    {
     "data": {
      "image/png": "[encoded data removed]",
      "text/plain": [
       "<Figure size 600x600 with 2 Axes>"
      ]
     },
     "metadata": {
      "needs_background": "light"
     },
     "output_type": "display_data"
    }
   ],
   "source": [
    "plt.figure(figsize=(4,4), dpi=150)\n",
    "ax=sns.heatmap(np.array(confusion_matrix(y_test,predict_with_best_t(y_test_pred1,best_t1))), annot=True,fmt=\"d\",cmap='Blues')\n",
    "ax.set(xlabel='Actual',ylabel='Predicted')\n",
    "plt.show()"
   ]
  },
  {
   "cell_type": "code",
   "execution_count": 33,
   "metadata": {},
   "outputs": [
    {
     "name": "stdout",
     "output_type": "stream",
     "text": [
      "The maximum value of tpr*(1-fpr) 0.418459177761338 for threshold 0.844 for set 2\n",
      "Train confusion matrix\n",
      "[[ 5244  2988]\n",
      " [15566 29802]]\n",
      "Test confusion matrix\n",
      "[[ 2354  1700]\n",
      " [ 7870 14476]]\n"
     ]
    }
   ],
   "source": [
    "from sklearn.metrics import confusion_matrix\n",
    "best_t2=find_best_threshold(tr_thresholds2,train_fpr2,train_tpr2,2)\n",
    "print(\"Train confusion matrix\")\n",
    "print(confusion_matrix(y_train,predict_with_best_t(y_train_pred2,best_t2)))\n",
    "print(\"Test confusion matrix\")\n",
    "print(confusion_matrix(y_test,predict_with_best_t(y_test_pred2,best_t2)))"
   ]
  },
  {
   "cell_type": "code",
   "execution_count": 34,
   "metadata": {},
   "outputs": [
    {
     "data": {
      "image/png": "[encoded data removed]",
      "text/plain": [
       "<Figure size 432x288 with 2 Axes>"
      ]
     },
     "metadata": {
      "needs_background": "light"
     },
     "output_type": "display_data"
    }
   ],
   "source": [
    "ax=sns.heatmap(np.array(confusion_matrix(y_train,predict_with_best_t(y_train_pred2,best_t2))), annot=True,fmt=\"d\",cmap='Blues')\n",
    "ax.set(xlabel='Actual',ylabel='Predicted')\n",
    "plt.show()"
   ]
  },
  {
   "cell_type": "code",
   "execution_count": 35,
   "metadata": {},
   "outputs": [
    {
     "data": {
      "image/png": "[encoded data removed]",
      "text/plain": [
       "<Figure size 432x288 with 2 Axes>"
      ]
     },
     "metadata": {
      "needs_background": "light"
     },
     "output_type": "display_data"
    }
   ],
   "source": [
    "ax=sns.heatmap(np.array(confusion_matrix(y_test,predict_with_best_t(y_test_pred2,best_t2))), annot=True,fmt=\"d\",cmap='Blues')\n",
    "ax.set(xlabel='Actual',ylabel='Predicted')\n",
    "plt.show()"
   ]
  },
  {
   "cell_type": "code",
   "execution_count": 36,
   "metadata": {},
   "outputs": [
    {
     "name": "stdout",
     "output_type": "stream",
     "text": [
      "5297 5297\n"
     ]
    }
   ],
   "source": [
    "print(len(l),len(p))"
   ]
  },
  {
   "cell_type": "markdown",
   "metadata": {},
   "source": [
    "<h3> Top 20 positive features for set1"
   ]
  },
  {
   "cell_type": "code",
   "execution_count": 37,
   "metadata": {},
   "outputs": [
    {
     "name": "stdout",
     "output_type": "stream",
     "text": [
      "mrs\n",
      "grades_prek_2\n",
      "ms\n",
      "grades_3_5\n",
      "literacy_language\n",
      "math_science\n",
      "literacy\n",
      "grades_6_8\n",
      "ca\n",
      "mathematics\n",
      "health_sports\n",
      "students\n",
      "literature_writing\n",
      "literacy_language math_science\n",
      "grades_9_12\n",
      "mr\n",
      "specialneeds\n",
      "specialneeds\n",
      "health_wellness\n",
      "music_arts\n",
      "tx\n",
      "ny\n",
      "appliedlearning\n",
      "literacy mathematics\n",
      "fl\n",
      "appliedsciences\n",
      "nc\n",
      "school\n",
      "literature_writing mathematics\n",
      "literacy literature_writing\n"
     ]
    }
   ],
   "source": [
    "feature=neigh.feature_log_prob_[1,:].argsort()[::-1][:5263]\n",
    "for i in feature[:30]:\n",
    "    print(l[i])"
   ]
  },
  {
   "cell_type": "markdown",
   "metadata": {},
   "source": [
    "<h3> Top 20 negative features for set1"
   ]
  },
  {
   "cell_type": "code",
   "execution_count": 38,
   "metadata": {},
   "outputs": [
    {
     "name": "stdout",
     "output_type": "stream",
     "text": [
      "mrs\n",
      "grades_prek_2\n",
      "ms\n",
      "grades_3_5\n",
      "literacy_language\n",
      "math_science\n",
      "grades_6_8\n",
      "mathematics\n",
      "literacy\n",
      "ca\n",
      "health_sports\n",
      "students\n",
      "grades_9_12\n",
      "literature_writing\n",
      "mr\n",
      "tx\n",
      "literacy_language math_science\n",
      "specialneeds\n",
      "specialneeds\n",
      "appliedlearning\n",
      "music_arts\n",
      "appliedsciences\n",
      "fl\n",
      "health_wellness\n",
      "ny\n",
      "literacy mathematics\n",
      "school\n",
      "nc\n",
      "visualarts\n",
      "learning\n"
     ]
    }
   ],
   "source": [
    "feature=neigh.feature_log_prob_[0,:].argsort()[::-1][:5263]\n",
    "for i in feature[:30]:\n",
    "    print(l[i])"
   ]
  },
  {
   "cell_type": "markdown",
   "metadata": {},
   "source": [
    "<h3> Top 20 positive features for set2"
   ]
  },
  {
   "cell_type": "code",
   "execution_count": 39,
   "metadata": {},
   "outputs": [
    {
     "name": "stdout",
     "output_type": "stream",
     "text": [
      "mrs\n",
      "grades_prek_2\n",
      "ms\n",
      "grades_3_5\n",
      "literacy_language\n",
      "math_science\n",
      "literacy\n",
      "grades_6_8\n",
      "ca\n",
      "mathematics\n",
      "health_sports\n",
      "students\n",
      "literature_writing\n",
      "literacy_language math_science\n",
      "grades_9_12\n",
      "mr\n",
      "specialneeds\n",
      "specialneeds\n",
      "health_wellness\n",
      "music_arts\n",
      "tx\n",
      "ny\n",
      "appliedlearning\n",
      "literacy mathematics\n",
      "fl\n",
      "appliedsciences\n",
      "nc\n",
      "school\n",
      "literature_writing mathematics\n",
      "literacy literature_writing\n"
     ]
    }
   ],
   "source": [
    "feature=neigh.feature_log_prob_[1,:].argsort()[::-1][:5263]\n",
    "for i in feature[:30]:\n",
    "    print(p[i])"
   ]
  },
  {
   "cell_type": "markdown",
   "metadata": {},
   "source": [
    "<h3> Top 20 negative features for set2"
   ]
  },
  {
   "cell_type": "code",
   "execution_count": 40,
   "metadata": {},
   "outputs": [
    {
     "name": "stdout",
     "output_type": "stream",
     "text": [
      "mrs\n",
      "grades_prek_2\n",
      "ms\n",
      "grades_3_5\n",
      "literacy_language\n",
      "math_science\n",
      "grades_6_8\n",
      "mathematics\n",
      "literacy\n",
      "ca\n",
      "health_sports\n",
      "students\n",
      "grades_9_12\n",
      "literature_writing\n",
      "mr\n",
      "tx\n",
      "literacy_language math_science\n",
      "specialneeds\n",
      "specialneeds\n",
      "appliedlearning\n",
      "music_arts\n",
      "appliedsciences\n",
      "fl\n",
      "health_wellness\n",
      "ny\n",
      "literacy mathematics\n",
      "school\n",
      "nc\n",
      "visualarts\n",
      "learning\n"
     ]
    }
   ],
   "source": [
    "feature=neigh.feature_log_prob_[0,:].argsort()[::-1][:5263]\n",
    "for i in feature[:30]:\n",
    "    print(p[i])"
   ]
  },
  {
   "cell_type": "markdown",
   "metadata": {
    "id": "lS9hIHdib3dp"
   },
   "source": [
    "<h1>3. Summary with class priors</h1>\n",
    "\n",
    "<br> as mentioned in the step 5 of instructions"
   ]
  },
  {
   "cell_type": "code",
   "execution_count": 41,
   "metadata": {},
   "outputs": [
    {
     "name": "stdout",
     "output_type": "stream",
     "text": [
      "+------------+----------------+-----------------------------+------+\n",
      "| Vectorizer |     Model      | Hyperparameter(alpha value) | AUC  |\n",
      "+------------+----------------+-----------------------------+------+\n",
      "|    BOW     | Multinomial NB |            0.0005           | 0.68 |\n",
      "|   TFIDF    | Multinomial NB |            0.001            | 0.66 |\n",
      "+------------+----------------+-----------------------------+------+\n"
     ]
    }
   ],
   "source": [
    "from prettytable import PrettyTable\n",
    "\n",
    "table=PrettyTable()\n",
    "table.field_names=['Vectorizer','Model','Hyperparameter(alpha value)','AUC']\n",
    "\n",
    "table.add_row(['BOW','Multinomial NB','0.0005','0.68'])\n",
    "table.add_row(['TFIDF','Multinomial NB','0.001','0.66'])\n",
    "\n",
    "print(table)"
   ]
  },
  {
   "cell_type": "markdown",
   "metadata": {},
   "source": [
    "<h1> Using fit-prior in Multinomial NB"
   ]
  },
  {
   "cell_type": "code",
   "execution_count": 42,
   "metadata": {},
   "outputs": [],
   "source": [
    "from sklearn.model_selection import RandomizedSearchCV\n",
    "from sklearn.naive_bayes import MultinomialNB\n",
    "\n",
    "parameters={'alpha':[0.00001,0.0005, 0.0001,0.005,0.001,0.05,0.01,0.1,0.5,1,5,10,50,100]}\n",
    "\n",
    "neigh=MultinomialNB(fit_prior=True)\n",
    "#print(neigh.get_params().keys())\n",
    "clf1=RandomizedSearchCV(neigh,parameters,scoring='roc_auc',cv=5,n_jobs=-1,return_train_score=True)\n",
    "clf1.fit(X_train_set1,y_train)\n",
    "\n",
    "clf2=RandomizedSearchCV(neigh,parameters,scoring='roc_auc',cv=5,n_jobs=-1,return_train_score=True)\n",
    "clf2.fit(X_train_set2,y_train)\n",
    "\n",
    "results1=pd.DataFrame.from_dict(clf1.cv_results_)\n",
    "results1=results1.sort_values(['param_alpha'])\n",
    "\n",
    "results2=pd.DataFrame.from_dict(clf2.cv_results_)\n",
    "results2=results2.sort_values(['param_alpha'])\n",
    "\n",
    "train_auc1=results1['mean_train_score']\n",
    "train_auc_std1=results1['std_train_score']\n",
    "cv_auc1=results1['mean_test_score']\n",
    "cv_auc_std1=results1['std_test_score']\n",
    "alpha1=results1['param_alpha']\n",
    "train_auc2=results2['mean_train_score']\n",
    "train_auc_std2=results2['std_train_score']\n",
    "cv_auc2=results2['mean_test_score']\n",
    "cv_auc_std2=results2['std_test_score']\n",
    "alpha2=results2['param_alpha']"
   ]
  },
  {
   "cell_type": "code",
   "execution_count": 43,
   "metadata": {},
   "outputs": [
    {
     "data": {
      "text/html": [
       "<div>\n",
       "<style scoped>\n",
       "    .dataframe tbody tr th:only-of-type {\n",
       "        vertical-align: middle;\n",
       "    }\n",
       "\n",
       "    .dataframe tbody tr th {\n",
       "        vertical-align: top;\n",
       "    }\n",
       "\n",
       "    .dataframe thead th {\n",
       "        text-align: right;\n",
       "    }\n",
       "</style>\n",
       "<table border=\"1\" class=\"dataframe\">\n",
       "  <thead>\n",
       "    <tr style=\"text-align: right;\">\n",
       "      <th></th>\n",
       "      <th>mean_fit_time</th>\n",
       "      <th>std_fit_time</th>\n",
       "      <th>mean_score_time</th>\n",
       "      <th>std_score_time</th>\n",
       "      <th>param_alpha</th>\n",
       "      <th>params</th>\n",
       "      <th>split0_test_score</th>\n",
       "      <th>split1_test_score</th>\n",
       "      <th>split2_test_score</th>\n",
       "      <th>split3_test_score</th>\n",
       "      <th>...</th>\n",
       "      <th>mean_test_score</th>\n",
       "      <th>std_test_score</th>\n",
       "      <th>rank_test_score</th>\n",
       "      <th>split0_train_score</th>\n",
       "      <th>split1_train_score</th>\n",
       "      <th>split2_train_score</th>\n",
       "      <th>split3_train_score</th>\n",
       "      <th>split4_train_score</th>\n",
       "      <th>mean_train_score</th>\n",
       "      <th>std_train_score</th>\n",
       "    </tr>\n",
       "  </thead>\n",
       "  <tbody>\n",
       "    <tr>\n",
       "      <th>3</th>\n",
       "      <td>0.147876</td>\n",
       "      <td>0.005277</td>\n",
       "      <td>0.014738</td>\n",
       "      <td>0.001401</td>\n",
       "      <td>0.00001</td>\n",
       "      <td>{'alpha': 1e-05}</td>\n",
       "      <td>0.699283</td>\n",
       "      <td>0.696150</td>\n",
       "      <td>0.678238</td>\n",
       "      <td>0.694034</td>\n",
       "      <td>...</td>\n",
       "      <td>0.689790</td>\n",
       "      <td>0.008427</td>\n",
       "      <td>3</td>\n",
       "      <td>0.727541</td>\n",
       "      <td>0.726696</td>\n",
       "      <td>0.730301</td>\n",
       "      <td>0.726127</td>\n",
       "      <td>0.726037</td>\n",
       "      <td>0.727340</td>\n",
       "      <td>0.001574</td>\n",
       "    </tr>\n",
       "    <tr>\n",
       "      <th>5</th>\n",
       "      <td>0.137265</td>\n",
       "      <td>0.004164</td>\n",
       "      <td>0.015892</td>\n",
       "      <td>0.002363</td>\n",
       "      <td>0.00050</td>\n",
       "      <td>{'alpha': 0.0005}</td>\n",
       "      <td>0.699316</td>\n",
       "      <td>0.696194</td>\n",
       "      <td>0.678196</td>\n",
       "      <td>0.694007</td>\n",
       "      <td>...</td>\n",
       "      <td>0.689790</td>\n",
       "      <td>0.008451</td>\n",
       "      <td>1</td>\n",
       "      <td>0.727453</td>\n",
       "      <td>0.726645</td>\n",
       "      <td>0.730279</td>\n",
       "      <td>0.726094</td>\n",
       "      <td>0.726008</td>\n",
       "      <td>0.727296</td>\n",
       "      <td>0.001578</td>\n",
       "    </tr>\n",
       "    <tr>\n",
       "      <th>9</th>\n",
       "      <td>0.114520</td>\n",
       "      <td>0.023601</td>\n",
       "      <td>0.012475</td>\n",
       "      <td>0.003377</td>\n",
       "      <td>0.00100</td>\n",
       "      <td>{'alpha': 0.001}</td>\n",
       "      <td>0.699323</td>\n",
       "      <td>0.696203</td>\n",
       "      <td>0.678184</td>\n",
       "      <td>0.694003</td>\n",
       "      <td>...</td>\n",
       "      <td>0.689790</td>\n",
       "      <td>0.008457</td>\n",
       "      <td>2</td>\n",
       "      <td>0.727431</td>\n",
       "      <td>0.726631</td>\n",
       "      <td>0.730273</td>\n",
       "      <td>0.726084</td>\n",
       "      <td>0.726000</td>\n",
       "      <td>0.727284</td>\n",
       "      <td>0.001579</td>\n",
       "    </tr>\n",
       "    <tr>\n",
       "      <th>2</th>\n",
       "      <td>0.154272</td>\n",
       "      <td>0.005195</td>\n",
       "      <td>0.014469</td>\n",
       "      <td>0.000501</td>\n",
       "      <td>0.01000</td>\n",
       "      <td>{'alpha': 0.01}</td>\n",
       "      <td>0.699363</td>\n",
       "      <td>0.696229</td>\n",
       "      <td>0.678151</td>\n",
       "      <td>0.693976</td>\n",
       "      <td>...</td>\n",
       "      <td>0.689789</td>\n",
       "      <td>0.008479</td>\n",
       "      <td>4</td>\n",
       "      <td>0.727328</td>\n",
       "      <td>0.726568</td>\n",
       "      <td>0.730240</td>\n",
       "      <td>0.726038</td>\n",
       "      <td>0.725961</td>\n",
       "      <td>0.727227</td>\n",
       "      <td>0.001584</td>\n",
       "    </tr>\n",
       "    <tr>\n",
       "      <th>8</th>\n",
       "      <td>0.120462</td>\n",
       "      <td>0.014662</td>\n",
       "      <td>0.017628</td>\n",
       "      <td>0.001025</td>\n",
       "      <td>0.05000</td>\n",
       "      <td>{'alpha': 0.05}</td>\n",
       "      <td>0.699387</td>\n",
       "      <td>0.696229</td>\n",
       "      <td>0.678126</td>\n",
       "      <td>0.693936</td>\n",
       "      <td>...</td>\n",
       "      <td>0.689775</td>\n",
       "      <td>0.008493</td>\n",
       "      <td>5</td>\n",
       "      <td>0.727208</td>\n",
       "      <td>0.726484</td>\n",
       "      <td>0.730180</td>\n",
       "      <td>0.725967</td>\n",
       "      <td>0.725900</td>\n",
       "      <td>0.727148</td>\n",
       "      <td>0.001587</td>\n",
       "    </tr>\n",
       "  </tbody>\n",
       "</table>\n",
       "<p>5 rows × 21 columns</p>\n",
       "</div>"
      ],
      "text/plain": [
       "   mean_fit_time  std_fit_time  mean_score_time  std_score_time param_alpha  \\\n",
       "3       0.147876      0.005277         0.014738        0.001401     0.00001   \n",
       "5       0.137265      0.004164         0.015892        0.002363     0.00050   \n",
       "9       0.114520      0.023601         0.012475        0.003377     0.00100   \n",
       "2       0.154272      0.005195         0.014469        0.000501     0.01000   \n",
       "8       0.120462      0.014662         0.017628        0.001025     0.05000   \n",
       "\n",
       "              params  split0_test_score  split1_test_score  split2_test_score  \\\n",
       "3   {'alpha': 1e-05}           0.699283           0.696150           0.678238   \n",
       "5  {'alpha': 0.0005}           0.699316           0.696194           0.678196   \n",
       "9   {'alpha': 0.001}           0.699323           0.696203           0.678184   \n",
       "2    {'alpha': 0.01}           0.699363           0.696229           0.678151   \n",
       "8    {'alpha': 0.05}           0.699387           0.696229           0.678126   \n",
       "\n",
       "   split3_test_score  ...  mean_test_score  std_test_score  rank_test_score  \\\n",
       "3           0.694034  ...         0.689790        0.008427                3   \n",
       "5           0.694007  ...         0.689790        0.008451                1   \n",
       "9           0.694003  ...         0.689790        0.008457                2   \n",
       "2           0.693976  ...         0.689789        0.008479                4   \n",
       "8           0.693936  ...         0.689775        0.008493                5   \n",
       "\n",
       "   split0_train_score  split1_train_score  split2_train_score  \\\n",
       "3            0.727541            0.726696            0.730301   \n",
       "5            0.727453            0.726645            0.730279   \n",
       "9            0.727431            0.726631            0.730273   \n",
       "2            0.727328            0.726568            0.730240   \n",
       "8            0.727208            0.726484            0.730180   \n",
       "\n",
       "   split3_train_score  split4_train_score  mean_train_score  std_train_score  \n",
       "3            0.726127            0.726037          0.727340         0.001574  \n",
       "5            0.726094            0.726008          0.727296         0.001578  \n",
       "9            0.726084            0.726000          0.727284         0.001579  \n",
       "2            0.726038            0.725961          0.727227         0.001584  \n",
       "8            0.725967            0.725900          0.727148         0.001587  \n",
       "\n",
       "[5 rows x 21 columns]"
      ]
     },
     "execution_count": 43,
     "metadata": {},
     "output_type": "execute_result"
    }
   ],
   "source": [
    "results1.head()"
   ]
  },
  {
   "cell_type": "code",
   "execution_count": 44,
   "metadata": {},
   "outputs": [
    {
     "data": {
      "text/html": [
       "<div>\n",
       "<style scoped>\n",
       "    .dataframe tbody tr th:only-of-type {\n",
       "        vertical-align: middle;\n",
       "    }\n",
       "\n",
       "    .dataframe tbody tr th {\n",
       "        vertical-align: top;\n",
       "    }\n",
       "\n",
       "    .dataframe thead th {\n",
       "        text-align: right;\n",
       "    }\n",
       "</style>\n",
       "<table border=\"1\" class=\"dataframe\">\n",
       "  <thead>\n",
       "    <tr style=\"text-align: right;\">\n",
       "      <th></th>\n",
       "      <th>mean_fit_time</th>\n",
       "      <th>std_fit_time</th>\n",
       "      <th>mean_score_time</th>\n",
       "      <th>std_score_time</th>\n",
       "      <th>param_alpha</th>\n",
       "      <th>params</th>\n",
       "      <th>split0_test_score</th>\n",
       "      <th>split1_test_score</th>\n",
       "      <th>split2_test_score</th>\n",
       "      <th>split3_test_score</th>\n",
       "      <th>...</th>\n",
       "      <th>mean_test_score</th>\n",
       "      <th>std_test_score</th>\n",
       "      <th>rank_test_score</th>\n",
       "      <th>split0_train_score</th>\n",
       "      <th>split1_train_score</th>\n",
       "      <th>split2_train_score</th>\n",
       "      <th>split3_train_score</th>\n",
       "      <th>split4_train_score</th>\n",
       "      <th>mean_train_score</th>\n",
       "      <th>std_train_score</th>\n",
       "    </tr>\n",
       "  </thead>\n",
       "  <tbody>\n",
       "    <tr>\n",
       "      <th>3</th>\n",
       "      <td>0.132715</td>\n",
       "      <td>0.016824</td>\n",
       "      <td>0.023286</td>\n",
       "      <td>0.005873</td>\n",
       "      <td>0.0001</td>\n",
       "      <td>{'alpha': 0.0001}</td>\n",
       "      <td>0.667516</td>\n",
       "      <td>0.668711</td>\n",
       "      <td>0.649448</td>\n",
       "      <td>0.671288</td>\n",
       "      <td>...</td>\n",
       "      <td>0.663070</td>\n",
       "      <td>0.008082</td>\n",
       "      <td>1</td>\n",
       "      <td>0.705261</td>\n",
       "      <td>0.705041</td>\n",
       "      <td>0.706382</td>\n",
       "      <td>0.705533</td>\n",
       "      <td>0.705016</td>\n",
       "      <td>0.705447</td>\n",
       "      <td>0.000503</td>\n",
       "    </tr>\n",
       "    <tr>\n",
       "      <th>2</th>\n",
       "      <td>0.136135</td>\n",
       "      <td>0.012573</td>\n",
       "      <td>0.015629</td>\n",
       "      <td>0.000630</td>\n",
       "      <td>0.0005</td>\n",
       "      <td>{'alpha': 0.0005}</td>\n",
       "      <td>0.667513</td>\n",
       "      <td>0.668708</td>\n",
       "      <td>0.649445</td>\n",
       "      <td>0.671284</td>\n",
       "      <td>...</td>\n",
       "      <td>0.663067</td>\n",
       "      <td>0.008082</td>\n",
       "      <td>2</td>\n",
       "      <td>0.705256</td>\n",
       "      <td>0.705037</td>\n",
       "      <td>0.706377</td>\n",
       "      <td>0.705528</td>\n",
       "      <td>0.705012</td>\n",
       "      <td>0.705442</td>\n",
       "      <td>0.000503</td>\n",
       "    </tr>\n",
       "    <tr>\n",
       "      <th>4</th>\n",
       "      <td>0.122254</td>\n",
       "      <td>0.009416</td>\n",
       "      <td>0.020930</td>\n",
       "      <td>0.002618</td>\n",
       "      <td>0.0010</td>\n",
       "      <td>{'alpha': 0.001}</td>\n",
       "      <td>0.667509</td>\n",
       "      <td>0.668706</td>\n",
       "      <td>0.649442</td>\n",
       "      <td>0.671281</td>\n",
       "      <td>...</td>\n",
       "      <td>0.663064</td>\n",
       "      <td>0.008082</td>\n",
       "      <td>3</td>\n",
       "      <td>0.705251</td>\n",
       "      <td>0.705031</td>\n",
       "      <td>0.706371</td>\n",
       "      <td>0.705522</td>\n",
       "      <td>0.705007</td>\n",
       "      <td>0.705436</td>\n",
       "      <td>0.000503</td>\n",
       "    </tr>\n",
       "    <tr>\n",
       "      <th>8</th>\n",
       "      <td>0.157042</td>\n",
       "      <td>0.022710</td>\n",
       "      <td>0.031092</td>\n",
       "      <td>0.011695</td>\n",
       "      <td>0.0050</td>\n",
       "      <td>{'alpha': 0.005}</td>\n",
       "      <td>0.667477</td>\n",
       "      <td>0.668677</td>\n",
       "      <td>0.649413</td>\n",
       "      <td>0.671248</td>\n",
       "      <td>...</td>\n",
       "      <td>0.663033</td>\n",
       "      <td>0.008081</td>\n",
       "      <td>4</td>\n",
       "      <td>0.705207</td>\n",
       "      <td>0.704982</td>\n",
       "      <td>0.706324</td>\n",
       "      <td>0.705476</td>\n",
       "      <td>0.704962</td>\n",
       "      <td>0.705390</td>\n",
       "      <td>0.000503</td>\n",
       "    </tr>\n",
       "    <tr>\n",
       "      <th>6</th>\n",
       "      <td>0.132913</td>\n",
       "      <td>0.008595</td>\n",
       "      <td>0.021968</td>\n",
       "      <td>0.003625</td>\n",
       "      <td>0.0500</td>\n",
       "      <td>{'alpha': 0.05}</td>\n",
       "      <td>0.667113</td>\n",
       "      <td>0.668335</td>\n",
       "      <td>0.649176</td>\n",
       "      <td>0.670897</td>\n",
       "      <td>...</td>\n",
       "      <td>0.662702</td>\n",
       "      <td>0.008044</td>\n",
       "      <td>5</td>\n",
       "      <td>0.704707</td>\n",
       "      <td>0.704429</td>\n",
       "      <td>0.705805</td>\n",
       "      <td>0.704962</td>\n",
       "      <td>0.704460</td>\n",
       "      <td>0.704873</td>\n",
       "      <td>0.000504</td>\n",
       "    </tr>\n",
       "  </tbody>\n",
       "</table>\n",
       "<p>5 rows × 21 columns</p>\n",
       "</div>"
      ],
      "text/plain": [
       "   mean_fit_time  std_fit_time  mean_score_time  std_score_time param_alpha  \\\n",
       "3       0.132715      0.016824         0.023286        0.005873      0.0001   \n",
       "2       0.136135      0.012573         0.015629        0.000630      0.0005   \n",
       "4       0.122254      0.009416         0.020930        0.002618      0.0010   \n",
       "8       0.157042      0.022710         0.031092        0.011695      0.0050   \n",
       "6       0.132913      0.008595         0.021968        0.003625      0.0500   \n",
       "\n",
       "              params  split0_test_score  split1_test_score  split2_test_score  \\\n",
       "3  {'alpha': 0.0001}           0.667516           0.668711           0.649448   \n",
       "2  {'alpha': 0.0005}           0.667513           0.668708           0.649445   \n",
       "4   {'alpha': 0.001}           0.667509           0.668706           0.649442   \n",
       "8   {'alpha': 0.005}           0.667477           0.668677           0.649413   \n",
       "6    {'alpha': 0.05}           0.667113           0.668335           0.649176   \n",
       "\n",
       "   split3_test_score  ...  mean_test_score  std_test_score  rank_test_score  \\\n",
       "3           0.671288  ...         0.663070        0.008082                1   \n",
       "2           0.671284  ...         0.663067        0.008082                2   \n",
       "4           0.671281  ...         0.663064        0.008082                3   \n",
       "8           0.671248  ...         0.663033        0.008081                4   \n",
       "6           0.670897  ...         0.662702        0.008044                5   \n",
       "\n",
       "   split0_train_score  split1_train_score  split2_train_score  \\\n",
       "3            0.705261            0.705041            0.706382   \n",
       "2            0.705256            0.705037            0.706377   \n",
       "4            0.705251            0.705031            0.706371   \n",
       "8            0.705207            0.704982            0.706324   \n",
       "6            0.704707            0.704429            0.705805   \n",
       "\n",
       "   split3_train_score  split4_train_score  mean_train_score  std_train_score  \n",
       "3            0.705533            0.705016          0.705447         0.000503  \n",
       "2            0.705528            0.705012          0.705442         0.000503  \n",
       "4            0.705522            0.705007          0.705436         0.000503  \n",
       "8            0.705476            0.704962          0.705390         0.000503  \n",
       "6            0.704962            0.704460          0.704873         0.000504  \n",
       "\n",
       "[5 rows x 21 columns]"
      ]
     },
     "execution_count": 44,
     "metadata": {},
     "output_type": "execute_result"
    }
   ],
   "source": [
    "results2.head()"
   ]
  },
  {
   "cell_type": "code",
   "execution_count": 45,
   "metadata": {},
   "outputs": [
    {
     "data": {
      "image/png": "[encoded data removed]",
      "text/plain": [
       "<Figure size 432x288 with 1 Axes>"
      ]
     },
     "metadata": {
      "needs_background": "light"
     },
     "output_type": "display_data"
    }
   ],
   "source": [
    "plt.plot(log_alpha,train_auc1,label='Train AUC')\n",
    "plt.plot(log_alpha,cv_auc1,label='CV AUC')\n",
    "plt.scatter(log_alpha,train_auc1,label='Train AUC points')\n",
    "plt.scatter(log_alpha,cv_auc1,label='CV AUC points')\n",
    "\n",
    "plt.legend()\n",
    "plt.xlabel('alpha:Hyperparameter')\n",
    "plt.ylabel('AUC Score')\n",
    "plt.title('Hyperparameter v/s AUC score for set1')\n",
    "plt.grid(linewidth=0.5)\n",
    "plt.show()\n",
    "plt.close()"
   ]
  },
  {
   "cell_type": "code",
   "execution_count": 46,
   "metadata": {},
   "outputs": [],
   "source": [
    "#We can see change the change in best hyperparameter value for set1.\n",
    "best_alpha1=0.5"
   ]
  },
  {
   "cell_type": "code",
   "execution_count": 47,
   "metadata": {},
   "outputs": [
    {
     "data": {
      "image/png": "[encoded data removed]",
      "text/plain": [
       "<Figure size 432x288 with 1 Axes>"
      ]
     },
     "metadata": {
      "needs_background": "light"
     },
     "output_type": "display_data"
    }
   ],
   "source": [
    "plt.plot(log_alpha,train_auc2,label='Train AUC')\n",
    "plt.plot(log_alpha,cv_auc2,label='CV AUC')\n",
    "plt.scatter(log_alpha,train_auc2,label='Train AUC points')\n",
    "plt.scatter(log_alpha,cv_auc2,label='CV AUC points')\n",
    "\n",
    "plt.legend()\n",
    "plt.xlabel('alpha:Hyperparameter')\n",
    "plt.ylabel('AUC Score')\n",
    "plt.title('Hyperparameter v/s AUC score for set2')\n",
    "plt.grid(linewidth=0.5)\n",
    "plt.show()\n",
    "plt.close()"
   ]
  },
  {
   "cell_type": "code",
   "execution_count": 48,
   "metadata": {},
   "outputs": [],
   "source": [
    "#We can see change the change in best hyperparameter value for set2.\n",
    "best_alpha2=0.05"
   ]
  },
  {
   "cell_type": "code",
   "execution_count": 49,
   "metadata": {},
   "outputs": [
    {
     "data": {
      "image/png": "[encoded data removed]",
      "text/plain": [
       "<Figure size 432x288 with 1 Axes>"
      ]
     },
     "metadata": {
      "needs_background": "light"
     },
     "output_type": "display_data"
    }
   ],
   "source": [
    "from sklearn.metrics import roc_curve,auc\n",
    "\n",
    "neigh=MultinomialNB(alpha=best_alpha1)\n",
    "neigh.fit(X_train_set1,y_train)\n",
    "\n",
    "y_train_pred1=batch_predict(neigh,X_train_set1)\n",
    "y_test_pred1=batch_predict(neigh,X_te1)\n",
    "\n",
    "train_fpr1,train_tpr1,tr_thresholds1=roc_curve(y_train,y_train_pred1)\n",
    "test_fpr1,test_tpr1,te_thresholds1=roc_curve(y_test,y_test_pred1)\n",
    "\n",
    "plt.plot(train_fpr1,train_tpr1,label='Train AUC='+str(auc(train_fpr1,train_tpr1)))\n",
    "plt.plot(test_fpr1, test_tpr1,label='Test AUC='+str(auc(test_fpr1,test_tpr1)))\n",
    "plt.legend()\n",
    "plt.xlabel('FPR')\n",
    "plt.ylabel('TPR')\n",
    "plt.title('ERROR PLOTS')\n",
    "plt.grid()\n",
    "plt.show()"
   ]
  },
  {
   "cell_type": "code",
   "execution_count": 50,
   "metadata": {},
   "outputs": [
    {
     "data": {
      "image/png": "[encoded data removed]",
      "text/plain": [
       "<Figure size 432x288 with 1 Axes>"
      ]
     },
     "metadata": {
      "needs_background": "light"
     },
     "output_type": "display_data"
    }
   ],
   "source": [
    "from sklearn.metrics import roc_curve,auc\n",
    "\n",
    "neigh=MultinomialNB(alpha=best_alpha2)\n",
    "neigh.fit(X_train_set2,y_train)\n",
    "\n",
    "y_train_pred2=batch_predict(neigh,X_train_set2)\n",
    "y_test_pred2=batch_predict(neigh,X_te2)\n",
    "\n",
    "train_fpr2,train_tpr2,tr_thresholds2=roc_curve(y_train,y_train_pred2)\n",
    "test_fpr2,test_tpr2,te_thresholds2=roc_curve(y_test,y_test_pred2)\n",
    "\n",
    "plt.plot(train_fpr2,train_tpr2,label='Train AUC='+str(auc(train_fpr2,train_tpr2)))\n",
    "plt.plot(test_fpr2, test_tpr2,label='Test AUC='+str(auc(test_fpr2,test_tpr2)))\n",
    "plt.legend()\n",
    "plt.xlabel('FPR')\n",
    "plt.ylabel('TPR')\n",
    "plt.title('ERROR PLOTS')\n",
    "plt.grid()\n",
    "plt.show()"
   ]
  },
  {
   "cell_type": "code",
   "execution_count": 51,
   "metadata": {},
   "outputs": [
    {
     "name": "stdout",
     "output_type": "stream",
     "text": [
      "The maximum value of tpr*(1-fpr) 0.44678255225938523 for threshold 0.868 for set 1\n",
      "Train confusion matrix\n",
      "[[ 5653  2579]\n",
      " [15851 29517]]\n",
      "Test confusion matrix\n",
      "[[ 2605  1449]\n",
      " [ 7966 14380]]\n"
     ]
    }
   ],
   "source": [
    "from sklearn.metrics import confusion_matrix\n",
    "best_t1=find_best_threshold(tr_thresholds1,train_fpr1,train_tpr1,1)\n",
    "print(\"Train confusion matrix\")\n",
    "print(confusion_matrix(y_train,predict_with_best_t(y_train_pred1,best_t1)))\n",
    "print(\"Test confusion matrix\")\n",
    "print(confusion_matrix(y_test,predict_with_best_t(y_test_pred1,best_t1)))"
   ]
  },
  {
   "cell_type": "code",
   "execution_count": 52,
   "metadata": {},
   "outputs": [
    {
     "data": {
      "image/png": "[encoded data removed]",
      "text/plain": [
       "<Figure size 432x288 with 2 Axes>"
      ]
     },
     "metadata": {
      "needs_background": "light"
     },
     "output_type": "display_data"
    }
   ],
   "source": [
    "ax=sns.heatmap(np.array(confusion_matrix(y_train,predict_with_best_t(y_train_pred1,best_t1))), annot=True,fmt=\"d\",cmap='Blues')\n",
    "ax.set(xlabel='Actual',ylabel='Predicted')\n",
    "plt.show()"
   ]
  },
  {
   "cell_type": "code",
   "execution_count": 53,
   "metadata": {},
   "outputs": [
    {
     "data": {
      "image/png": "[encoded data removed]",
      "text/plain": [
       "<Figure size 432x288 with 2 Axes>"
      ]
     },
     "metadata": {
      "needs_background": "light"
     },
     "output_type": "display_data"
    }
   ],
   "source": [
    "ax=sns.heatmap(np.array(confusion_matrix(y_test,predict_with_best_t(y_test_pred1,best_t1))), annot=True,fmt=\"d\",cmap='Blues')\n",
    "ax.set(xlabel='Actual',ylabel='Predicted')\n",
    "plt.show()"
   ]
  },
  {
   "cell_type": "code",
   "execution_count": 54,
   "metadata": {},
   "outputs": [
    {
     "name": "stdout",
     "output_type": "stream",
     "text": [
      "The maximum value of tpr*(1-fpr) 0.41793086135126645 for threshold 0.846 for set 2\n",
      "Train confusion matrix\n",
      "[[ 5298  2934]\n",
      " [15907 29461]]\n",
      "Test confusion matrix\n",
      "[[ 2390  1664]\n",
      " [ 8034 14312]]\n"
     ]
    }
   ],
   "source": [
    "from sklearn.metrics import confusion_matrix\n",
    "best_t2=find_best_threshold(tr_thresholds2,train_fpr2,train_tpr2,2)\n",
    "print(\"Train confusion matrix\")\n",
    "print(confusion_matrix(y_train,predict_with_best_t(y_train_pred2,best_t2)))\n",
    "print(\"Test confusion matrix\")\n",
    "print(confusion_matrix(y_test,predict_with_best_t(y_test_pred2,best_t2)))"
   ]
  },
  {
   "cell_type": "code",
   "execution_count": 55,
   "metadata": {},
   "outputs": [
    {
     "data": {
      "image/png": "[encoded data removed]",
      "text/plain": [
       "<Figure size 432x288 with 2 Axes>"
      ]
     },
     "metadata": {
      "needs_background": "light"
     },
     "output_type": "display_data"
    }
   ],
   "source": [
    "ax=sns.heatmap(np.array(confusion_matrix(y_train,predict_with_best_t(y_train_pred2,best_t2))), annot=True,fmt=\"d\",cmap='Blues')\n",
    "ax.set(xlabel='Actual',ylabel='Predicted')\n",
    "plt.show()"
   ]
  },
  {
   "cell_type": "code",
   "execution_count": 56,
   "metadata": {},
   "outputs": [
    {
     "data": {
      "image/png": "[encoded data removed]",
      "text/plain": [
       "<Figure size 432x288 with 2 Axes>"
      ]
     },
     "metadata": {
      "needs_background": "light"
     },
     "output_type": "display_data"
    }
   ],
   "source": [
    "ax=sns.heatmap(np.array(confusion_matrix(y_test,predict_with_best_t(y_test_pred2,best_t2))), annot=True,fmt=\"d\",cmap='Blues')\n",
    "ax.set(xlabel='Actual',ylabel='Predicted')\n",
    "plt.show()"
   ]
  },
  {
   "cell_type": "markdown",
   "metadata": {},
   "source": [
    "<h3> Top 20 positive features for set1"
   ]
  },
  {
   "cell_type": "code",
   "execution_count": 57,
   "metadata": {},
   "outputs": [
    {
     "name": "stdout",
     "output_type": "stream",
     "text": [
      "mrs\n",
      "grades_prek_2\n",
      "ms\n",
      "grades_3_5\n",
      "literacy_language\n",
      "math_science\n",
      "literacy\n",
      "grades_6_8\n",
      "ca\n",
      "mathematics\n",
      "health_sports\n",
      "students\n",
      "literature_writing\n",
      "literacy_language math_science\n",
      "grades_9_12\n",
      "mr\n",
      "specialneeds\n",
      "specialneeds\n",
      "health_wellness\n",
      "music_arts\n",
      "tx\n",
      "ny\n",
      "appliedlearning\n",
      "literacy mathematics\n",
      "fl\n",
      "appliedsciences\n",
      "nc\n",
      "school\n",
      "literature_writing mathematics\n",
      "literacy literature_writing\n"
     ]
    }
   ],
   "source": [
    "feature=neigh.feature_log_prob_[1,:].argsort()[::-1][:5263]\n",
    "for i in feature[:30]:\n",
    "    print(l[i])"
   ]
  },
  {
   "cell_type": "markdown",
   "metadata": {},
   "source": [
    "<h3> Top 20 negative features for set1"
   ]
  },
  {
   "cell_type": "code",
   "execution_count": 58,
   "metadata": {},
   "outputs": [
    {
     "name": "stdout",
     "output_type": "stream",
     "text": [
      "mrs\n",
      "grades_prek_2\n",
      "ms\n",
      "grades_3_5\n",
      "literacy_language\n",
      "math_science\n",
      "grades_6_8\n",
      "mathematics\n",
      "literacy\n",
      "ca\n",
      "health_sports\n",
      "students\n",
      "grades_9_12\n",
      "literature_writing\n",
      "mr\n",
      "tx\n",
      "literacy_language math_science\n",
      "specialneeds\n",
      "specialneeds\n",
      "appliedlearning\n",
      "music_arts\n",
      "appliedsciences\n",
      "fl\n",
      "health_wellness\n",
      "ny\n",
      "literacy mathematics\n",
      "school\n",
      "nc\n",
      "visualarts\n",
      "learning\n"
     ]
    }
   ],
   "source": [
    "feature=neigh.feature_log_prob_[0,:].argsort()[::-1][:5263]\n",
    "for i in feature[:30]:\n",
    "    print(l[i])"
   ]
  },
  {
   "cell_type": "markdown",
   "metadata": {},
   "source": [
    "<h3> Top 20 positive features for set2"
   ]
  },
  {
   "cell_type": "code",
   "execution_count": 59,
   "metadata": {},
   "outputs": [
    {
     "name": "stdout",
     "output_type": "stream",
     "text": [
      "mrs\n",
      "grades_prek_2\n",
      "ms\n",
      "grades_3_5\n",
      "literacy_language\n",
      "math_science\n",
      "literacy\n",
      "grades_6_8\n",
      "ca\n",
      "mathematics\n",
      "health_sports\n",
      "students\n",
      "literature_writing\n",
      "literacy_language math_science\n",
      "grades_9_12\n",
      "mr\n",
      "specialneeds\n",
      "specialneeds\n",
      "health_wellness\n",
      "music_arts\n",
      "tx\n",
      "ny\n",
      "appliedlearning\n",
      "literacy mathematics\n",
      "fl\n",
      "appliedsciences\n",
      "nc\n",
      "school\n",
      "literature_writing mathematics\n",
      "literacy literature_writing\n"
     ]
    }
   ],
   "source": [
    "feature=neigh.feature_log_prob_[1,:].argsort()[::-1][:5263]\n",
    "for i in feature[:30]:\n",
    "    print(p[i])"
   ]
  },
  {
   "cell_type": "markdown",
   "metadata": {},
   "source": [
    "<h3> Top 20 negative features for set2"
   ]
  },
  {
   "cell_type": "code",
   "execution_count": 60,
   "metadata": {},
   "outputs": [
    {
     "name": "stdout",
     "output_type": "stream",
     "text": [
      "mrs\n",
      "grades_prek_2\n",
      "ms\n",
      "grades_3_5\n",
      "literacy_language\n",
      "math_science\n",
      "grades_6_8\n",
      "mathematics\n",
      "literacy\n",
      "ca\n",
      "health_sports\n",
      "students\n",
      "grades_9_12\n",
      "literature_writing\n",
      "mr\n",
      "tx\n",
      "literacy_language math_science\n",
      "specialneeds\n",
      "specialneeds\n",
      "appliedlearning\n",
      "music_arts\n",
      "appliedsciences\n",
      "fl\n",
      "health_wellness\n",
      "ny\n",
      "literacy mathematics\n",
      "school\n",
      "nc\n",
      "visualarts\n",
      "learning\n"
     ]
    }
   ],
   "source": [
    "feature=neigh.feature_log_prob_[0,:].argsort()[::-1][:5263]\n",
    "for i in feature[:30]:\n",
    "    print(p[i])"
   ]
  },
  {
   "cell_type": "markdown",
   "metadata": {},
   "source": [
    "<h1>3. Summary without class priors i.e. with fit-priors</h1>\n",
    "\n",
    "<br> as mentioned in the step 5 of instructions"
   ]
  },
  {
   "cell_type": "code",
   "execution_count": 61,
   "metadata": {},
   "outputs": [
    {
     "name": "stdout",
     "output_type": "stream",
     "text": [
      "+------------+----------------+-----------------------------+------+\n",
      "| Vectorizer |     Model      | Hyperparameter(alpha value) | AUC  |\n",
      "+------------+----------------+-----------------------------+------+\n",
      "|    BOW     | Multinomial NB |             0.5             | 0.68 |\n",
      "|   TFIDF    | Multinomial NB |             0.05            | 0.66 |\n",
      "+------------+----------------+-----------------------------+------+\n"
     ]
    }
   ],
   "source": [
    "from prettytable import PrettyTable\n",
    "\n",
    "table=PrettyTable()\n",
    "table.field_names=['Vectorizer','Model','Hyperparameter(alpha value)','AUC']\n",
    "\n",
    "table.add_row(['BOW','Multinomial NB','0.5','0.68'])\n",
    "table.add_row(['TFIDF','Multinomial NB','0.05','0.66'])\n",
    "\n",
    "print(table)"
   ]
  },
  {
   "cell_type": "code",
   "execution_count": null,
   "metadata": {},
   "outputs": [],
   "source": []
  }
 ],
 "metadata": {
  "colab": {
   "collapsed_sections": [],
   "name": "6_Assignment_NB_Instructions.ipynb",
   "provenance": []
  },
  "kernelspec": {
   "display_name": "Python 3",
   "language": "python",
   "name": "python3"
  },
  "language_info": {
   "codemirror_mode": {
    "name": "ipython",
    "version": 3
   },
   "file_extension": ".py",
   "mimetype": "text/x-python",
   "name": "python",
   "nbconvert_exporter": "python",
   "pygments_lexer": "ipython3",
   "version": "3.8.5"
  }
 },
 "nbformat": 4,
 "nbformat_minor": 1
}
