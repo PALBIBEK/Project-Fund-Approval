{
 "cells": [
  {
   "cell_type": "markdown",
   "metadata": {
    "id": "8wqapAXjsc24"
   },
   "source": [
    "# GBDT"
   ]
  },
  {
   "cell_type": "code",
   "execution_count": 1,
   "metadata": {
    "colab": {
     "base_uri": "https://localhost:8080/"
    },
    "id": "CrImwIcNaS6Q",
    "outputId": "81f4caf7-031a-4a95-d448-22b16219c67f"
   },
   "outputs": [
    {
     "name": "stdout",
     "output_type": "stream",
     "text": [
      "Drive already mounted at /content/drive; to attempt to forcibly remount, call drive.mount(\"/content/drive\", force_remount=True).\n"
     ]
    }
   ],
   "source": [
    "from google.colab import drive\n",
    "drive.mount('/content/drive')"
   ]
  },
  {
   "cell_type": "markdown",
   "metadata": {
    "id": "3KwfGufDsc3D"
   },
   "source": [
    "<ol>\n",
    "    <li><strong>Apply GBDT on these feature sets</strong>\n",
    "        <ul>\n",
    "            <li><font color='red'>Set 1</font>: categorical(instead of one hot encoding, try response coding: use probability values), numerical features + project_title(TFIDF)+  preprocessed_eassay (TFIDF)+sentiment Score of eassay(check the bellow example, include all 4 values as 4 features)</li>\n",
    "            <li><font color='red'>Set 2</font>: categorical(instead of one hot encoding, try response coding: use probability values), numerical features + project_title(TFIDF W2V)+  preprocessed_eassay (TFIDF W2V)</li>        </ul>\n",
    "    </li>\n",
    "    <li><strong>The hyper paramter tuning (Consider any two hyper parameters)</strong>\n",
    "        <ul>\n",
    "    <li>Find the best hyper parameter which will give the maximum AUC value.</li>\n",
    "    <li>Find the best hyper paramter using k-fold cross validation.</li>\n",
    "        </ul>\n",
    "    </li>\n",
    "    <li>\n",
    "    <strong>Representation of results</strong>\n",
    "        <ul>\n",
    "    <li>Plot the performance of model both on train data and cross validation data for each hyper parameter using seaborn heat maps with rows as <strong>n_estimators</strong>, columns as <strong>max_depth</strong>, and values inside the cell representing <strong>AUC Score</strong> </li>\n",
    "    <li>Once after we found the best hyper parameter, we need to train your model with it, and find the AUC on test data and plot the ROC curve on both train and test.\n",
    "</li>\n",
    "    <li>Along with plotting ROC curve, you need to print the <a href='https://www.appliedaicourse.com/course/applied-ai-course-online/lessons/confusion-matrix-tpr-fpr-fnr-tnr-1/'>confusion matrix</a> with predicted and original labels of test data points\n",
    "    <img src='https://i.imgur.com/IdN5Ctv.png' width=300px></li>\n",
    "            </ul>\n",
    "    <br>\n",
    "    <li>You need to summarize the results at the end of the notebook, summarize it in the table format\n",
    "        <img src='http://i.imgur.com/YVpIGGE.jpg' width=400px>\n",
    "    </li>\n",
    "</ol>"
   ]
  },
  {
   "cell_type": "code",
   "execution_count": 2,
   "metadata": {
    "colab": {
     "base_uri": "https://localhost:8080/"
    },
    "id": "iffa2_WGsc3H",
    "outputId": "031c87f3-7229-4fdd-cc2e-6dca9b50e176"
   },
   "outputs": [
    {
     "name": "stdout",
     "output_type": "stream",
     "text": [
      "[nltk_data] Downloading package vader_lexicon to /root/nltk_data...\n",
      "[nltk_data]   Package vader_lexicon is already up-to-date!\n",
      "neg: 0.01, neu: 0.745, pos: 0.245, compound: 0.9975, "
     ]
    },
    {
     "name": "stderr",
     "output_type": "stream",
     "text": [
      "/usr/local/lib/python3.7/dist-packages/nltk/twitter/__init__.py:20: UserWarning: The twython library has not been installed. Some functionality from the twitter package will not be available.\n",
      "  warnings.warn(\"The twython library has not been installed. \"\n"
     ]
    }
   ],
   "source": [
    "import nltk\n",
    "nltk.download('vader_lexicon')\n",
    "from nltk.sentiment.vader import SentimentIntensityAnalyzer\n",
    "\n",
    "# import nltk\n",
    "# nltk.download('vader_lexicon')\n",
    "\n",
    "sid = SentimentIntensityAnalyzer()\n",
    "\n",
    "for_sentiment = 'a person is a person no matter how small dr seuss i teach the smallest students with the biggest enthusiasm \\\n",
    "for learning my students learn in many different ways using all of our senses and multiple intelligences i use a wide range\\\n",
    "of techniques to help all my students succeed students in my class come from a variety of different backgrounds which makes\\\n",
    "for wonderful sharing of experiences and cultures including native americans our school is a caring community of successful \\\n",
    "learners which can be seen through collaborative student project based learning in and out of the classroom kindergarteners \\\n",
    "in my class love to work with hands on materials and have many different opportunities to practice a skill before it is\\\n",
    "mastered having the social skills to work cooperatively with friends is a crucial aspect of the kindergarten curriculum\\\n",
    "montana is the perfect place to learn about agriculture and nutrition my students love to role play in our pretend kitchen\\\n",
    "in the early childhood classroom i have had several kids ask me can we try cooking with real food i will take their idea \\\n",
    "and create common core cooking lessons where we learn important math and writing concepts while cooking delicious healthy \\\n",
    "food for snack time my students will have a grounded appreciation for the work that went into making the food and knowledge \\\n",
    "of where the ingredients came from as well as how it is healthy for their bodies this project would expand our learning of \\\n",
    "nutrition and agricultural cooking recipes by having us peel our own apples to make homemade applesauce make our own bread \\\n",
    "and mix up healthy plants from our classroom garden in the spring we will also create our own cookbooks to be printed and \\\n",
    "shared with families students will gain math and literature skills as well as a life long enjoyment for healthy cooking \\\n",
    "nannan'\n",
    "ss = sid.polarity_scores(for_sentiment)\n",
    "\n",
    "for k in ss:\n",
    "    print('{0}: {1}, '.format(k, ss[k]), end='')\n",
    "\n",
    "# we can use these 4 things as features/attributes (neg, neu, pos, compound)\n",
    "# neg: 0.0, neu: 0.753, pos: 0.247, compound: 0.93"
   ]
  },
  {
   "cell_type": "markdown",
   "metadata": {
    "id": "BOyTl7oKsc3W"
   },
   "source": [
    "<h1>1. GBDT (xgboost/lightgbm) </h1>"
   ]
  },
  {
   "cell_type": "markdown",
   "metadata": {
    "id": "VWge-b2Zsc3Z"
   },
   "source": [
    "## 1.1 Loading Data"
   ]
  },
  {
   "cell_type": "code",
   "execution_count": 3,
   "metadata": {
    "id": "WDZFu6-usc3d"
   },
   "outputs": [],
   "source": [
    "import pandas as pd\n",
    "import numpy as np\n",
    "from tqdm import tqdm\n",
    "data = pd.read_csv('/content/drive/MyDrive/preprocessed_data.csv')"
   ]
  },
  {
   "cell_type": "code",
   "execution_count": 4,
   "metadata": {
    "id": "yGxhGDiHa8yT"
   },
   "outputs": [],
   "source": [
    "import pickle\n",
    "with open('/content/drive/MyDrive/glove_vectors', 'rb') as f:\n",
    "    model = pickle.load(f)\n",
    "    glove_words =  set(model.keys())"
   ]
  },
  {
   "cell_type": "code",
   "execution_count": 5,
   "metadata": {
    "colab": {
     "base_uri": "https://localhost:8080/",
     "height": 287
    },
    "id": "vB93V23IbUiu",
    "outputId": "57bc5909-547c-4f94-80fc-02cad462f8fc"
   },
   "outputs": [
    {
     "data": {
      "text/html": [
       "<div>\n",
       "<style scoped>\n",
       "    .dataframe tbody tr th:only-of-type {\n",
       "        vertical-align: middle;\n",
       "    }\n",
       "\n",
       "    .dataframe tbody tr th {\n",
       "        vertical-align: top;\n",
       "    }\n",
       "\n",
       "    .dataframe thead th {\n",
       "        text-align: right;\n",
       "    }\n",
       "</style>\n",
       "<table border=\"1\" class=\"dataframe\">\n",
       "  <thead>\n",
       "    <tr style=\"text-align: right;\">\n",
       "      <th></th>\n",
       "      <th>school_state</th>\n",
       "      <th>teacher_prefix</th>\n",
       "      <th>project_grade_category</th>\n",
       "      <th>teacher_number_of_previously_posted_projects</th>\n",
       "      <th>project_is_approved</th>\n",
       "      <th>clean_categories</th>\n",
       "      <th>clean_subcategories</th>\n",
       "      <th>essay</th>\n",
       "      <th>price</th>\n",
       "    </tr>\n",
       "  </thead>\n",
       "  <tbody>\n",
       "    <tr>\n",
       "      <th>0</th>\n",
       "      <td>ca</td>\n",
       "      <td>mrs</td>\n",
       "      <td>grades_prek_2</td>\n",
       "      <td>53</td>\n",
       "      <td>1</td>\n",
       "      <td>math_science</td>\n",
       "      <td>appliedsciences health_lifescience</td>\n",
       "      <td>i fortunate enough use fairy tale stem kits cl...</td>\n",
       "      <td>725.05</td>\n",
       "    </tr>\n",
       "    <tr>\n",
       "      <th>1</th>\n",
       "      <td>ut</td>\n",
       "      <td>ms</td>\n",
       "      <td>grades_3_5</td>\n",
       "      <td>4</td>\n",
       "      <td>1</td>\n",
       "      <td>specialneeds</td>\n",
       "      <td>specialneeds</td>\n",
       "      <td>imagine 8 9 years old you third grade classroo...</td>\n",
       "      <td>213.03</td>\n",
       "    </tr>\n",
       "  </tbody>\n",
       "</table>\n",
       "</div>"
      ],
      "text/plain": [
       "  school_state  ...   price\n",
       "0           ca  ...  725.05\n",
       "1           ut  ...  213.03\n",
       "\n",
       "[2 rows x 9 columns]"
      ]
     },
     "execution_count": 5,
     "metadata": {
      "tags": []
     },
     "output_type": "execute_result"
    }
   ],
   "source": [
    "data.head(2)"
   ]
  },
  {
   "cell_type": "markdown",
   "metadata": {
    "id": "6lAMFKFcsc3j"
   },
   "source": [
    "<h2>1.2 Splitting data into Train and cross validation(or test): Stratified Sampling</h2>"
   ]
  },
  {
   "cell_type": "code",
   "execution_count": 48,
   "metadata": {
    "id": "ODMijuuNsc3l"
   },
   "outputs": [],
   "source": [
    "X=data.drop(['project_is_approved'],axis=1)\n",
    "Y=data['project_is_approved']"
   ]
  },
  {
   "cell_type": "code",
   "execution_count": 49,
   "metadata": {
    "colab": {
     "base_uri": "https://localhost:8080/",
     "height": 287
    },
    "id": "yaqZkDzKcHFl",
    "outputId": "af01574a-4e26-40ad-88de-7e0403c325f9"
   },
   "outputs": [
    {
     "data": {
      "text/html": [
       "<div>\n",
       "<style scoped>\n",
       "    .dataframe tbody tr th:only-of-type {\n",
       "        vertical-align: middle;\n",
       "    }\n",
       "\n",
       "    .dataframe tbody tr th {\n",
       "        vertical-align: top;\n",
       "    }\n",
       "\n",
       "    .dataframe thead th {\n",
       "        text-align: right;\n",
       "    }\n",
       "</style>\n",
       "<table border=\"1\" class=\"dataframe\">\n",
       "  <thead>\n",
       "    <tr style=\"text-align: right;\">\n",
       "      <th></th>\n",
       "      <th>school_state</th>\n",
       "      <th>teacher_prefix</th>\n",
       "      <th>project_grade_category</th>\n",
       "      <th>teacher_number_of_previously_posted_projects</th>\n",
       "      <th>clean_categories</th>\n",
       "      <th>clean_subcategories</th>\n",
       "      <th>essay</th>\n",
       "      <th>price</th>\n",
       "    </tr>\n",
       "  </thead>\n",
       "  <tbody>\n",
       "    <tr>\n",
       "      <th>0</th>\n",
       "      <td>ca</td>\n",
       "      <td>mrs</td>\n",
       "      <td>grades_prek_2</td>\n",
       "      <td>53</td>\n",
       "      <td>math_science</td>\n",
       "      <td>appliedsciences health_lifescience</td>\n",
       "      <td>i fortunate enough use fairy tale stem kits cl...</td>\n",
       "      <td>725.05</td>\n",
       "    </tr>\n",
       "    <tr>\n",
       "      <th>1</th>\n",
       "      <td>ut</td>\n",
       "      <td>ms</td>\n",
       "      <td>grades_3_5</td>\n",
       "      <td>4</td>\n",
       "      <td>specialneeds</td>\n",
       "      <td>specialneeds</td>\n",
       "      <td>imagine 8 9 years old you third grade classroo...</td>\n",
       "      <td>213.03</td>\n",
       "    </tr>\n",
       "  </tbody>\n",
       "</table>\n",
       "</div>"
      ],
      "text/plain": [
       "  school_state  ...   price\n",
       "0           ca  ...  725.05\n",
       "1           ut  ...  213.03\n",
       "\n",
       "[2 rows x 8 columns]"
      ]
     },
     "execution_count": 49,
     "metadata": {
      "tags": []
     },
     "output_type": "execute_result"
    }
   ],
   "source": [
    "X.head(2)"
   ]
  },
  {
   "cell_type": "code",
   "execution_count": 50,
   "metadata": {
    "id": "_dV9jZrNcRWn"
   },
   "outputs": [],
   "source": [
    "from sklearn.model_selection import train_test_split\n",
    "X_train,X_test,Y_train,Y_test=train_test_split(X,Y,stratify=Y,test_size=0.33)"
   ]
  },
  {
   "cell_type": "code",
   "execution_count": 51,
   "metadata": {
    "colab": {
     "base_uri": "https://localhost:8080/"
    },
    "id": "sm1be25Jctx6",
    "outputId": "136169a5-c288-464e-8acf-d5232704e4e3"
   },
   "outputs": [
    {
     "name": "stdout",
     "output_type": "stream",
     "text": [
      "(73196, 8) (36052, 8) (73196,) (36052,)\n"
     ]
    }
   ],
   "source": [
    "print(X_train.shape,X_test.shape,Y_train.shape,Y_test.shape)"
   ]
  },
  {
   "cell_type": "markdown",
   "metadata": {
    "id": "vsALgl5Asc3u"
   },
   "source": [
    "<h2>1.3 Make Data Model Ready: encoding eassay, and project_title</h2>"
   ]
  },
  {
   "cell_type": "code",
   "execution_count": 10,
   "metadata": {
    "colab": {
     "base_uri": "https://localhost:8080/"
    },
    "id": "1A_85jbWsc3v",
    "outputId": "37525970-ddb2-4b14-94f8-0610763b60fb"
   },
   "outputs": [
    {
     "name": "stdout",
     "output_type": "stream",
     "text": [
      "(73196, 5000) (36052, 5000)\n"
     ]
    }
   ],
   "source": [
    "from sklearn.feature_extraction.text import TfidfVectorizer\n",
    "vectorizer=TfidfVectorizer(min_df=10,max_features=5000)\n",
    "vectorizer.fit(X_train['essay'])\n",
    "X_train_essay=vectorizer.transform(X_train['essay'].values)\n",
    "X_test_essay=vectorizer.transform(X_test['essay'].values)\n",
    "\n",
    "print(X_train_essay.shape,X_test_essay.shape)"
   ]
  },
  {
   "cell_type": "code",
   "execution_count": 11,
   "metadata": {
    "id": "i_k9rgvDj-Et"
   },
   "outputs": [],
   "source": [
    "dictionary=dict(zip(vectorizer.get_feature_names(),vectorizer.idf_))\n",
    "tfidf_words=set(vectorizer.get_feature_names())"
   ]
  },
  {
   "cell_type": "code",
   "execution_count": 12,
   "metadata": {
    "colab": {
     "base_uri": "https://localhost:8080/"
    },
    "id": "yae3-PLNlajO",
    "outputId": "883d0c56-c24a-4467-8c1b-0462ec8dbb7d"
   },
   "outputs": [
    {
     "name": "stderr",
     "output_type": "stream",
     "text": [
      "100%|██████████| 73196/73196 [02:42<00:00, 451.54it/s]\n",
      "100%|██████████| 36052/36052 [01:20<00:00, 449.19it/s]"
     ]
    },
    {
     "name": "stdout",
     "output_type": "stream",
     "text": [
      "73196 300\n",
      "36052 300\n"
     ]
    },
    {
     "name": "stderr",
     "output_type": "stream",
     "text": [
      "\n"
     ]
    }
   ],
   "source": [
    "tfidf_w2v_train=[]\n",
    "tfidf_w2v_test=[]\n",
    "\n",
    "for sentence in tqdm(X_train['essay']):\n",
    "  vector=np.zeros(300)\n",
    "  tf_idf_weight=0\n",
    "\n",
    "  for word in sentence.split():\n",
    "    if (word in glove_words) and (word in tfidf_words):\n",
    "      vec=model[word]\n",
    "      tf_idf=dictionary[word]*(sentence.count(word)/len(sentence.split()))\n",
    "      vector+=vec*tf_idf\n",
    "      tf_idf_weight+=tf_idf\n",
    "  if tf_idf_weight!=0:\n",
    "    vector/=tf_idf_weight\n",
    "  tfidf_w2v_train.append(vector)\n",
    "\n",
    "for sentence in tqdm(X_test['essay']):\n",
    "  vector=np.zeros(300)\n",
    "  tf_idf_weight=0\n",
    "\n",
    "  for word in sentence.split():\n",
    "    if (word in glove_words) and (word in tfidf_words):\n",
    "      vec=model[word]\n",
    "      tf_idf=dictionary[word]*(sentence.count(word)/len(sentence.split()))\n",
    "      vector+=vec*tf_idf\n",
    "      tf_idf_weight+=tf_idf\n",
    "  if tf_idf_weight!=0:\n",
    "    vector/=tf_idf_weight\n",
    "  tfidf_w2v_test.append(vector)\n",
    "\n",
    "print(len(tfidf_w2v_train),len(tfidf_w2v_train[0]))\n",
    "print(len(tfidf_w2v_test),len(tfidf_w2v_test[0]))"
   ]
  },
  {
   "cell_type": "markdown",
   "metadata": {
    "id": "S3Vxxv2Hsc31"
   },
   "source": [
    "<h2>1.4 Make Data Model Ready: encoding numerical, categorical features</h2>"
   ]
  },
  {
   "cell_type": "markdown",
   "metadata": {
    "id": "HghV9vEWp6i5"
   },
   "source": [
    "<h2>Encoding teacher_number_of_previously_posted_projects</h2>"
   ]
  },
  {
   "cell_type": "code",
   "execution_count": 98,
   "metadata": {
    "colab": {
     "base_uri": "https://localhost:8080/"
    },
    "id": "RAtihVPqsc33",
    "outputId": "d63830ad-1e1e-4bc9-cfe4-4856a92b92d0"
   },
   "outputs": [
    {
     "name": "stdout",
     "output_type": "stream",
     "text": [
      "(1, 73196)\n",
      "(1, 36052)\n"
     ]
    }
   ],
   "source": [
    "from sklearn.preprocessing import Normalizer\n",
    "normalizer=Normalizer()\n",
    "\n",
    "normalizer.fit(X_train['teacher_number_of_previously_posted_projects'].values.reshape(1,-1))\n",
    "X_train_proj=normalizer.transform(X_train['teacher_number_of_previously_posted_projects'].values.reshape(1,-1))\n",
    "X_test_proj=normalizer.transform(X_test['teacher_number_of_previously_posted_projects'].values.reshape(1,-1))\n",
    "\n",
    "print(X_train_proj.shape)\n",
    "print(X_test_proj.shape)"
   ]
  },
  {
   "cell_type": "markdown",
   "metadata": {
    "id": "0tX2rTklqCEk"
   },
   "source": [
    "<h2>Encoding Price</h2>"
   ]
  },
  {
   "cell_type": "code",
   "execution_count": 99,
   "metadata": {
    "colab": {
     "base_uri": "https://localhost:8080/"
    },
    "id": "_zrNx6AcqGMt",
    "outputId": "6037e7bc-9358-4b25-febb-5910e7a85dfd"
   },
   "outputs": [
    {
     "name": "stdout",
     "output_type": "stream",
     "text": [
      "(1, 73196)\n",
      "(1, 36052)\n"
     ]
    }
   ],
   "source": [
    "from sklearn.preprocessing import Normalizer\n",
    "normalizer=Normalizer()\n",
    "\n",
    "normalizer.fit(X_train['price'].values.reshape(1,-1))\n",
    "X_train_price=normalizer.transform(X_train['price'].values.reshape(1,-1))\n",
    "X_test_price=normalizer.transform(X_test['price'].values.reshape(1,-1))\n",
    "\n",
    "print(X_train_proj.shape)\n",
    "print(X_test_proj.shape)"
   ]
  },
  {
   "cell_type": "code",
   "execution_count": 100,
   "metadata": {
    "colab": {
     "base_uri": "https://localhost:8080/"
    },
    "id": "zPftz9Mrt_yx",
    "outputId": "a56d59bb-c793-4bbd-a6b2-a4f3f7e8529a"
   },
   "outputs": [
    {
     "name": "stdout",
     "output_type": "stream",
     "text": [
      "(62113, 18) (11083, 18)\n"
     ]
    }
   ],
   "source": [
    "X_train_positive=X_train.loc[Y_train==1]\n",
    "X_train_negative=X_train.loc[Y_train==0]\n",
    "\n",
    "print(X_train_positive.shape,X_train_negative.shape)"
   ]
  },
  {
   "cell_type": "markdown",
   "metadata": {
    "id": "roJBOmourNVI"
   },
   "source": [
    "<h2>Encoding school_state</h2>"
   ]
  },
  {
   "cell_type": "code",
   "execution_count": 101,
   "metadata": {
    "colab": {
     "base_uri": "https://localhost:8080/"
    },
    "id": "KT3QwVOUrVzJ",
    "outputId": "893f260f-4611-47f5-bcb9-f50429030487"
   },
   "outputs": [
    {
     "name": "stdout",
     "output_type": "stream",
     "text": [
      "{'oh': 1460, 'ny': 4230, 'ca': 8877, 'sc': 2211, 'in': 1494, 'nm': 314, 'wi': 1035, 'or': 697, 'va': 1142, 'tn': 965, 'nc': 2897, 'wa': 1359, 'ct': 973, 'ut': 984, 'ma': 1384, 'az': 1206, 'fl': 3471, 'mi': 1810, 'la': 1309, 'il': 2491, 'ok': 1302, 'nj': 1266, 'co': 618, 'ms': 766, 'ky': 777, 'pa': 1745, 'hi': 302, 'ri': 157, 'ga': 2234, 'tx': 3998, 'mn': 700, 'de': 211, 'md': 842, 'mo': 1480, 'al': 1010, 'mt': 139, 'ks': 354, 'nv': 791, 'ar': 585, 'me': 274, 'dc': 295, 'sd': 178, 'wv': 284, 'ne': 173, 'id': 371, 'nd': 95, 'ak': 189, 'nh': 213, 'vt': 41, 'ia': 360, 'wy': 54}\n",
      "{'pa': 295, 'sc': 362, 'mo': 253, 'or': 118, 'mi': 335, 'fl': 705, 'la': 265, 'nj': 233, 'mt': 36, 'ga': 433, 'va': 201, 'in': 270, 'ok': 273, 'nc': 487, 'az': 236, 'md': 157, 'nm': 63, 'tx': 931, 'mn': 118, 'al': 160, 'oh': 191, 'ms': 123, 'nv': 124, 'wa': 197, 'ny': 683, 'ct': 148, 'me': 50, 'ky': 112, 'ak': 45, 'ca': 1471, 'wy': 12, 'il': 437, 'sd': 34, 'wi': 186, 'tn': 172, 'id': 83, 'ma': 223, 'ut': 199, 'co': 108, 'ks': 75, 'ar': 113, 'dc': 65, 'wv': 42, 'hi': 47, 'nh': 32, 'vt': 12, 'ne': 33, 'ri': 30, 'nd': 12, 'ia': 68, 'de': 25}\n",
      "{'oh': 1651, 'ny': 4913, 'ca': 10348, 'sc': 2573, 'in': 1764, 'nm': 377, 'pa': 2040, 'wi': 1221, 'or': 815, 'va': 1343, 'tn': 1137, 'nc': 3384, 'mo': 1733, 'wa': 1556, 'ct': 1121, 'ut': 1183, 'ma': 1607, 'az': 1442, 'fl': 4176, 'mi': 2145, 'la': 1574, 'il': 2928, 'ok': 1575, 'nj': 1499, 'co': 726, 'ms': 889, 'ky': 889, 'hi': 349, 'ri': 187, 'ga': 2667, 'tx': 4929, 'mn': 818, 'mt': 175, 'de': 236, 'md': 999, 'al': 1170, 'ks': 429, 'nv': 915, 'ar': 698, 'me': 324, 'dc': 360, 'sd': 212, 'wv': 326, 'ne': 206, 'id': 454, 'nd': 107, 'ak': 234, 'nh': 245, 'wy': 66, 'vt': 53, 'ia': 428}\n",
      "{'oh': 0.884312537855845, 'ny': 0.8609810706289436, 'ca': 0.8578469269424043, 'sc': 0.8593082005441119, 'in': 0.8469387755102041, 'nm': 0.8328912466843501, 'pa': 0.8553921568627451, 'wi': 0.8476658476658476, 'or': 0.8552147239263803, 'va': 0.8503350707371556, 'tn': 0.8487247141600703, 'nc': 0.8560874704491725, 'mo': 0.8540103866128101, 'wa': 0.8733933161953727, 'ct': 0.8679750223015165, 'ut': 0.8317836010143702, 'ma': 0.8612321095208463, 'az': 0.8363384188626907, 'fl': 0.8311781609195402, 'mi': 0.8438228438228438, 'la': 0.8316391359593392, 'il': 0.8507513661202186, 'ok': 0.8266666666666667, 'nj': 0.8445630420280187, 'co': 0.8512396694214877, 'ms': 0.8616422947131609, 'ky': 0.8740157480314961, 'hi': 0.8653295128939829, 'ri': 0.839572192513369, 'ga': 0.8376452943382077, 'tx': 0.8111178738080747, 'mn': 0.8557457212713936, 'mt': 0.7942857142857143, 'de': 0.8940677966101694, 'md': 0.8428428428428428, 'al': 0.8632478632478633, 'ks': 0.8251748251748252, 'nv': 0.8644808743169399, 'ar': 0.83810888252149, 'me': 0.845679012345679, 'dc': 0.8194444444444444, 'sd': 0.839622641509434, 'wv': 0.8711656441717791, 'ne': 0.8398058252427184, 'id': 0.8171806167400881, 'nd': 0.8878504672897196, 'ak': 0.8076923076923077, 'nh': 0.8693877551020408, 'wy': 0.8181818181818182, 'vt': 0.7735849056603774, 'ia': 0.8411214953271028}\n",
      "{'oh': 0.11568746214415505, 'ny': 0.1390189293710564, 'ca': 0.14215307305759567, 'sc': 0.14069179945588806, 'in': 0.15306122448979592, 'nm': 0.16710875331564987, 'pa': 0.14460784313725492, 'wi': 0.15233415233415235, 'or': 0.14478527607361963, 'va': 0.1496649292628444, 'tn': 0.15127528583992964, 'nc': 0.14391252955082742, 'mo': 0.14598961338718985, 'wa': 0.12660668380462725, 'ct': 0.1320249776984835, 'ut': 0.16821639898562976, 'ma': 0.1387678904791537, 'az': 0.1636615811373093, 'fl': 0.16882183908045978, 'mi': 0.1561771561771562, 'la': 0.16836086404066072, 'il': 0.14924863387978143, 'ok': 0.17333333333333334, 'nj': 0.15543695797198132, 'co': 0.1487603305785124, 'ms': 0.13835770528683913, 'ky': 0.12598425196850394, 'hi': 0.1346704871060172, 'ri': 0.16042780748663102, 'ga': 0.16235470566179228, 'tx': 0.18888212619192535, 'mn': 0.14425427872860636, 'mt': 0.2057142857142857, 'de': 0.1059322033898305, 'md': 0.15715715715715717, 'al': 0.13675213675213677, 'ks': 0.17482517482517482, 'nv': 0.1355191256830601, 'ar': 0.16189111747851004, 'me': 0.15432098765432098, 'dc': 0.18055555555555555, 'sd': 0.16037735849056603, 'wv': 0.12883435582822086, 'ne': 0.16019417475728157, 'id': 0.1828193832599119, 'nd': 0.11214953271028037, 'ak': 0.19230769230769232, 'nh': 0.1306122448979592, 'wy': 0.18181818181818182, 'vt': 0.22641509433962265, 'ia': 0.1588785046728972}\n"
     ]
    }
   ],
   "source": [
    "school_state_positive={}\n",
    "school_state_negative={}\n",
    "school_state_total={}\n",
    "\n",
    "for state in X_train_positive['school_state']:\n",
    "  if state in school_state_positive:\n",
    "    school_state_positive[state]+=1\n",
    "  else:\n",
    "    school_state_positive[state]=1\n",
    "\n",
    "for state in X_train_negative['school_state']:\n",
    "  if state in school_state_negative:\n",
    "    school_state_negative[state]+=1\n",
    "  else:\n",
    "    school_state_negative[state]=1\n",
    "\n",
    "for state in X_train['school_state']:\n",
    "  if state in school_state_total:\n",
    "    school_state_total[state]+=1\n",
    "  else:\n",
    "    school_state_total[state]=1\n",
    "  if state not in school_state_positive:\n",
    "    school_state_positive[state]=0\n",
    "  if state not in school_state_negative:\n",
    "    school_state_negative[state]=0\n",
    "\n",
    "print(school_state_positive)\n",
    "print(school_state_negative)\n",
    "print(school_state_total)\n",
    "\n",
    "prob_school_state_pos={}\n",
    "prob_school_state_neg={}\n",
    "\n",
    "for state in school_state_total.keys():\n",
    "  prob_school_state_pos[state]=school_state_positive[state]/school_state_total[state]\n",
    "  prob_school_state_neg[state]=school_state_negative[state]/school_state_total[state]\n",
    "\n",
    "print(prob_school_state_pos)\n",
    "print(prob_school_state_neg)"
   ]
  },
  {
   "cell_type": "code",
   "execution_count": 102,
   "metadata": {
    "id": "ojoPHKzjwDMI"
   },
   "outputs": [],
   "source": [
    "import warnings\n",
    "warnings.filterwarnings(\"ignore\")\n",
    "\n",
    "school_state_1_train=[]\n",
    "school_state_0_train=[]\n",
    "\n",
    "for state in X_train['school_state']:\n",
    "  school_state_1_train+=prob_school_state_pos[state],\n",
    "  school_state_0_train+=prob_school_state_neg[state],\n",
    "\n",
    "school_state_1_test=[]\n",
    "school_state_0_test=[]\n",
    "\n",
    "for state in X_test['school_state']:\n",
    "  if state in prob_school_state_pos:\n",
    "    school_state_1_test+=prob_school_state_pos[state],\n",
    "  else:\n",
    "    school_state_1_test+=0.5,\n",
    "  if state in prob_school_state_neg:\n",
    "    school_state_0_test+=prob_school_state_neg[state],\n",
    "  else:\n",
    "    school_state_0_test+=0.5,\n",
    "\n",
    "X_train['school_state_1']=school_state_1_train\n",
    "X_train['school_state_0']=school_state_0_train\n",
    "X_test['school_state_1']=school_state_1_test\n",
    "X_test['school_state_0']=school_state_0_test"
   ]
  },
  {
   "cell_type": "code",
   "execution_count": 103,
   "metadata": {
    "colab": {
     "base_uri": "https://localhost:8080/",
     "height": 287
    },
    "id": "fwI5ZKJs0xbk",
    "outputId": "0c41f4ac-1bef-48b7-fc6a-290f629fe254"
   },
   "outputs": [
    {
     "data": {
      "text/html": [
       "<div>\n",
       "<style scoped>\n",
       "    .dataframe tbody tr th:only-of-type {\n",
       "        vertical-align: middle;\n",
       "    }\n",
       "\n",
       "    .dataframe tbody tr th {\n",
       "        vertical-align: top;\n",
       "    }\n",
       "\n",
       "    .dataframe thead th {\n",
       "        text-align: right;\n",
       "    }\n",
       "</style>\n",
       "<table border=\"1\" class=\"dataframe\">\n",
       "  <thead>\n",
       "    <tr style=\"text-align: right;\">\n",
       "      <th></th>\n",
       "      <th>school_state</th>\n",
       "      <th>teacher_prefix</th>\n",
       "      <th>project_grade_category</th>\n",
       "      <th>teacher_number_of_previously_posted_projects</th>\n",
       "      <th>clean_categories</th>\n",
       "      <th>clean_subcategories</th>\n",
       "      <th>essay</th>\n",
       "      <th>price</th>\n",
       "      <th>school_state_1</th>\n",
       "      <th>school_state_0</th>\n",
       "      <th>teacher_prefix_1</th>\n",
       "      <th>teacher_prefix_0</th>\n",
       "      <th>project_grade_category_1</th>\n",
       "      <th>project_grade_category_0</th>\n",
       "      <th>clean_categories_1</th>\n",
       "      <th>clean_categories_0</th>\n",
       "      <th>clean_subcategories_1</th>\n",
       "      <th>clean_subcategories_0</th>\n",
       "    </tr>\n",
       "  </thead>\n",
       "  <tbody>\n",
       "    <tr>\n",
       "      <th>102241</th>\n",
       "      <td>oh</td>\n",
       "      <td>ms</td>\n",
       "      <td>grades_3_5</td>\n",
       "      <td>6</td>\n",
       "      <td>literacy_language math_science</td>\n",
       "      <td>literature_writing mathematics</td>\n",
       "      <td>project based learning we technology world tes...</td>\n",
       "      <td>35.70</td>\n",
       "      <td>0.884313</td>\n",
       "      <td>0.115687</td>\n",
       "      <td>0.844534</td>\n",
       "      <td>0.155466</td>\n",
       "      <td>0.85413</td>\n",
       "      <td>0.14587</td>\n",
       "      <td>0.871690</td>\n",
       "      <td>0.128310</td>\n",
       "      <td>1.0</td>\n",
       "      <td>0.0</td>\n",
       "    </tr>\n",
       "    <tr>\n",
       "      <th>56703</th>\n",
       "      <td>ny</td>\n",
       "      <td>mr</td>\n",
       "      <td>grades_3_5</td>\n",
       "      <td>0</td>\n",
       "      <td>health_sports specialneeds</td>\n",
       "      <td>health_wellness specialneeds</td>\n",
       "      <td>i student frequently falls seat little girl cl...</td>\n",
       "      <td>282.97</td>\n",
       "      <td>0.860981</td>\n",
       "      <td>0.139019</td>\n",
       "      <td>0.840506</td>\n",
       "      <td>0.159494</td>\n",
       "      <td>0.85413</td>\n",
       "      <td>0.14587</td>\n",
       "      <td>0.876727</td>\n",
       "      <td>0.123273</td>\n",
       "      <td>1.0</td>\n",
       "      <td>0.0</td>\n",
       "    </tr>\n",
       "  </tbody>\n",
       "</table>\n",
       "</div>"
      ],
      "text/plain": [
       "       school_state  ... clean_subcategories_0\n",
       "102241           oh  ...                   0.0\n",
       "56703            ny  ...                   0.0\n",
       "\n",
       "[2 rows x 18 columns]"
      ]
     },
     "execution_count": 103,
     "metadata": {
      "tags": []
     },
     "output_type": "execute_result"
    }
   ],
   "source": [
    "X_train.head(2)"
   ]
  },
  {
   "cell_type": "code",
   "execution_count": 104,
   "metadata": {
    "colab": {
     "base_uri": "https://localhost:8080/",
     "height": 374
    },
    "id": "tsyYb4gt1OGl",
    "outputId": "bf5401e0-aaa7-4244-878a-b9090bb7128b"
   },
   "outputs": [
    {
     "data": {
      "text/html": [
       "<div>\n",
       "<style scoped>\n",
       "    .dataframe tbody tr th:only-of-type {\n",
       "        vertical-align: middle;\n",
       "    }\n",
       "\n",
       "    .dataframe tbody tr th {\n",
       "        vertical-align: top;\n",
       "    }\n",
       "\n",
       "    .dataframe thead th {\n",
       "        text-align: right;\n",
       "    }\n",
       "</style>\n",
       "<table border=\"1\" class=\"dataframe\">\n",
       "  <thead>\n",
       "    <tr style=\"text-align: right;\">\n",
       "      <th></th>\n",
       "      <th>school_state</th>\n",
       "      <th>teacher_prefix</th>\n",
       "      <th>project_grade_category</th>\n",
       "      <th>teacher_number_of_previously_posted_projects</th>\n",
       "      <th>clean_categories</th>\n",
       "      <th>clean_subcategories</th>\n",
       "      <th>essay</th>\n",
       "      <th>price</th>\n",
       "      <th>school_state_1</th>\n",
       "      <th>school_state_0</th>\n",
       "      <th>teacher_prefix_1</th>\n",
       "      <th>teacher_prefix_0</th>\n",
       "      <th>project_grade_category_1</th>\n",
       "      <th>project_grade_category_0</th>\n",
       "      <th>clean_categories_1</th>\n",
       "      <th>clean_categories_0</th>\n",
       "      <th>clean_subcategories_1</th>\n",
       "      <th>clean_subcategories_0</th>\n",
       "    </tr>\n",
       "  </thead>\n",
       "  <tbody>\n",
       "    <tr>\n",
       "      <th>74877</th>\n",
       "      <td>la</td>\n",
       "      <td>ms</td>\n",
       "      <td>grades_3_5</td>\n",
       "      <td>7</td>\n",
       "      <td>literacy_language specialneeds</td>\n",
       "      <td>literacy specialneeds</td>\n",
       "      <td>no matter age students love learn i teach amaz...</td>\n",
       "      <td>338.88</td>\n",
       "      <td>0.831639</td>\n",
       "      <td>0.168361</td>\n",
       "      <td>0.844534</td>\n",
       "      <td>0.155466</td>\n",
       "      <td>0.85413</td>\n",
       "      <td>0.14587</td>\n",
       "      <td>0.854428</td>\n",
       "      <td>0.145572</td>\n",
       "      <td>0.861282</td>\n",
       "      <td>0.138718</td>\n",
       "    </tr>\n",
       "    <tr>\n",
       "      <th>95629</th>\n",
       "      <td>ct</td>\n",
       "      <td>mrs</td>\n",
       "      <td>grades_3_5</td>\n",
       "      <td>6</td>\n",
       "      <td>literacy_language math_science</td>\n",
       "      <td>literature_writing mathematics</td>\n",
       "      <td>what could better seeing smiles light faces fi...</td>\n",
       "      <td>459.70</td>\n",
       "      <td>0.867975</td>\n",
       "      <td>0.132025</td>\n",
       "      <td>0.855243</td>\n",
       "      <td>0.144757</td>\n",
       "      <td>0.85413</td>\n",
       "      <td>0.14587</td>\n",
       "      <td>0.871690</td>\n",
       "      <td>0.128310</td>\n",
       "      <td>0.866905</td>\n",
       "      <td>0.133095</td>\n",
       "    </tr>\n",
       "  </tbody>\n",
       "</table>\n",
       "</div>"
      ],
      "text/plain": [
       "      school_state teacher_prefix  ... clean_subcategories_1  clean_subcategories_0\n",
       "74877           la             ms  ...              0.861282               0.138718\n",
       "95629           ct            mrs  ...              0.866905               0.133095\n",
       "\n",
       "[2 rows x 18 columns]"
      ]
     },
     "execution_count": 104,
     "metadata": {
      "tags": []
     },
     "output_type": "execute_result"
    }
   ],
   "source": [
    "X_test.head(2)"
   ]
  },
  {
   "cell_type": "markdown",
   "metadata": {
    "id": "930ZJrpY1WkK"
   },
   "source": [
    "<h3>Encoding teacher_prefix</h3>"
   ]
  },
  {
   "cell_type": "code",
   "execution_count": 105,
   "metadata": {
    "colab": {
     "base_uri": "https://localhost:8080/"
    },
    "id": "ebszB4Dx1ip-",
    "outputId": "2dafc654-db2c-4a80-93fe-71f67acf9701"
   },
   "outputs": [
    {
     "name": "stdout",
     "output_type": "stream",
     "text": [
      "{'ms': 22055, 'mr': 5976, 'mrs': 32855, 'teacher': 1220, 'dr': 7}\n",
      "{'mrs': 5561, 'ms': 4060, 'mr': 1134, 'teacher': 324, 'dr': 4}\n",
      "{'ms': 26115, 'mr': 7110, 'mrs': 38416, 'teacher': 1544, 'dr': 11}\n",
      "{'ms': 0.8445337928393644, 'mr': 0.8405063291139241, 'mrs': 0.8552426072469804, 'teacher': 0.7901554404145078, 'dr': 0.6363636363636364}\n",
      "{'ms': 0.15546620716063564, 'mr': 0.15949367088607594, 'mrs': 0.14475739275301958, 'teacher': 0.20984455958549222, 'dr': 0.36363636363636365}\n"
     ]
    }
   ],
   "source": [
    "teacher_prefix_positive={}\n",
    "teacher_prefix_negative={}\n",
    "teacher_prefix_total={}\n",
    "\n",
    "for prefix in X_train_positive['teacher_prefix']:\n",
    "  if prefix in teacher_prefix_positive:\n",
    "    teacher_prefix_positive[prefix]+=1\n",
    "  else:\n",
    "    teacher_prefix_positive[prefix]=1\n",
    "\n",
    "for prefix in X_train_negative['teacher_prefix']:\n",
    "  if prefix in teacher_prefix_negative:\n",
    "    teacher_prefix_negative[prefix]+=1\n",
    "  else:\n",
    "    teacher_prefix_negative[prefix]=1\n",
    "\n",
    "for prefix in X_train['teacher_prefix']:\n",
    "  if prefix in teacher_prefix_total:\n",
    "    teacher_prefix_total[prefix]+=1\n",
    "  else:\n",
    "    teacher_prefix_total[prefix]=1\n",
    "  if prefix not in teacher_prefix_positive:\n",
    "    teacher_prefix_positive[prefix]=0\n",
    "  if prefix not in teacher_prefix_negative:\n",
    "    teacher_prefix_negative[prefix]=0\n",
    "\n",
    "print(teacher_prefix_positive)\n",
    "print(teacher_prefix_negative)\n",
    "print(teacher_prefix_total)\n",
    "\n",
    "prob_teacher_prefix_pos={}\n",
    "prob_teacher_prefix_neg={}\n",
    "\n",
    "for prefix in teacher_prefix_total.keys():\n",
    "  prob_teacher_prefix_pos[prefix]=teacher_prefix_positive[prefix]/teacher_prefix_total[prefix]\n",
    "  prob_teacher_prefix_neg[prefix]=teacher_prefix_negative[prefix]/teacher_prefix_total[prefix]\n",
    "\n",
    "print(prob_teacher_prefix_pos)\n",
    "print(prob_teacher_prefix_neg)"
   ]
  },
  {
   "cell_type": "code",
   "execution_count": 106,
   "metadata": {
    "id": "rDHmq-Mx53iz"
   },
   "outputs": [],
   "source": [
    "teacher_prefix_1_train=[]\n",
    "teacher_prefix_0_train=[]\n",
    "\n",
    "for prefix in X_train['teacher_prefix']:\n",
    "  teacher_prefix_1_train+=prob_teacher_prefix_pos[prefix],\n",
    "  teacher_prefix_0_train+=prob_teacher_prefix_neg[prefix],\n",
    "\n",
    "teacher_prefix_1_test=[]\n",
    "teacher_prefix_0_test=[]\n",
    "\n",
    "for prefix in X_test['teacher_prefix']:\n",
    "  if prefix in prob_teacher_prefix_pos:\n",
    "    teacher_prefix_1_test+=prob_teacher_prefix_pos[prefix],\n",
    "  else:\n",
    "    teacher_prefix_1_test+=0.5,\n",
    "  if prefix in prob_teacher_prefix_neg:\n",
    "    teacher_prefix_0_test+=prob_teacher_prefix_neg[prefix],\n",
    "  else:\n",
    "    teacher_prefix_0_test+=0.5,\n",
    "\n",
    "X_train['teacher_prefix_1']=teacher_prefix_1_train\n",
    "X_train['teacher_prefix_0']=teacher_prefix_0_train\n",
    "X_test['teacher_prefix_1']=teacher_prefix_1_test\n",
    "X_test['teacher_prefix_0']=teacher_prefix_0_test"
   ]
  },
  {
   "cell_type": "code",
   "execution_count": 107,
   "metadata": {
    "colab": {
     "base_uri": "https://localhost:8080/",
     "height": 287
    },
    "id": "Nsf_r8yy6m9H",
    "outputId": "44fd79d7-c0b1-4889-bef7-d9713cc3d6d8"
   },
   "outputs": [
    {
     "data": {
      "text/html": [
       "<div>\n",
       "<style scoped>\n",
       "    .dataframe tbody tr th:only-of-type {\n",
       "        vertical-align: middle;\n",
       "    }\n",
       "\n",
       "    .dataframe tbody tr th {\n",
       "        vertical-align: top;\n",
       "    }\n",
       "\n",
       "    .dataframe thead th {\n",
       "        text-align: right;\n",
       "    }\n",
       "</style>\n",
       "<table border=\"1\" class=\"dataframe\">\n",
       "  <thead>\n",
       "    <tr style=\"text-align: right;\">\n",
       "      <th></th>\n",
       "      <th>school_state</th>\n",
       "      <th>teacher_prefix</th>\n",
       "      <th>project_grade_category</th>\n",
       "      <th>teacher_number_of_previously_posted_projects</th>\n",
       "      <th>clean_categories</th>\n",
       "      <th>clean_subcategories</th>\n",
       "      <th>essay</th>\n",
       "      <th>price</th>\n",
       "      <th>school_state_1</th>\n",
       "      <th>school_state_0</th>\n",
       "      <th>teacher_prefix_1</th>\n",
       "      <th>teacher_prefix_0</th>\n",
       "      <th>project_grade_category_1</th>\n",
       "      <th>project_grade_category_0</th>\n",
       "      <th>clean_categories_1</th>\n",
       "      <th>clean_categories_0</th>\n",
       "      <th>clean_subcategories_1</th>\n",
       "      <th>clean_subcategories_0</th>\n",
       "    </tr>\n",
       "  </thead>\n",
       "  <tbody>\n",
       "    <tr>\n",
       "      <th>102241</th>\n",
       "      <td>oh</td>\n",
       "      <td>ms</td>\n",
       "      <td>grades_3_5</td>\n",
       "      <td>6</td>\n",
       "      <td>literacy_language math_science</td>\n",
       "      <td>literature_writing mathematics</td>\n",
       "      <td>project based learning we technology world tes...</td>\n",
       "      <td>35.70</td>\n",
       "      <td>0.884313</td>\n",
       "      <td>0.115687</td>\n",
       "      <td>0.844534</td>\n",
       "      <td>0.155466</td>\n",
       "      <td>0.85413</td>\n",
       "      <td>0.14587</td>\n",
       "      <td>0.871690</td>\n",
       "      <td>0.128310</td>\n",
       "      <td>1.0</td>\n",
       "      <td>0.0</td>\n",
       "    </tr>\n",
       "    <tr>\n",
       "      <th>56703</th>\n",
       "      <td>ny</td>\n",
       "      <td>mr</td>\n",
       "      <td>grades_3_5</td>\n",
       "      <td>0</td>\n",
       "      <td>health_sports specialneeds</td>\n",
       "      <td>health_wellness specialneeds</td>\n",
       "      <td>i student frequently falls seat little girl cl...</td>\n",
       "      <td>282.97</td>\n",
       "      <td>0.860981</td>\n",
       "      <td>0.139019</td>\n",
       "      <td>0.840506</td>\n",
       "      <td>0.159494</td>\n",
       "      <td>0.85413</td>\n",
       "      <td>0.14587</td>\n",
       "      <td>0.876727</td>\n",
       "      <td>0.123273</td>\n",
       "      <td>1.0</td>\n",
       "      <td>0.0</td>\n",
       "    </tr>\n",
       "  </tbody>\n",
       "</table>\n",
       "</div>"
      ],
      "text/plain": [
       "       school_state  ... clean_subcategories_0\n",
       "102241           oh  ...                   0.0\n",
       "56703            ny  ...                   0.0\n",
       "\n",
       "[2 rows x 18 columns]"
      ]
     },
     "execution_count": 107,
     "metadata": {
      "tags": []
     },
     "output_type": "execute_result"
    }
   ],
   "source": [
    "X_train.head(2)"
   ]
  },
  {
   "cell_type": "code",
   "execution_count": 108,
   "metadata": {
    "colab": {
     "base_uri": "https://localhost:8080/",
     "height": 374
    },
    "id": "GdwM371I6uup",
    "outputId": "4b66e57e-b4bd-4fc7-fb0b-270249074d21"
   },
   "outputs": [
    {
     "data": {
      "text/html": [
       "<div>\n",
       "<style scoped>\n",
       "    .dataframe tbody tr th:only-of-type {\n",
       "        vertical-align: middle;\n",
       "    }\n",
       "\n",
       "    .dataframe tbody tr th {\n",
       "        vertical-align: top;\n",
       "    }\n",
       "\n",
       "    .dataframe thead th {\n",
       "        text-align: right;\n",
       "    }\n",
       "</style>\n",
       "<table border=\"1\" class=\"dataframe\">\n",
       "  <thead>\n",
       "    <tr style=\"text-align: right;\">\n",
       "      <th></th>\n",
       "      <th>school_state</th>\n",
       "      <th>teacher_prefix</th>\n",
       "      <th>project_grade_category</th>\n",
       "      <th>teacher_number_of_previously_posted_projects</th>\n",
       "      <th>clean_categories</th>\n",
       "      <th>clean_subcategories</th>\n",
       "      <th>essay</th>\n",
       "      <th>price</th>\n",
       "      <th>school_state_1</th>\n",
       "      <th>school_state_0</th>\n",
       "      <th>teacher_prefix_1</th>\n",
       "      <th>teacher_prefix_0</th>\n",
       "      <th>project_grade_category_1</th>\n",
       "      <th>project_grade_category_0</th>\n",
       "      <th>clean_categories_1</th>\n",
       "      <th>clean_categories_0</th>\n",
       "      <th>clean_subcategories_1</th>\n",
       "      <th>clean_subcategories_0</th>\n",
       "    </tr>\n",
       "  </thead>\n",
       "  <tbody>\n",
       "    <tr>\n",
       "      <th>74877</th>\n",
       "      <td>la</td>\n",
       "      <td>ms</td>\n",
       "      <td>grades_3_5</td>\n",
       "      <td>7</td>\n",
       "      <td>literacy_language specialneeds</td>\n",
       "      <td>literacy specialneeds</td>\n",
       "      <td>no matter age students love learn i teach amaz...</td>\n",
       "      <td>338.88</td>\n",
       "      <td>0.831639</td>\n",
       "      <td>0.168361</td>\n",
       "      <td>0.844534</td>\n",
       "      <td>0.155466</td>\n",
       "      <td>0.85413</td>\n",
       "      <td>0.14587</td>\n",
       "      <td>0.854428</td>\n",
       "      <td>0.145572</td>\n",
       "      <td>0.861282</td>\n",
       "      <td>0.138718</td>\n",
       "    </tr>\n",
       "    <tr>\n",
       "      <th>95629</th>\n",
       "      <td>ct</td>\n",
       "      <td>mrs</td>\n",
       "      <td>grades_3_5</td>\n",
       "      <td>6</td>\n",
       "      <td>literacy_language math_science</td>\n",
       "      <td>literature_writing mathematics</td>\n",
       "      <td>what could better seeing smiles light faces fi...</td>\n",
       "      <td>459.70</td>\n",
       "      <td>0.867975</td>\n",
       "      <td>0.132025</td>\n",
       "      <td>0.855243</td>\n",
       "      <td>0.144757</td>\n",
       "      <td>0.85413</td>\n",
       "      <td>0.14587</td>\n",
       "      <td>0.871690</td>\n",
       "      <td>0.128310</td>\n",
       "      <td>0.866905</td>\n",
       "      <td>0.133095</td>\n",
       "    </tr>\n",
       "  </tbody>\n",
       "</table>\n",
       "</div>"
      ],
      "text/plain": [
       "      school_state teacher_prefix  ... clean_subcategories_1  clean_subcategories_0\n",
       "74877           la             ms  ...              0.861282               0.138718\n",
       "95629           ct            mrs  ...              0.866905               0.133095\n",
       "\n",
       "[2 rows x 18 columns]"
      ]
     },
     "execution_count": 108,
     "metadata": {
      "tags": []
     },
     "output_type": "execute_result"
    }
   ],
   "source": [
    "X_test.head(2)"
   ]
  },
  {
   "cell_type": "markdown",
   "metadata": {
    "id": "5JzxSjuF7cBP"
   },
   "source": [
    "<h2>Encoding project_grade_category</h2>"
   ]
  },
  {
   "cell_type": "code",
   "execution_count": 109,
   "metadata": {
    "colab": {
     "base_uri": "https://localhost:8080/"
    },
    "id": "-1D8HmUB7j_Z",
    "outputId": "0998292e-6ae2-4b49-a6ec-b12583c48f43"
   },
   "outputs": [
    {
     "name": "stdout",
     "output_type": "stream",
     "text": [
      "{'grades_3_5': 21220, 'grades_prek_2': 25153, 'grades_9_12': 6233, 'grades_6_8': 9507}\n",
      "{'grades_prek_2': 4480, 'grades_3_5': 3624, 'grades_6_8': 1791, 'grades_9_12': 1188}\n",
      "{'grades_3_5': 24844, 'grades_prek_2': 29633, 'grades_9_12': 7421, 'grades_6_8': 11298}\n",
      "{'grades_3_5': 0.8541297697633231, 'grades_prek_2': 0.8488171970438363, 'grades_9_12': 0.8399137582536046, 'grades_6_8': 0.8414763674986724}\n",
      "{'grades_3_5': 0.14587023023667686, 'grades_prek_2': 0.15118280295616374, 'grades_9_12': 0.16008624174639535, 'grades_6_8': 0.15852363250132767}\n"
     ]
    }
   ],
   "source": [
    "project_grade_category_positive={}\n",
    "project_grade_category_negative={}\n",
    "project_grade_category_total={}\n",
    "\n",
    "for prefix in X_train_positive['project_grade_category']:\n",
    "  if prefix in project_grade_category_positive:\n",
    "    project_grade_category_positive[prefix]+=1\n",
    "  else:\n",
    "    project_grade_category_positive[prefix]=1\n",
    "\n",
    "for prefix in X_train_negative['project_grade_category']:\n",
    "  if prefix in project_grade_category_negative:\n",
    "    project_grade_category_negative[prefix]+=1\n",
    "  else:\n",
    "    project_grade_category_negative[prefix]=1\n",
    "\n",
    "for prefix in X_train['project_grade_category']:\n",
    "  if prefix in project_grade_category_total:\n",
    "    project_grade_category_total[prefix]+=1\n",
    "  else:\n",
    "    project_grade_category_total[prefix]=1\n",
    "  if prefix not in project_grade_category_positive:\n",
    "    project_grade_category_positive[prefix]=0\n",
    "  if prefix not in project_grade_category_negative:\n",
    "    project_grade_category_negative[prefix]=0\n",
    "\n",
    "print(project_grade_category_positive)\n",
    "print(project_grade_category_negative)\n",
    "print(project_grade_category_total)\n",
    "\n",
    "prob_project_grade_category_pos={}\n",
    "prob_project_grade_category_neg={}\n",
    "\n",
    "for prefix in project_grade_category_total.keys():\n",
    "  prob_project_grade_category_pos[prefix]=project_grade_category_positive[prefix]/project_grade_category_total[prefix]\n",
    "  prob_project_grade_category_neg[prefix]=project_grade_category_negative[prefix]/project_grade_category_total[prefix]\n",
    "\n",
    "print(prob_project_grade_category_pos)\n",
    "print(prob_project_grade_category_neg)"
   ]
  },
  {
   "cell_type": "code",
   "execution_count": 110,
   "metadata": {
    "id": "TYSCx7Wy8TSd"
   },
   "outputs": [],
   "source": [
    "project_grade_category_1_train=[]\n",
    "project_grade_category_0_train=[]\n",
    "\n",
    "for prefix in X_train['project_grade_category']:\n",
    "  project_grade_category_1_train+=prob_project_grade_category_pos[prefix],\n",
    "  project_grade_category_0_train+=prob_project_grade_category_neg[prefix],\n",
    "\n",
    "project_grade_category_1_test=[]\n",
    "project_grade_category_0_test=[]\n",
    "\n",
    "for prefix in X_test['project_grade_category']:\n",
    "  if prefix in prob_project_grade_category_pos:\n",
    "    project_grade_category_1_test+=prob_project_grade_category_pos[prefix],\n",
    "  else:\n",
    "    project_grade_category_1_test+=0.5,\n",
    "  if prefix in prob_project_grade_category_neg:\n",
    "    project_grade_category_0_test+=prob_project_grade_category_neg[prefix],\n",
    "  else:\n",
    "    project_grade_category_0_test+=0.5,\n",
    "\n",
    "X_train['project_grade_category_1']=project_grade_category_1_train\n",
    "X_train['project_grade_category_0']=project_grade_category_0_train\n",
    "X_test['project_grade_category_1']=project_grade_category_1_test\n",
    "X_test['project_grade_category_0']=project_grade_category_0_test"
   ]
  },
  {
   "cell_type": "code",
   "execution_count": 111,
   "metadata": {
    "colab": {
     "base_uri": "https://localhost:8080/",
     "height": 287
    },
    "id": "t1DhWPyZ86bv",
    "outputId": "dffbfd49-d5b7-4947-f5b1-41f6ba49a0b7"
   },
   "outputs": [
    {
     "data": {
      "text/html": [
       "<div>\n",
       "<style scoped>\n",
       "    .dataframe tbody tr th:only-of-type {\n",
       "        vertical-align: middle;\n",
       "    }\n",
       "\n",
       "    .dataframe tbody tr th {\n",
       "        vertical-align: top;\n",
       "    }\n",
       "\n",
       "    .dataframe thead th {\n",
       "        text-align: right;\n",
       "    }\n",
       "</style>\n",
       "<table border=\"1\" class=\"dataframe\">\n",
       "  <thead>\n",
       "    <tr style=\"text-align: right;\">\n",
       "      <th></th>\n",
       "      <th>school_state</th>\n",
       "      <th>teacher_prefix</th>\n",
       "      <th>project_grade_category</th>\n",
       "      <th>teacher_number_of_previously_posted_projects</th>\n",
       "      <th>clean_categories</th>\n",
       "      <th>clean_subcategories</th>\n",
       "      <th>essay</th>\n",
       "      <th>price</th>\n",
       "      <th>school_state_1</th>\n",
       "      <th>school_state_0</th>\n",
       "      <th>teacher_prefix_1</th>\n",
       "      <th>teacher_prefix_0</th>\n",
       "      <th>project_grade_category_1</th>\n",
       "      <th>project_grade_category_0</th>\n",
       "      <th>clean_categories_1</th>\n",
       "      <th>clean_categories_0</th>\n",
       "      <th>clean_subcategories_1</th>\n",
       "      <th>clean_subcategories_0</th>\n",
       "    </tr>\n",
       "  </thead>\n",
       "  <tbody>\n",
       "    <tr>\n",
       "      <th>102241</th>\n",
       "      <td>oh</td>\n",
       "      <td>ms</td>\n",
       "      <td>grades_3_5</td>\n",
       "      <td>6</td>\n",
       "      <td>literacy_language math_science</td>\n",
       "      <td>literature_writing mathematics</td>\n",
       "      <td>project based learning we technology world tes...</td>\n",
       "      <td>35.70</td>\n",
       "      <td>0.884313</td>\n",
       "      <td>0.115687</td>\n",
       "      <td>0.844534</td>\n",
       "      <td>0.155466</td>\n",
       "      <td>0.85413</td>\n",
       "      <td>0.14587</td>\n",
       "      <td>0.871690</td>\n",
       "      <td>0.128310</td>\n",
       "      <td>1.0</td>\n",
       "      <td>0.0</td>\n",
       "    </tr>\n",
       "    <tr>\n",
       "      <th>56703</th>\n",
       "      <td>ny</td>\n",
       "      <td>mr</td>\n",
       "      <td>grades_3_5</td>\n",
       "      <td>0</td>\n",
       "      <td>health_sports specialneeds</td>\n",
       "      <td>health_wellness specialneeds</td>\n",
       "      <td>i student frequently falls seat little girl cl...</td>\n",
       "      <td>282.97</td>\n",
       "      <td>0.860981</td>\n",
       "      <td>0.139019</td>\n",
       "      <td>0.840506</td>\n",
       "      <td>0.159494</td>\n",
       "      <td>0.85413</td>\n",
       "      <td>0.14587</td>\n",
       "      <td>0.876727</td>\n",
       "      <td>0.123273</td>\n",
       "      <td>1.0</td>\n",
       "      <td>0.0</td>\n",
       "    </tr>\n",
       "  </tbody>\n",
       "</table>\n",
       "</div>"
      ],
      "text/plain": [
       "       school_state  ... clean_subcategories_0\n",
       "102241           oh  ...                   0.0\n",
       "56703            ny  ...                   0.0\n",
       "\n",
       "[2 rows x 18 columns]"
      ]
     },
     "execution_count": 111,
     "metadata": {
      "tags": []
     },
     "output_type": "execute_result"
    }
   ],
   "source": [
    "X_train.head(2)"
   ]
  },
  {
   "cell_type": "code",
   "execution_count": 112,
   "metadata": {
    "colab": {
     "base_uri": "https://localhost:8080/",
     "height": 374
    },
    "id": "nYkSg7Qk8_ra",
    "outputId": "aeafdf27-c7dd-409f-953e-ce1ffbb57b9b"
   },
   "outputs": [
    {
     "data": {
      "text/html": [
       "<div>\n",
       "<style scoped>\n",
       "    .dataframe tbody tr th:only-of-type {\n",
       "        vertical-align: middle;\n",
       "    }\n",
       "\n",
       "    .dataframe tbody tr th {\n",
       "        vertical-align: top;\n",
       "    }\n",
       "\n",
       "    .dataframe thead th {\n",
       "        text-align: right;\n",
       "    }\n",
       "</style>\n",
       "<table border=\"1\" class=\"dataframe\">\n",
       "  <thead>\n",
       "    <tr style=\"text-align: right;\">\n",
       "      <th></th>\n",
       "      <th>school_state</th>\n",
       "      <th>teacher_prefix</th>\n",
       "      <th>project_grade_category</th>\n",
       "      <th>teacher_number_of_previously_posted_projects</th>\n",
       "      <th>clean_categories</th>\n",
       "      <th>clean_subcategories</th>\n",
       "      <th>essay</th>\n",
       "      <th>price</th>\n",
       "      <th>school_state_1</th>\n",
       "      <th>school_state_0</th>\n",
       "      <th>teacher_prefix_1</th>\n",
       "      <th>teacher_prefix_0</th>\n",
       "      <th>project_grade_category_1</th>\n",
       "      <th>project_grade_category_0</th>\n",
       "      <th>clean_categories_1</th>\n",
       "      <th>clean_categories_0</th>\n",
       "      <th>clean_subcategories_1</th>\n",
       "      <th>clean_subcategories_0</th>\n",
       "    </tr>\n",
       "  </thead>\n",
       "  <tbody>\n",
       "    <tr>\n",
       "      <th>74877</th>\n",
       "      <td>la</td>\n",
       "      <td>ms</td>\n",
       "      <td>grades_3_5</td>\n",
       "      <td>7</td>\n",
       "      <td>literacy_language specialneeds</td>\n",
       "      <td>literacy specialneeds</td>\n",
       "      <td>no matter age students love learn i teach amaz...</td>\n",
       "      <td>338.88</td>\n",
       "      <td>0.831639</td>\n",
       "      <td>0.168361</td>\n",
       "      <td>0.844534</td>\n",
       "      <td>0.155466</td>\n",
       "      <td>0.85413</td>\n",
       "      <td>0.14587</td>\n",
       "      <td>0.854428</td>\n",
       "      <td>0.145572</td>\n",
       "      <td>0.861282</td>\n",
       "      <td>0.138718</td>\n",
       "    </tr>\n",
       "    <tr>\n",
       "      <th>95629</th>\n",
       "      <td>ct</td>\n",
       "      <td>mrs</td>\n",
       "      <td>grades_3_5</td>\n",
       "      <td>6</td>\n",
       "      <td>literacy_language math_science</td>\n",
       "      <td>literature_writing mathematics</td>\n",
       "      <td>what could better seeing smiles light faces fi...</td>\n",
       "      <td>459.70</td>\n",
       "      <td>0.867975</td>\n",
       "      <td>0.132025</td>\n",
       "      <td>0.855243</td>\n",
       "      <td>0.144757</td>\n",
       "      <td>0.85413</td>\n",
       "      <td>0.14587</td>\n",
       "      <td>0.871690</td>\n",
       "      <td>0.128310</td>\n",
       "      <td>0.866905</td>\n",
       "      <td>0.133095</td>\n",
       "    </tr>\n",
       "  </tbody>\n",
       "</table>\n",
       "</div>"
      ],
      "text/plain": [
       "      school_state teacher_prefix  ... clean_subcategories_1  clean_subcategories_0\n",
       "74877           la             ms  ...              0.861282               0.138718\n",
       "95629           ct            mrs  ...              0.866905               0.133095\n",
       "\n",
       "[2 rows x 18 columns]"
      ]
     },
     "execution_count": 112,
     "metadata": {
      "tags": []
     },
     "output_type": "execute_result"
    }
   ],
   "source": [
    "X_test.head(2)"
   ]
  },
  {
   "cell_type": "markdown",
   "metadata": {
    "id": "I5wDFj17sc3-"
   },
   "source": [
    "<h2>1.5 Appling Models on different kind of featurization as mentioned in the instructions</h2>"
   ]
  },
  {
   "cell_type": "markdown",
   "metadata": {
    "id": "v7NAZQS29MnI"
   },
   "source": [
    "<h2>Encoding clean_categories</h2>"
   ]
  },
  {
   "cell_type": "code",
   "execution_count": 113,
   "metadata": {
    "colab": {
     "base_uri": "https://localhost:8080/"
    },
    "id": "IVCaGyp39R3O",
    "outputId": "bb2f4b8d-47ff-4039-a376-e1f60c102d95"
   },
   "outputs": [
    {
     "name": "stdout",
     "output_type": "stream",
     "text": [
      "{'literacy_language math_science': 8560, 'health_sports specialneeds': 825, 'appliedlearning specialneeds': 792, 'appliedlearning literacy_language': 1287, 'health_sports': 5811, 'literacy_language': 13790, 'literacy_language specialneeds': 2248, 'math_science': 9289, 'music_arts': 2976, 'appliedlearning': 2087, 'math_science history_civics': 343, 'math_science literacy_language': 1350, 'history_civics literacy_language': 846, 'literacy_language history_civics': 458, 'health_sports math_science': 158, 'history_civics': 1029, 'literacy_language music_arts': 995, 'math_science appliedlearning': 686, 'specialneeds': 2288, 'math_science specialneeds': 1005, 'history_civics math_science': 188, 'math_science health_sports': 209, 'warmth care_hunger': 827, 'literacy_language appliedlearning': 352, 'music_arts specialneeds': 79, 'appliedlearning health_sports': 325, 'appliedlearning music_arts': 412, 'specialneeds music_arts': 185, 'math_science music_arts': 895, 'health_sports appliedlearning': 113, 'history_civics music_arts': 179, 'health_sports literacy_language': 474, 'appliedlearning warmth care_hunger': 7, 'appliedlearning math_science': 560, 'history_civics appliedlearning': 24, 'health_sports music_arts': 75, 'specialneeds health_sports': 20, 'specialneeds warmth care_hunger': 10, 'appliedlearning history_civics': 103, 'math_science warmth care_hunger': 5, 'music_arts appliedlearning': 4, 'history_civics specialneeds': 137, 'literacy_language health_sports': 39, 'music_arts health_sports': 10, 'music_arts history_civics': 9, 'health_sports warmth care_hunger': 11, 'health_sports history_civics': 25, 'literacy_language warmth care_hunger': 6, 'history_civics health_sports': 6, 'music_arts warmth care_hunger': 1}\n",
      "{'math_science': 2091, 'literacy_language': 2102, 'appliedlearning': 467, 'literacy_language music_arts': 186, 'specialneeds': 555, 'math_science literacy_language': 212, 'literacy_language math_science': 1260, 'health_sports': 1046, 'music_arts': 494, 'history_civics literacy_language': 105, 'literacy_language appliedlearning': 57, 'health_sports literacy_language': 75, 'appliedlearning math_science': 133, 'literacy_language specialneeds': 383, 'appliedlearning health_sports': 74, 'appliedlearning literacy_language': 202, 'math_science music_arts': 192, 'health_sports history_civics': 3, 'history_civics': 206, 'history_civics specialneeds': 26, 'health_sports specialneeds': 116, 'math_science appliedlearning': 141, 'appliedlearning specialneeds': 187, 'history_civics music_arts': 41, 'math_science specialneeds': 193, 'appliedlearning music_arts': 97, 'warmth care_hunger': 59, 'literacy_language history_civics': 62, 'appliedlearning history_civics': 18, 'history_civics math_science': 29, 'math_science health_sports': 59, 'health_sports music_arts': 15, 'history_civics appliedlearning': 5, 'specialneeds music_arts': 40, 'math_science history_civics': 61, 'health_sports math_science': 30, 'music_arts health_sports': 4, 'math_science warmth care_hunger': 2, 'music_arts specialneeds': 10, 'health_sports appliedlearning': 17, 'music_arts history_civics': 3, 'literacy_language health_sports': 12, 'appliedlearning warmth care_hunger': 2, 'specialneeds warmth care_hunger': 2, 'music_arts appliedlearning': 2, 'specialneeds health_sports': 5, 'literacy_language warmth care_hunger': 1, 'health_sports warmth care_hunger': 1, 'history_civics health_sports': 0, 'music_arts warmth care_hunger': 0}\n",
      "{'literacy_language math_science': 9820, 'health_sports specialneeds': 941, 'appliedlearning specialneeds': 979, 'appliedlearning literacy_language': 1489, 'health_sports': 6857, 'literacy_language': 15892, 'literacy_language specialneeds': 2631, 'math_science': 11380, 'music_arts': 3470, 'appliedlearning': 2554, 'math_science history_civics': 404, 'literacy_language music_arts': 1181, 'math_science literacy_language': 1562, 'history_civics literacy_language': 951, 'specialneeds': 2843, 'literacy_language history_civics': 520, 'health_sports math_science': 188, 'history_civics': 1235, 'math_science appliedlearning': 827, 'math_science specialneeds': 1198, 'history_civics math_science': 217, 'math_science health_sports': 268, 'warmth care_hunger': 886, 'literacy_language appliedlearning': 409, 'music_arts specialneeds': 89, 'appliedlearning health_sports': 399, 'appliedlearning music_arts': 509, 'specialneeds music_arts': 225, 'math_science music_arts': 1087, 'health_sports appliedlearning': 130, 'health_sports literacy_language': 549, 'appliedlearning math_science': 693, 'history_civics music_arts': 220, 'appliedlearning warmth care_hunger': 9, 'history_civics appliedlearning': 29, 'health_sports history_civics': 28, 'history_civics specialneeds': 163, 'health_sports music_arts': 90, 'specialneeds health_sports': 25, 'specialneeds warmth care_hunger': 12, 'appliedlearning history_civics': 121, 'math_science warmth care_hunger': 7, 'music_arts appliedlearning': 6, 'literacy_language health_sports': 51, 'music_arts health_sports': 14, 'music_arts history_civics': 12, 'health_sports warmth care_hunger': 12, 'literacy_language warmth care_hunger': 7, 'history_civics health_sports': 6, 'music_arts warmth care_hunger': 1}\n",
      "{'literacy_language math_science': 0.8716904276985743, 'health_sports specialneeds': 0.8767268862911796, 'appliedlearning specialneeds': 0.8089887640449438, 'appliedlearning literacy_language': 0.8643384822028207, 'health_sports': 0.8474551553157358, 'literacy_language': 0.8677321922980116, 'literacy_language specialneeds': 0.8544279741543139, 'math_science': 0.816256590509666, 'music_arts': 0.8576368876080691, 'appliedlearning': 0.817149569303054, 'math_science history_civics': 0.849009900990099, 'literacy_language music_arts': 0.842506350550381, 'math_science literacy_language': 0.8642765685019206, 'history_civics literacy_language': 0.889589905362776, 'specialneeds': 0.8047836792120999, 'literacy_language history_civics': 0.8807692307692307, 'health_sports math_science': 0.8404255319148937, 'history_civics': 0.8331983805668016, 'math_science appliedlearning': 0.8295042321644498, 'math_science specialneeds': 0.83889816360601, 'history_civics math_science': 0.8663594470046083, 'math_science health_sports': 0.7798507462686567, 'warmth care_hunger': 0.9334085778781038, 'literacy_language appliedlearning': 0.8606356968215159, 'music_arts specialneeds': 0.8876404494382022, 'appliedlearning health_sports': 0.8145363408521303, 'appliedlearning music_arts': 0.8094302554027505, 'specialneeds music_arts': 0.8222222222222222, 'math_science music_arts': 0.8233670653173873, 'health_sports appliedlearning': 0.8692307692307693, 'health_sports literacy_language': 0.8633879781420765, 'appliedlearning math_science': 0.8080808080808081, 'history_civics music_arts': 0.8136363636363636, 'appliedlearning warmth care_hunger': 0.7777777777777778, 'history_civics appliedlearning': 0.8275862068965517, 'health_sports history_civics': 0.8928571428571429, 'history_civics specialneeds': 0.8404907975460123, 'health_sports music_arts': 0.8333333333333334, 'specialneeds health_sports': 0.8, 'specialneeds warmth care_hunger': 0.8333333333333334, 'appliedlearning history_civics': 0.8512396694214877, 'math_science warmth care_hunger': 0.7142857142857143, 'music_arts appliedlearning': 0.6666666666666666, 'literacy_language health_sports': 0.7647058823529411, 'music_arts health_sports': 0.7142857142857143, 'music_arts history_civics': 0.75, 'health_sports warmth care_hunger': 0.9166666666666666, 'literacy_language warmth care_hunger': 0.8571428571428571, 'history_civics health_sports': 1.0, 'music_arts warmth care_hunger': 1.0}\n",
      "{'literacy_language math_science': 0.12830957230142567, 'health_sports specialneeds': 0.12327311370882041, 'appliedlearning specialneeds': 0.19101123595505617, 'appliedlearning literacy_language': 0.1356615177971793, 'health_sports': 0.15254484468426427, 'literacy_language': 0.13226780770198843, 'literacy_language specialneeds': 0.14557202584568604, 'math_science': 0.1837434094903339, 'music_arts': 0.14236311239193083, 'appliedlearning': 0.18285043069694595, 'math_science history_civics': 0.15099009900990099, 'literacy_language music_arts': 0.15749364944961897, 'math_science literacy_language': 0.1357234314980794, 'history_civics literacy_language': 0.11041009463722397, 'specialneeds': 0.1952163207879001, 'literacy_language history_civics': 0.11923076923076924, 'health_sports math_science': 0.1595744680851064, 'history_civics': 0.16680161943319838, 'math_science appliedlearning': 0.17049576783555018, 'math_science specialneeds': 0.16110183639398998, 'history_civics math_science': 0.1336405529953917, 'math_science health_sports': 0.22014925373134328, 'warmth care_hunger': 0.06659142212189616, 'literacy_language appliedlearning': 0.1393643031784841, 'music_arts specialneeds': 0.11235955056179775, 'appliedlearning health_sports': 0.18546365914786966, 'appliedlearning music_arts': 0.1905697445972495, 'specialneeds music_arts': 0.17777777777777778, 'math_science music_arts': 0.1766329346826127, 'health_sports appliedlearning': 0.13076923076923078, 'health_sports literacy_language': 0.1366120218579235, 'appliedlearning math_science': 0.1919191919191919, 'history_civics music_arts': 0.18636363636363637, 'appliedlearning warmth care_hunger': 0.2222222222222222, 'history_civics appliedlearning': 0.1724137931034483, 'health_sports history_civics': 0.10714285714285714, 'history_civics specialneeds': 0.15950920245398773, 'health_sports music_arts': 0.16666666666666666, 'specialneeds health_sports': 0.2, 'specialneeds warmth care_hunger': 0.16666666666666666, 'appliedlearning history_civics': 0.1487603305785124, 'math_science warmth care_hunger': 0.2857142857142857, 'music_arts appliedlearning': 0.3333333333333333, 'literacy_language health_sports': 0.23529411764705882, 'music_arts health_sports': 0.2857142857142857, 'music_arts history_civics': 0.25, 'health_sports warmth care_hunger': 0.08333333333333333, 'literacy_language warmth care_hunger': 0.14285714285714285, 'history_civics health_sports': 0.0, 'music_arts warmth care_hunger': 0.0}\n"
     ]
    }
   ],
   "source": [
    "clean_categories_positive={}\n",
    "clean_categories_negative={}\n",
    "clean_categories_total={}\n",
    "\n",
    "for prefix in X_train_positive['clean_categories']:\n",
    "  if prefix in clean_categories_positive:\n",
    "    clean_categories_positive[prefix]+=1\n",
    "  else:\n",
    "    clean_categories_positive[prefix]=1\n",
    "\n",
    "for prefix in X_train_negative['clean_categories']:\n",
    "  if prefix in clean_categories_negative:\n",
    "    clean_categories_negative[prefix]+=1\n",
    "  else:\n",
    "    clean_categories_negative[prefix]=1\n",
    "\n",
    "for prefix in X_train['clean_categories']:\n",
    "  if prefix in clean_categories_total:\n",
    "    clean_categories_total[prefix]+=1\n",
    "  else:\n",
    "    clean_categories_total[prefix]=1\n",
    "  if prefix not in clean_categories_positive:\n",
    "    clean_categories_positive[prefix]=0\n",
    "  if prefix not in clean_categories_negative:\n",
    "    clean_categories_negative[prefix]=0\n",
    "\n",
    "print(clean_categories_positive)\n",
    "print(clean_categories_negative)\n",
    "print(clean_categories_total)\n",
    "\n",
    "prob_clean_categories_pos={}\n",
    "prob_clean_categories_neg={}\n",
    "\n",
    "for prefix in clean_categories_total.keys():\n",
    "  prob_clean_categories_pos[prefix]=clean_categories_positive[prefix]/clean_categories_total[prefix]\n",
    "  prob_clean_categories_neg[prefix]=clean_categories_negative[prefix]/clean_categories_total[prefix]\n",
    "\n",
    "print(prob_clean_categories_pos)\n",
    "print(prob_clean_categories_neg)"
   ]
  },
  {
   "cell_type": "code",
   "execution_count": 114,
   "metadata": {
    "id": "7Djov6df_Jsi"
   },
   "outputs": [],
   "source": [
    "clean_categories_1_train=[]\n",
    "clean_categories_0_train=[]\n",
    "\n",
    "for prefix in X_train['clean_categories']:\n",
    "  clean_categories_1_train+=prob_clean_categories_pos[prefix],\n",
    "  clean_categories_0_train+=prob_clean_categories_neg[prefix],\n",
    "\n",
    "clean_categories_1_test=[]\n",
    "clean_categories_0_test=[]\n",
    "\n",
    "for prefix in X_test['clean_categories']:\n",
    "  if prefix in prob_clean_categories_pos:\n",
    "    clean_categories_1_test+=prob_clean_categories_pos[prefix],\n",
    "  else:\n",
    "    clean_categories_1_test+=0.5,\n",
    "  if prefix in prob_clean_categories_neg:\n",
    "    clean_categories_0_test+=prob_clean_categories_neg[prefix],\n",
    "  else:\n",
    "    clean_categories_0_test+=0.5,\n",
    "\n",
    "X_train['clean_categories_1']=clean_categories_1_train\n",
    "X_train['clean_categories_0']=clean_categories_0_train\n",
    "X_test['clean_categories_1']=clean_categories_1_test\n",
    "X_test['clean_categories_0']=clean_categories_0_test"
   ]
  },
  {
   "cell_type": "code",
   "execution_count": 115,
   "metadata": {
    "colab": {
     "base_uri": "https://localhost:8080/",
     "height": 287
    },
    "id": "qfI0DO8uCIcN",
    "outputId": "f17af559-c090-4ffc-d600-1942a8543e5f"
   },
   "outputs": [
    {
     "data": {
      "text/html": [
       "<div>\n",
       "<style scoped>\n",
       "    .dataframe tbody tr th:only-of-type {\n",
       "        vertical-align: middle;\n",
       "    }\n",
       "\n",
       "    .dataframe tbody tr th {\n",
       "        vertical-align: top;\n",
       "    }\n",
       "\n",
       "    .dataframe thead th {\n",
       "        text-align: right;\n",
       "    }\n",
       "</style>\n",
       "<table border=\"1\" class=\"dataframe\">\n",
       "  <thead>\n",
       "    <tr style=\"text-align: right;\">\n",
       "      <th></th>\n",
       "      <th>school_state</th>\n",
       "      <th>teacher_prefix</th>\n",
       "      <th>project_grade_category</th>\n",
       "      <th>teacher_number_of_previously_posted_projects</th>\n",
       "      <th>clean_categories</th>\n",
       "      <th>clean_subcategories</th>\n",
       "      <th>essay</th>\n",
       "      <th>price</th>\n",
       "      <th>school_state_1</th>\n",
       "      <th>school_state_0</th>\n",
       "      <th>teacher_prefix_1</th>\n",
       "      <th>teacher_prefix_0</th>\n",
       "      <th>project_grade_category_1</th>\n",
       "      <th>project_grade_category_0</th>\n",
       "      <th>clean_categories_1</th>\n",
       "      <th>clean_categories_0</th>\n",
       "      <th>clean_subcategories_1</th>\n",
       "      <th>clean_subcategories_0</th>\n",
       "    </tr>\n",
       "  </thead>\n",
       "  <tbody>\n",
       "    <tr>\n",
       "      <th>102241</th>\n",
       "      <td>oh</td>\n",
       "      <td>ms</td>\n",
       "      <td>grades_3_5</td>\n",
       "      <td>6</td>\n",
       "      <td>literacy_language math_science</td>\n",
       "      <td>literature_writing mathematics</td>\n",
       "      <td>project based learning we technology world tes...</td>\n",
       "      <td>35.70</td>\n",
       "      <td>0.884313</td>\n",
       "      <td>0.115687</td>\n",
       "      <td>0.844534</td>\n",
       "      <td>0.155466</td>\n",
       "      <td>0.85413</td>\n",
       "      <td>0.14587</td>\n",
       "      <td>0.871690</td>\n",
       "      <td>0.128310</td>\n",
       "      <td>1.0</td>\n",
       "      <td>0.0</td>\n",
       "    </tr>\n",
       "    <tr>\n",
       "      <th>56703</th>\n",
       "      <td>ny</td>\n",
       "      <td>mr</td>\n",
       "      <td>grades_3_5</td>\n",
       "      <td>0</td>\n",
       "      <td>health_sports specialneeds</td>\n",
       "      <td>health_wellness specialneeds</td>\n",
       "      <td>i student frequently falls seat little girl cl...</td>\n",
       "      <td>282.97</td>\n",
       "      <td>0.860981</td>\n",
       "      <td>0.139019</td>\n",
       "      <td>0.840506</td>\n",
       "      <td>0.159494</td>\n",
       "      <td>0.85413</td>\n",
       "      <td>0.14587</td>\n",
       "      <td>0.876727</td>\n",
       "      <td>0.123273</td>\n",
       "      <td>1.0</td>\n",
       "      <td>0.0</td>\n",
       "    </tr>\n",
       "  </tbody>\n",
       "</table>\n",
       "</div>"
      ],
      "text/plain": [
       "       school_state  ... clean_subcategories_0\n",
       "102241           oh  ...                   0.0\n",
       "56703            ny  ...                   0.0\n",
       "\n",
       "[2 rows x 18 columns]"
      ]
     },
     "execution_count": 115,
     "metadata": {
      "tags": []
     },
     "output_type": "execute_result"
    }
   ],
   "source": [
    "X_train.head(2)"
   ]
  },
  {
   "cell_type": "code",
   "execution_count": 116,
   "metadata": {
    "colab": {
     "base_uri": "https://localhost:8080/",
     "height": 374
    },
    "id": "c-X1KY7bCPzD",
    "outputId": "ef365063-cd98-4453-8d36-007840de644c"
   },
   "outputs": [
    {
     "data": {
      "text/html": [
       "<div>\n",
       "<style scoped>\n",
       "    .dataframe tbody tr th:only-of-type {\n",
       "        vertical-align: middle;\n",
       "    }\n",
       "\n",
       "    .dataframe tbody tr th {\n",
       "        vertical-align: top;\n",
       "    }\n",
       "\n",
       "    .dataframe thead th {\n",
       "        text-align: right;\n",
       "    }\n",
       "</style>\n",
       "<table border=\"1\" class=\"dataframe\">\n",
       "  <thead>\n",
       "    <tr style=\"text-align: right;\">\n",
       "      <th></th>\n",
       "      <th>school_state</th>\n",
       "      <th>teacher_prefix</th>\n",
       "      <th>project_grade_category</th>\n",
       "      <th>teacher_number_of_previously_posted_projects</th>\n",
       "      <th>clean_categories</th>\n",
       "      <th>clean_subcategories</th>\n",
       "      <th>essay</th>\n",
       "      <th>price</th>\n",
       "      <th>school_state_1</th>\n",
       "      <th>school_state_0</th>\n",
       "      <th>teacher_prefix_1</th>\n",
       "      <th>teacher_prefix_0</th>\n",
       "      <th>project_grade_category_1</th>\n",
       "      <th>project_grade_category_0</th>\n",
       "      <th>clean_categories_1</th>\n",
       "      <th>clean_categories_0</th>\n",
       "      <th>clean_subcategories_1</th>\n",
       "      <th>clean_subcategories_0</th>\n",
       "    </tr>\n",
       "  </thead>\n",
       "  <tbody>\n",
       "    <tr>\n",
       "      <th>74877</th>\n",
       "      <td>la</td>\n",
       "      <td>ms</td>\n",
       "      <td>grades_3_5</td>\n",
       "      <td>7</td>\n",
       "      <td>literacy_language specialneeds</td>\n",
       "      <td>literacy specialneeds</td>\n",
       "      <td>no matter age students love learn i teach amaz...</td>\n",
       "      <td>338.88</td>\n",
       "      <td>0.831639</td>\n",
       "      <td>0.168361</td>\n",
       "      <td>0.844534</td>\n",
       "      <td>0.155466</td>\n",
       "      <td>0.85413</td>\n",
       "      <td>0.14587</td>\n",
       "      <td>0.854428</td>\n",
       "      <td>0.145572</td>\n",
       "      <td>0.861282</td>\n",
       "      <td>0.138718</td>\n",
       "    </tr>\n",
       "    <tr>\n",
       "      <th>95629</th>\n",
       "      <td>ct</td>\n",
       "      <td>mrs</td>\n",
       "      <td>grades_3_5</td>\n",
       "      <td>6</td>\n",
       "      <td>literacy_language math_science</td>\n",
       "      <td>literature_writing mathematics</td>\n",
       "      <td>what could better seeing smiles light faces fi...</td>\n",
       "      <td>459.70</td>\n",
       "      <td>0.867975</td>\n",
       "      <td>0.132025</td>\n",
       "      <td>0.855243</td>\n",
       "      <td>0.144757</td>\n",
       "      <td>0.85413</td>\n",
       "      <td>0.14587</td>\n",
       "      <td>0.871690</td>\n",
       "      <td>0.128310</td>\n",
       "      <td>0.866905</td>\n",
       "      <td>0.133095</td>\n",
       "    </tr>\n",
       "  </tbody>\n",
       "</table>\n",
       "</div>"
      ],
      "text/plain": [
       "      school_state teacher_prefix  ... clean_subcategories_1  clean_subcategories_0\n",
       "74877           la             ms  ...              0.861282               0.138718\n",
       "95629           ct            mrs  ...              0.866905               0.133095\n",
       "\n",
       "[2 rows x 18 columns]"
      ]
     },
     "execution_count": 116,
     "metadata": {
      "tags": []
     },
     "output_type": "execute_result"
    }
   ],
   "source": [
    "X_test.head(2)"
   ]
  },
  {
   "cell_type": "markdown",
   "metadata": {
    "id": "AGqNtvbDCY5O"
   },
   "source": [
    "<h2>Encoding clean_subcategories</h2>"
   ]
  },
  {
   "cell_type": "code",
   "execution_count": 117,
   "metadata": {
    "colab": {
     "base_uri": "https://localhost:8080/"
    },
    "id": "o4QDk-lUCYdr",
    "outputId": "e90527e2-f5da-4b2d-c819-4aeac4c97d12"
   },
   "outputs": [
    {
     "name": "stdout",
     "output_type": "stream",
     "text": [
      "{'literature_writing mathematics': 3400, 'health_wellness specialneeds': 714, 'other specialneeds': 156, 'charactereducation literacy': 198, 'college_careerprep foreignlanguages': 11, 'health_wellness': 2118, 'literacy': 5668, 'literacy specialneeds': 1397, 'literature_writing': 2569, 'environmentalscience health_lifescience': 521, 'literacy literature_writing': 3253, 'music': 882, 'literacy mathematics': 4938, 'charactereducation': 183, 'health_lifescience socialsciences': 41, 'esl specialneeds': 122, 'environmentalscience literature_writing': 171, 'music performingarts': 552, 'environmentalscience mathematics': 437, 'history_geography literacy': 332, 'gym_fitness': 674, 'esl literature_writing': 403, 'literacy socialsciences': 219, 'health_wellness mathematics': 133, 'mathematics': 2936, 'visualarts': 1232, 'appliedsciences environmentalscience': 521, 'history_geography': 293, 'history_geography literature_writing': 345, 'appliedsciences health_lifescience': 303, 'earlydevelopment literacy': 412, 'gym_fitness health_wellness': 1308, 'earlydevelopment': 499, 'literacy visualarts': 312, 'appliedsciences extracurricular': 85, 'gym_fitness mathematics': 21, 'literature_writing specialneeds': 720, 'literature_writing socialsciences': 194, 'specialneeds': 2288, 'appliedsciences literature_writing': 242, 'nutritioneducation': 153, 'appliedsciences': 1340, 'esl mathematics': 157, 'charactereducation other': 51, 'foreignlanguages literacy': 121, 'gym_fitness teamsports': 300, 'mathematics specialneeds': 649, 'earlydevelopment specialneeds': 431, 'health_lifescience literature_writing': 105, 'appliedsciences mathematics': 1854, 'health_lifescience mathematics': 294, 'environmentalscience': 608, 'earlydevelopment other': 89, 'esl literacy': 1268, 'financialliteracy mathematics': 80, 'health_lifescience health_wellness': 99, 'warmth care_hunger': 827, 'literature_writing parentinvolvement': 41, 'music specialneeds': 73, 'civics_government history_geography': 145, 'performingarts visualarts': 48, 'mathematics socialsciences': 51, 'earlydevelopment health_wellness': 162, 'appliedsciences literacy': 311, 'appliedsciences college_careerprep': 235, 'teamsports': 582, 'health_lifescience parentinvolvement': 7, 'appliedsciences specialneeds': 204, 'college_careerprep literature_writing': 190, 'history_geography socialsciences': 180, 'parentinvolvement visualarts': 23, 'specialneeds visualarts': 185, 'literature_writing visualarts': 372, 'charactereducation health_wellness': 58, 'other': 485, 'environmentalscience specialneeds': 82, 'college_careerprep literacy': 148, 'health_lifescience visualarts': 55, 'literacy performingarts': 75, 'mathematics visualarts': 259, 'nutritioneducation other': 6, 'civics_government literacy': 84, 'college_careerprep other': 51, 'literature_writing performingarts': 72, 'health_lifescience literacy': 192, 'appliedsciences music': 46, 'environmentalscience literacy': 276, 'mathematics performingarts': 16, 'gym_fitness specialneeds': 92, 'environmentalscience socialsciences': 36, 'communityservice literacy': 12, 'economics': 23, 'extracurricular performingarts': 15, 'earlydevelopment visualarts': 93, 'appliedsciences civics_government': 7, 'mathematics music': 43, 'history_geography visualarts': 99, 'extracurricular visualarts': 42, 'extracurricular literacy': 23, 'environmentalscience nutritioneducation': 22, 'health_wellness literature_writing': 176, 'health_lifescience': 475, 'charactereducation college_careerprep': 73, 'earlydevelopment warmth care_hunger': 3, 'esl earlydevelopment': 45, 'college_careerprep': 223, 'appliedsciences visualarts': 317, 'earlydevelopment literature_writing': 131, 'charactereducation visualarts': 37, 'financialliteracy': 90, 'health_wellness literacy': 275, 'economics financialliteracy': 48, 'financialliteracy literacy': 12, 'environmentalscience history_geography': 83, 'appliedsciences performingarts': 21, 'appliedsciences earlydevelopment': 93, 'college_careerprep specialneeds': 60, 'college_careerprep environmentalscience': 14, 'financialliteracy parentinvolvement': 2, 'esl foreignlanguages': 30, 'civics_government literature_writing': 51, 'esl other': 11, 'foreignlanguages literature_writing': 44, 'charactereducation specialneeds': 102, 'environmentalscience visualarts': 118, 'earlydevelopment mathematics': 154, 'history_geography other': 8, 'foreignlanguages': 190, 'earlydevelopment performingarts': 12, 'esl': 244, 'mathematics parentinvolvement': 42, 'literacy music': 84, 'charactereducation extracurricular': 27, 'literature_writing other': 69, 'college_careerprep visualarts': 77, 'health_wellness nutritioneducation': 442, 'college_careerprep parentinvolvement': 22, 'performingarts': 242, 'literacy parentinvolvement': 81, 'health_wellness music': 19, 'charactereducation mathematics': 52, 'health_wellness teamsports': 189, 'college_careerprep mathematics': 171, 'civics_government financialliteracy': 10, 'specialneeds teamsports': 20, 'health_wellness other': 100, 'esl visualarts': 20, 'earlydevelopment health_lifescience': 18, 'nutritioneducation specialneeds': 19, 'literacy other': 93, 'charactereducation earlydevelopment': 80, 'communityservice': 27, 'appliedsciences socialsciences': 36, 'foreignlanguages mathematics': 22, 'extracurricular': 72, 'appliedsciences foreignlanguages': 4, 'esl environmentalscience': 22, 'health_wellness performingarts': 11, 'specialneeds warmth care_hunger': 10, 'socialsciences': 109, 'civics_government parentinvolvement': 1, 'communityservice specialneeds': 13, 'charactereducation financialliteracy': 4, 'other performingarts': 1, 'mathematics warmth care_hunger': 1, 'earlydevelopment environmentalscience': 27, 'appliedsciences charactereducation': 23, 'music other': 3, 'mathematics other': 52, 'esl financialliteracy': 3, 'civics_government specialneeds': 10, 'health_wellness visualarts': 21, 'foreignlanguages health_lifescience': 2, 'history_geography mathematics': 67, 'civics_government socialsciences': 43, 'socialsciences specialneeds': 36, 'health_lifescience specialneeds': 70, 'charactereducation music': 14, 'environmentalscience performingarts': 8, 'earlydevelopment nutritioneducation': 6, 'earlydevelopment gym_fitness': 22, 'environmentalscience health_wellness': 22, 'charactereducation health_lifescience': 8, 'civics_government': 43, 'charactereducation literature_writing': 100, 'charactereducation communityservice': 39, 'extracurricular gym_fitness': 4, 'extracurricular literature_writing': 20, 'literature_writing music': 28, 'civics_government performingarts': 4, 'civics_government economics': 11, 'foreignlanguages gym_fitness': 2, 'esl nutritioneducation': 1, 'charactereducation gym_fitness': 1, 'nutritioneducation visualarts': 4, 'appliedsciences parentinvolvement': 39, 'economics mathematics': 14, 'esl health_wellness': 16, 'parentinvolvement specialneeds': 19, 'civics_government environmentalscience': 11, 'college_careerprep extracurricular': 28, 'extracurricular mathematics': 36, 'college_careerprep performingarts': 10, 'communityservice earlydevelopment': 6, 'communityservice environmentalscience': 26, 'financialliteracy literature_writing': 8, 'communityservice literature_writing': 17, 'literacy teamsports': 5, 'esl history_geography': 21, 'economics literature_writing': 1, 'history_geography specialneeds': 68, 'college_careerprep history_geography': 15, 'economics visualarts': 6, 'socialsciences visualarts': 39, 'environmentalscience music': 5, 'appliedsciences history_geography': 48, 'extracurricular music': 16, 'gym_fitness nutritioneducation': 36, 'music visualarts': 20, 'college_careerprep financialliteracy': 7, 'literature_writing teamsports': 5, 'charactereducation esl': 11, 'earlydevelopment parentinvolvement': 22, 'civics_government college_careerprep': 4, 'performingarts teamsports': 6, 'charactereducation history_geography': 7, 'appliedsciences other': 72, 'charactereducation environmentalscience': 12, 'performingarts specialneeds': 6, 'college_careerprep earlydevelopment': 14, 'extracurricular specialneeds': 11, 'appliedsciences esl': 45, 'other parentinvolvement': 6, 'earlydevelopment teamsports': 3, 'health_lifescience history_geography': 34, 'communityservice mathematics': 7, 'foreignlanguages music': 5, 'communityservice socialsciences': 3, 'economics history_geography': 16, 'appliedsciences health_wellness': 26, 'gym_fitness music': 12, 'history_geography performingarts': 9, 'financialliteracy specialneeds': 23, 'music socialsciences': 4, 'communityservice history_geography': 3, 'charactereducation socialsciences': 11, 'esl health_lifescience': 19, 'extracurricular other': 10, 'extracurricular socialsciences': 3, 'college_careerprep health_lifescience': 29, 'communityservice visualarts': 13, 'charactereducation teamsports': 13, 'other visualarts': 31, 'music teamsports': 4, 'health_wellness warmth care_hunger': 10, 'health_lifescience nutritioneducation': 19, 'charactereducation parentinvolvement': 15, 'gym_fitness other': 5, 'civics_government mathematics': 1, 'environmentalscience financialliteracy': 5, 'gym_fitness health_lifescience': 4, 'esl parentinvolvement': 5, 'gym_fitness literacy': 15, 'communityservice esl': 2, 'health_wellness parentinvolvement': 1, 'earlydevelopment extracurricular': 9, 'college_careerprep communityservice': 14, 'esl music': 13, 'civics_government communityservice': 6, 'foreignlanguages history_geography': 10, 'nutritioneducation teamsports': 9, 'college_careerprep health_wellness': 12, 'communityservice parentinvolvement': 5, 'history_geography music': 14, 'health_lifescience teamsports': 5, 'communityservice extracurricular': 9, 'civics_government health_lifescience': 8, 'civics_government extracurricular': 1, 'environmentalscience parentinvolvement': 9, 'gym_fitness history_geography': 3, 'extracurricular history_geography': 2, 'nutritioneducation warmth care_hunger': 1, 'environmentalscience other': 7, 'environmentalscience extracurricular': 6, 'environmentalscience warmth care_hunger': 2, 'parentinvolvement': 25, 'charactereducation economics': 1, 'college_careerprep socialsciences': 21, 'earlydevelopment financialliteracy': 4, 'extracurricular financialliteracy': 1, 'earlydevelopment socialsciences': 7, 'other teamsports': 2, 'health_wellness history_geography': 9, 'college_careerprep esl': 6, 'economics socialsciences': 8, 'foreignlanguages visualarts': 3, 'gym_fitness visualarts': 4, 'appliedsciences communityservice': 9, 'health_lifescience other': 7, 'health_lifescience warmth care_hunger': 1, 'financialliteracy health_lifescience': 1, 'esl performingarts': 8, 'extracurricular health_wellness': 7, 'charactereducation performingarts': 4, 'literacy nutritioneducation': 3, 'literacy warmth care_hunger': 3, 'charactereducation nutritioneducation': 1, 'communityservice gym_fitness': 1, 'college_careerprep music': 5, 'economics literacy': 9, 'communityservice economics': 2, 'civics_government esl': 4, 'music parentinvolvement': 1, 'environmentalscience foreignlanguages': 4, 'foreignlanguages other': 5, 'communityservice health_wellness': 8, 'communityservice nutritioneducation': 1, 'esl socialsciences': 9, 'communityservice other': 2, 'communityservice music': 1, 'earlydevelopment music': 12, 'financialliteracy history_geography': 8, 'socialsciences teamsports': 2, 'communityservice health_lifescience': 5, 'civics_government visualarts': 4, 'health_lifescience music': 6, 'financialliteracy visualarts': 2, 'extracurricular teamsports': 15, 'esl extracurricular': 2, 'mathematics teamsports': 3, 'gym_fitness performingarts': 3, 'performingarts socialsciences': 5, 'gym_fitness literature_writing': 8, 'health_wellness socialsciences': 11, 'extracurricular nutritioneducation': 1, 'economics environmentalscience': 4, 'environmentalscience teamsports': 2, 'parentinvolvement performingarts': 3, 'charactereducation foreignlanguages': 4, 'appliedsciences nutritioneducation': 1, 'extracurricular health_lifescience': 1, 'visualarts warmth care_hunger': 1, 'financialliteracy socialsciences': 2, 'economics nutritioneducation': 1, 'foreignlanguages specialneeds': 9, 'appliedsciences teamsports': 5, 'charactereducation civics_government': 3, 'college_careerprep nutritioneducation': 4, 'foreignlanguages performingarts': 3, 'civics_government nutritioneducation': 1, 'parentinvolvement socialsciences': 4, 'teamsports visualarts': 1, 'college_careerprep gym_fitness': 1, 'literature_writing warmth care_hunger': 3, 'college_careerprep economics': 2, 'esl gym_fitness': 2, 'parentinvolvement teamsports': 1, 'parentinvolvement warmth care_hunger': 1, 'appliedsciences gym_fitness': 4, 'foreignlanguages health_wellness': 5, 'earlydevelopment foreignlanguages': 2, 'communityservice performingarts': 3, 'appliedsciences warmth care_hunger': 1, 'earlydevelopment history_geography': 1, 'economics other': 1, 'communityservice financialliteracy': 1, 'foreignlanguages socialsciences': 2, 'economics health_lifescience': 2, 'extracurricular parentinvolvement': 1, 'health_lifescience performingarts': 1, 'other warmth care_hunger': 1, 'charactereducation warmth care_hunger': 2, 'gym_fitness parentinvolvement': 1, 'other socialsciences': 1, 'college_careerprep teamsports': 2, 'nutritioneducation socialsciences': 1, 'history_geography teamsports': 1, 'mathematics nutritioneducation': 1, 'appliedsciences economics': 1, 'gym_fitness socialsciences': 1, 'economics music': 1, 'appliedsciences financialliteracy': 1, 'history_geography parentinvolvement': 1, 'financialliteracy performingarts': 1, 'civics_government health_wellness': 1, 'environmentalscience gym_fitness': 0, 'economics specialneeds': 0}\n",
      "{'health_lifescience mathematics': 70, 'literacy literature_writing': 498, 'appliedsciences environmentalscience': 136, 'charactereducation earlydevelopment': 26, 'literature_writing visualarts': 73, 'specialneeds': 555, 'charactereducation': 41, 'environmentalscience literacy': 34, 'literature_writing': 431, 'literacy mathematics': 697, 'other': 88, 'literacy': 749, 'appliedsciences literature_writing': 35, 'appliedsciences mathematics': 380, 'nutritioneducation': 41, 'earlydevelopment': 116, 'visualarts': 269, 'literature_writing mathematics': 522, 'civics_government literacy': 11, 'environmentalscience health_lifescience': 123, 'environmentalscience': 133, 'literature_writing other': 19, 'esl literacy': 200, 'foreignlanguages literacy': 20, 'health_wellness literature_writing': 26, 'mathematics': 697, 'health_wellness': 293, 'communityservice environmentalscience': 6, 'environmentalscience literature_writing': 31, 'literature_writing specialneeds': 139, 'health_lifescience': 85, 'environmentalscience mathematics': 101, 'charactereducation health_wellness': 14, 'history_geography literature_writing': 55, 'performingarts': 34, 'appliedsciences literacy': 66, 'health_lifescience literacy': 23, 'earlydevelopment literacy': 68, 'mathematics visualarts': 59, 'health_wellness socialsciences': 1, 'esl literature_writing': 90, 'history_geography': 64, 'teamsports': 139, 'history_geography specialneeds': 11, 'health_wellness specialneeds': 98, 'health_wellness literacy': 41, 'appliedsciences health_lifescience': 72, 'environmentalscience other': 1, 'charactereducation other': 17, 'gym_fitness teamsports': 92, 'esl mathematics': 28, 'gym_fitness health_wellness': 194, 'parentinvolvement specialneeds': 4, 'other specialneeds': 37, 'esl': 50, 'appliedsciences': 294, 'earlydevelopment health_wellness': 26, 'music performingarts': 69, 'college_careerprep esl': 2, 'appliedsciences college_careerprep': 55, 'health_wellness nutritioneducation': 96, 'college_careerprep mathematics': 32, 'socialsciences visualarts': 9, 'literacy parentinvolvement': 11, 'environmentalscience specialneeds': 13, 'literacy music': 12, 'civics_government literature_writing': 5, 'civics_government': 12, 'other visualarts': 9, 'literacy specialneeds': 225, 'history_geography music': 2, 'gym_fitness': 136, 'health_lifescience literature_writing': 14, 'appliedsciences visualarts': 75, 'college_careerprep other': 12, 'mathematics specialneeds': 131, 'earlydevelopment health_lifescience': 7, 'socialsciences': 23, 'earlydevelopment visualarts': 25, 'financialliteracy specialneeds': 5, 'appliedsciences specialneeds': 30, 'warmth care_hunger': 59, 'esl history_geography': 4, 'civics_government specialneeds': 2, 'college_careerprep history_geography': 3, 'earlydevelopment specialneeds': 96, 'esl specialneeds': 17, 'communityservice': 9, 'financialliteracy mathematics': 8, 'history_geography socialsciences': 32, 'charactereducation specialneeds': 30, 'appliedsciences gym_fitness': 2, 'health_lifescience health_wellness': 15, 'literature_writing socialsciences': 27, 'earlydevelopment literature_writing': 27, 'health_wellness teamsports': 50, 'health_lifescience parentinvolvement': 2, 'communityservice health_wellness': 2, 'music': 105, 'college_careerprep nutritioneducation': 4, 'health_lifescience nutritioneducation': 13, 'college_careerprep': 52, 'health_wellness music': 3, 'esl music': 1, 'mathematics parentinvolvement': 9, 'environmentalscience visualarts': 28, 'extracurricular': 17, 'extracurricular other': 3, 'college_careerprep literacy': 8, 'charactereducation college_careerprep': 18, 'college_careerprep literature_writing': 31, 'history_geography other': 1, 'earlydevelopment music': 4, 'college_careerprep health_wellness': 3, 'literacy visualarts': 58, 'mathematics other': 11, 'environmentalscience health_wellness': 8, 'college_careerprep specialneeds': 16, 'performingarts visualarts': 12, 'environmentalscience gym_fitness': 1, 'college_careerprep music': 2, 'extracurricular mathematics': 6, 'health_lifescience specialneeds': 19, 'literacy socialsciences': 24, 'gym_fitness performingarts': 2, 'health_lifescience teamsports': 2, 'specialneeds visualarts': 40, 'earlydevelopment other': 15, 'gym_fitness literacy': 6, 'charactereducation mathematics': 15, 'music visualarts': 5, 'charactereducation performingarts': 3, 'history_geography mathematics': 8, 'appliedsciences charactereducation': 6, 'civics_government mathematics': 3, 'charactereducation literacy': 26, 'foreignlanguages': 44, 'foreignlanguages performingarts': 1, 'foreignlanguages specialneeds': 2, 'extracurricular visualarts': 13, 'esl parentinvolvement': 3, 'parentinvolvement visualarts': 2, 'appliedsciences earlydevelopment': 18, 'environmentalscience history_geography': 12, 'earlydevelopment gym_fitness': 5, 'mathematics socialsciences': 7, 'health_wellness mathematics': 23, 'foreignlanguages visualarts': 4, 'college_careerprep financialliteracy': 4, 'appliedsciences extracurricular': 12, 'communityservice visualarts': 5, 'appliedsciences other': 12, 'performingarts teamsports': 3, 'college_careerprep earlydevelopment': 3, 'appliedsciences warmth care_hunger': 1, 'civics_government socialsciences': 5, 'literature_writing performingarts': 12, 'literature_writing parentinvolvement': 5, 'college_careerprep performingarts': 6, 'financialliteracy': 22, 'music specialneeds': 6, 'college_careerprep parentinvolvement': 6, 'parentinvolvement': 7, 'civics_government history_geography': 26, 'health_lifescience visualarts': 11, 'charactereducation esl': 3, 'charactereducation parentinvolvement': 4, 'health_wellness other': 16, 'appliedsciences health_wellness': 2, 'charactereducation teamsports': 7, 'appliedsciences socialsciences': 7, 'communityservice literature_writing': 4, 'environmentalscience socialsciences': 10, 'civics_government communityservice': 1, 'communityservice mathematics': 2, 'charactereducation extracurricular': 10, 'appliedsciences performingarts': 3, 'environmentalscience nutritioneducation': 11, 'music socialsciences': 1, 'performingarts specialneeds': 4, 'history_geography visualarts': 21, 'charactereducation literature_writing': 19, 'esl foreignlanguages': 7, 'history_geography literacy': 31, 'environmentalscience performingarts': 2, 'esl environmentalscience': 5, 'foreignlanguages mathematics': 5, 'health_lifescience socialsciences': 4, 'literacy other': 14, 'charactereducation health_lifescience': 2, 'extracurricular specialneeds': 1, 'gym_fitness literature_writing': 2, 'nutritioneducation specialneeds': 3, 'earlydevelopment mathematics': 41, 'charactereducation socialsciences': 3, 'charactereducation visualarts': 9, 'appliedsciences music': 6, 'charactereducation communityservice': 7, 'communityservice extracurricular': 2, 'financialliteracy health_lifescience': 1, 'foreignlanguages literature_writing': 13, 'mathematics music': 4, 'extracurricular music': 3, 'history_geography performingarts': 4, 'appliedsciences esl': 7, 'health_lifescience warmth care_hunger': 1, 'esl health_wellness': 4, 'esl health_lifescience': 3, 'health_wellness history_geography': 2, 'foreignlanguages history_geography': 3, 'environmentalscience extracurricular': 3, 'college_careerprep visualarts': 9, 'earlydevelopment environmentalscience': 9, 'esl visualarts': 6, 'earlydevelopment financialliteracy': 1, 'socialsciences specialneeds': 6, 'gym_fitness specialneeds': 15, 'health_lifescience other': 3, 'charactereducation music': 3, 'gym_fitness mathematics': 6, 'health_wellness visualarts': 5, 'music teamsports': 1, 'civics_government environmentalscience': 5, 'economics financialliteracy': 8, 'college_careerprep environmentalscience': 5, 'nutritioneducation teamsports': 2, 'literacy performingarts': 12, 'financialliteracy visualarts': 1, 'foreignlanguages music': 2, 'foreignlanguages health_wellness': 2, 'gym_fitness health_lifescience': 1, 'communityservice other': 2, 'college_careerprep communityservice': 5, 'charactereducation warmth care_hunger': 2, 'specialneeds warmth care_hunger': 2, 'appliedsciences history_geography': 15, 'college_careerprep foreignlanguages': 3, 'earlydevelopment teamsports': 1, 'literacy teamsports': 2, 'mathematics performingarts': 2, 'economics socialsciences': 3, 'earlydevelopment parentinvolvement': 3, 'gym_fitness visualarts': 2, 'appliedsciences parentinvolvement': 6, 'communityservice health_lifescience': 2, 'gym_fitness nutritioneducation': 3, 'esl earlydevelopment': 2, 'charactereducation foreignlanguages': 1, 'communityservice earlydevelopment': 2, 'music parentinvolvement': 1, 'civics_government performingarts': 2, 'civics_government health_lifescience': 3, 'other performingarts': 2, 'civics_government economics': 4, 'communityservice nutritioneducation': 2, 'specialneeds teamsports': 5, 'economics mathematics': 1, 'extracurricular teamsports': 4, 'literature_writing music': 4, 'environmentalscience parentinvolvement': 2, 'communityservice socialsciences': 2, 'foreignlanguages other': 1, 'economics history_geography': 3, 'appliedsciences teamsports': 1, 'communityservice specialneeds': 3, 'appliedsciences economics': 1, 'literature_writing teamsports': 1, 'mathematics nutritioneducation': 2, 'financialliteracy literacy': 2, 'music other': 1, 'extracurricular gym_fitness': 1, 'earlydevelopment socialsciences': 1, 'communityservice history_geography': 1, 'economics': 3, 'economics specialneeds': 2, 'extracurricular literacy': 5, 'foreignlanguages socialsciences': 1, 'communityservice esl': 1, 'college_careerprep extracurricular': 2, 'esl performingarts': 1, 'financialliteracy history_geography': 1, 'civics_government visualarts': 2, 'civics_government extracurricular': 1, 'charactereducation gym_fitness': 2, 'literacy warmth care_hunger': 1, 'appliedsciences financialliteracy': 1, 'health_lifescience history_geography': 4, 'communityservice literacy': 3, 'college_careerprep health_lifescience': 3, 'teamsports visualarts': 1, 'esl financialliteracy': 2, 'appliedsciences nutritioneducation': 1, 'extracurricular nutritioneducation': 1, 'college_careerprep gym_fitness': 1, 'mathematics teamsports': 1, 'appliedsciences communityservice': 1, 'esl other': 2, 'literacy nutritioneducation': 2, 'college_careerprep socialsciences': 1, 'environmentalscience foreignlanguages': 1, 'economics literacy': 1, 'civics_government college_careerprep': 2, 'performingarts socialsciences': 2, 'charactereducation environmentalscience': 3, 'health_wellness parentinvolvement': 1, 'gym_fitness music': 1, 'esl socialsciences': 1, 'charactereducation financialliteracy': 1, 'communityservice economics': 1, 'health_lifescience performingarts': 1, 'esl gym_fitness': 1, 'nutritioneducation visualarts': 1, 'earlydevelopment nutritioneducation': 1, 'environmentalscience music': 1, 'health_wellness warmth care_hunger': 1, 'extracurricular literature_writing': 1, 'appliedsciences foreignlanguages': 1, 'earlydevelopment performingarts': 1, 'extracurricular performingarts': 1, 'nutritioneducation other': 0, 'appliedsciences civics_government': 0, 'earlydevelopment warmth care_hunger': 0, 'financialliteracy parentinvolvement': 0, 'civics_government financialliteracy': 0, 'health_wellness performingarts': 0, 'civics_government parentinvolvement': 0, 'mathematics warmth care_hunger': 0, 'foreignlanguages health_lifescience': 0, 'foreignlanguages gym_fitness': 0, 'esl nutritioneducation': 0, 'financialliteracy literature_writing': 0, 'economics literature_writing': 0, 'economics visualarts': 0, 'charactereducation history_geography': 0, 'other parentinvolvement': 0, 'extracurricular socialsciences': 0, 'gym_fitness other': 0, 'environmentalscience financialliteracy': 0, 'earlydevelopment extracurricular': 0, 'communityservice parentinvolvement': 0, 'gym_fitness history_geography': 0, 'extracurricular history_geography': 0, 'nutritioneducation warmth care_hunger': 0, 'environmentalscience warmth care_hunger': 0, 'charactereducation economics': 0, 'extracurricular financialliteracy': 0, 'other teamsports': 0, 'extracurricular health_wellness': 0, 'charactereducation nutritioneducation': 0, 'communityservice gym_fitness': 0, 'civics_government esl': 0, 'communityservice music': 0, 'socialsciences teamsports': 0, 'health_lifescience music': 0, 'esl extracurricular': 0, 'economics environmentalscience': 0, 'environmentalscience teamsports': 0, 'parentinvolvement performingarts': 0, 'extracurricular health_lifescience': 0, 'visualarts warmth care_hunger': 0, 'financialliteracy socialsciences': 0, 'economics nutritioneducation': 0, 'charactereducation civics_government': 0, 'civics_government nutritioneducation': 0, 'parentinvolvement socialsciences': 0, 'literature_writing warmth care_hunger': 0, 'college_careerprep economics': 0, 'parentinvolvement teamsports': 0, 'parentinvolvement warmth care_hunger': 0, 'earlydevelopment foreignlanguages': 0, 'communityservice performingarts': 0, 'earlydevelopment history_geography': 0, 'economics other': 0, 'communityservice financialliteracy': 0, 'economics health_lifescience': 0, 'extracurricular parentinvolvement': 0, 'other warmth care_hunger': 0, 'gym_fitness parentinvolvement': 0, 'other socialsciences': 0, 'college_careerprep teamsports': 0, 'nutritioneducation socialsciences': 0, 'history_geography teamsports': 0, 'gym_fitness socialsciences': 0, 'economics music': 0, 'history_geography parentinvolvement': 0, 'financialliteracy performingarts': 0, 'civics_government health_wellness': 0}\n",
      "{'literature_writing mathematics': 3922, 'health_wellness specialneeds': 812, 'other specialneeds': 193, 'charactereducation literacy': 224, 'college_careerprep foreignlanguages': 14, 'health_wellness': 2411, 'literacy': 6417, 'literacy specialneeds': 1622, 'health_lifescience mathematics': 364, 'literature_writing': 3000, 'literacy literature_writing': 3751, 'environmentalscience health_lifescience': 644, 'music': 987, 'appliedsciences environmentalscience': 657, 'literacy mathematics': 5635, 'charactereducation': 224, 'health_lifescience socialsciences': 45, 'esl specialneeds': 139, 'charactereducation earlydevelopment': 106, 'literature_writing visualarts': 445, 'environmentalscience literature_writing': 202, 'music performingarts': 621, 'environmentalscience mathematics': 538, 'history_geography literacy': 363, 'specialneeds': 2843, 'gym_fitness': 810, 'esl literature_writing': 493, 'literacy socialsciences': 243, 'health_wellness mathematics': 156, 'mathematics': 3633, 'visualarts': 1501, 'history_geography': 357, 'history_geography literature_writing': 400, 'appliedsciences health_lifescience': 375, 'earlydevelopment literacy': 480, 'gym_fitness health_wellness': 1502, 'earlydevelopment': 615, 'environmentalscience literacy': 310, 'literacy visualarts': 370, 'appliedsciences extracurricular': 97, 'gym_fitness mathematics': 27, 'literature_writing specialneeds': 859, 'literature_writing socialsciences': 221, 'other': 573, 'appliedsciences literature_writing': 277, 'nutritioneducation': 194, 'appliedsciences': 1634, 'esl mathematics': 185, 'charactereducation other': 68, 'foreignlanguages literacy': 141, 'gym_fitness teamsports': 392, 'mathematics specialneeds': 780, 'earlydevelopment specialneeds': 527, 'health_lifescience literature_writing': 119, 'appliedsciences mathematics': 2234, 'environmentalscience': 741, 'earlydevelopment other': 104, 'esl literacy': 1468, 'financialliteracy mathematics': 88, 'health_lifescience health_wellness': 114, 'warmth care_hunger': 886, 'literature_writing parentinvolvement': 46, 'music specialneeds': 79, 'civics_government history_geography': 171, 'performingarts visualarts': 60, 'mathematics socialsciences': 58, 'earlydevelopment health_wellness': 188, 'appliedsciences literacy': 377, 'appliedsciences college_careerprep': 290, 'teamsports': 721, 'health_lifescience parentinvolvement': 9, 'appliedsciences specialneeds': 234, 'college_careerprep literature_writing': 221, 'civics_government literacy': 95, 'history_geography socialsciences': 212, 'parentinvolvement visualarts': 25, 'specialneeds visualarts': 225, 'charactereducation health_wellness': 72, 'environmentalscience specialneeds': 95, 'college_careerprep literacy': 156, 'health_lifescience visualarts': 66, 'literature_writing other': 88, 'literacy performingarts': 87, 'mathematics visualarts': 318, 'nutritioneducation other': 6, 'college_careerprep other': 63, 'literature_writing performingarts': 84, 'health_wellness literature_writing': 202, 'health_lifescience literacy': 215, 'appliedsciences music': 52, 'mathematics performingarts': 18, 'gym_fitness specialneeds': 107, 'environmentalscience socialsciences': 46, 'communityservice literacy': 15, 'economics': 26, 'extracurricular performingarts': 16, 'earlydevelopment visualarts': 118, 'communityservice environmentalscience': 32, 'appliedsciences civics_government': 7, 'mathematics music': 47, 'history_geography visualarts': 120, 'extracurricular visualarts': 55, 'extracurricular literacy': 28, 'health_lifescience': 560, 'environmentalscience nutritioneducation': 33, 'charactereducation college_careerprep': 91, 'earlydevelopment warmth care_hunger': 3, 'esl earlydevelopment': 47, 'college_careerprep': 275, 'appliedsciences visualarts': 392, 'earlydevelopment literature_writing': 158, 'charactereducation visualarts': 46, 'financialliteracy': 112, 'health_wellness literacy': 316, 'economics financialliteracy': 56, 'financialliteracy literacy': 14, 'performingarts': 276, 'environmentalscience history_geography': 95, 'appliedsciences performingarts': 24, 'appliedsciences earlydevelopment': 111, 'college_careerprep specialneeds': 76, 'college_careerprep environmentalscience': 19, 'financialliteracy parentinvolvement': 2, 'esl foreignlanguages': 37, 'civics_government literature_writing': 56, 'esl other': 13, 'foreignlanguages literature_writing': 57, 'charactereducation specialneeds': 132, 'environmentalscience visualarts': 146, 'earlydevelopment mathematics': 195, 'history_geography other': 9, 'health_wellness socialsciences': 12, 'foreignlanguages': 234, 'history_geography specialneeds': 79, 'earlydevelopment performingarts': 13, 'esl': 294, 'mathematics parentinvolvement': 51, 'literacy music': 96, 'environmentalscience other': 8, 'charactereducation extracurricular': 37, 'college_careerprep visualarts': 86, 'health_wellness nutritioneducation': 538, 'parentinvolvement specialneeds': 23, 'college_careerprep parentinvolvement': 28, 'literacy parentinvolvement': 92, 'health_wellness music': 22, 'charactereducation mathematics': 67, 'health_wellness teamsports': 239, 'college_careerprep mathematics': 203, 'civics_government financialliteracy': 10, 'specialneeds teamsports': 25, 'health_wellness other': 116, 'esl visualarts': 26, 'earlydevelopment health_lifescience': 25, 'nutritioneducation specialneeds': 22, 'college_careerprep esl': 8, 'literacy other': 107, 'communityservice': 36, 'socialsciences visualarts': 48, 'appliedsciences socialsciences': 43, 'foreignlanguages mathematics': 27, 'extracurricular': 89, 'appliedsciences foreignlanguages': 5, 'esl environmentalscience': 27, 'health_wellness performingarts': 11, 'specialneeds warmth care_hunger': 12, 'civics_government': 55, 'socialsciences': 132, 'other visualarts': 40, 'history_geography music': 16, 'civics_government parentinvolvement': 1, 'communityservice specialneeds': 16, 'charactereducation financialliteracy': 5, 'other performingarts': 3, 'mathematics warmth care_hunger': 1, 'earlydevelopment environmentalscience': 36, 'appliedsciences charactereducation': 29, 'music other': 4, 'mathematics other': 63, 'financialliteracy specialneeds': 28, 'esl financialliteracy': 5, 'civics_government specialneeds': 12, 'health_wellness visualarts': 26, 'esl history_geography': 25, 'foreignlanguages health_lifescience': 2, 'history_geography mathematics': 75, 'civics_government socialsciences': 48, 'socialsciences specialneeds': 42, 'health_lifescience specialneeds': 89, 'college_careerprep history_geography': 18, 'charactereducation music': 17, 'environmentalscience performingarts': 10, 'earlydevelopment nutritioneducation': 7, 'earlydevelopment gym_fitness': 27, 'environmentalscience health_wellness': 30, 'charactereducation health_lifescience': 10, 'charactereducation literature_writing': 119, 'charactereducation communityservice': 46, 'appliedsciences gym_fitness': 6, 'extracurricular gym_fitness': 5, 'communityservice health_wellness': 10, 'extracurricular literature_writing': 21, 'college_careerprep nutritioneducation': 8, 'literature_writing music': 32, 'health_lifescience nutritioneducation': 32, 'civics_government performingarts': 6, 'civics_government economics': 15, 'foreignlanguages gym_fitness': 2, 'esl music': 14, 'esl nutritioneducation': 1, 'charactereducation gym_fitness': 3, 'nutritioneducation visualarts': 5, 'appliedsciences parentinvolvement': 45, 'economics mathematics': 15, 'esl health_wellness': 20, 'extracurricular other': 13, 'civics_government environmentalscience': 16, 'college_careerprep extracurricular': 30, 'extracurricular mathematics': 42, 'college_careerprep performingarts': 16, 'communityservice earlydevelopment': 8, 'financialliteracy literature_writing': 8, 'communityservice literature_writing': 21, 'literacy teamsports': 7, 'earlydevelopment music': 16, 'college_careerprep health_wellness': 15, 'economics literature_writing': 1, 'economics visualarts': 6, 'environmentalscience music': 6, 'appliedsciences history_geography': 63, 'extracurricular music': 19, 'gym_fitness nutritioneducation': 39, 'music visualarts': 25, 'environmentalscience gym_fitness': 1, 'college_careerprep financialliteracy': 11, 'literature_writing teamsports': 6, 'charactereducation esl': 14, 'college_careerprep music': 7, 'earlydevelopment parentinvolvement': 25, 'civics_government college_careerprep': 6, 'gym_fitness performingarts': 5, 'health_lifescience teamsports': 7, 'performingarts teamsports': 9, 'charactereducation history_geography': 7, 'appliedsciences other': 84, 'gym_fitness literacy': 21, 'charactereducation environmentalscience': 15, 'performingarts specialneeds': 10, 'college_careerprep earlydevelopment': 17, 'charactereducation performingarts': 7, 'extracurricular specialneeds': 12, 'appliedsciences esl': 52, 'civics_government mathematics': 4, 'other parentinvolvement': 6, 'earlydevelopment teamsports': 4, 'foreignlanguages performingarts': 4, 'foreignlanguages specialneeds': 11, 'health_lifescience history_geography': 38, 'communityservice mathematics': 9, 'foreignlanguages music': 7, 'communityservice socialsciences': 5, 'esl parentinvolvement': 8, 'economics history_geography': 19, 'appliedsciences health_wellness': 28, 'gym_fitness music': 13, 'history_geography performingarts': 13, 'music socialsciences': 5, 'communityservice history_geography': 4, 'charactereducation socialsciences': 14, 'foreignlanguages visualarts': 7, 'esl health_lifescience': 22, 'communityservice visualarts': 18, 'extracurricular socialsciences': 3, 'appliedsciences warmth care_hunger': 2, 'college_careerprep health_lifescience': 32, 'parentinvolvement': 32, 'charactereducation teamsports': 20, 'music teamsports': 5, 'health_wellness warmth care_hunger': 11, 'charactereducation parentinvolvement': 19, 'gym_fitness other': 5, 'civics_government communityservice': 7, 'environmentalscience financialliteracy': 5, 'gym_fitness health_lifescience': 5, 'communityservice esl': 3, 'health_wellness parentinvolvement': 2, 'earlydevelopment extracurricular': 9, 'college_careerprep communityservice': 19, 'foreignlanguages history_geography': 13, 'nutritioneducation teamsports': 11, 'communityservice parentinvolvement': 5, 'gym_fitness literature_writing': 10, 'communityservice extracurricular': 11, 'civics_government health_lifescience': 11, 'civics_government extracurricular': 2, 'environmentalscience parentinvolvement': 11, 'financialliteracy health_lifescience': 2, 'gym_fitness history_geography': 3, 'extracurricular history_geography': 2, 'nutritioneducation warmth care_hunger': 1, 'health_lifescience warmth care_hunger': 2, 'environmentalscience extracurricular': 9, 'environmentalscience warmth care_hunger': 2, 'charactereducation economics': 1, 'health_wellness history_geography': 11, 'college_careerprep socialsciences': 22, 'earlydevelopment financialliteracy': 5, 'extracurricular financialliteracy': 1, 'earlydevelopment socialsciences': 8, 'other teamsports': 2, 'economics socialsciences': 11, 'health_lifescience other': 10, 'gym_fitness visualarts': 6, 'appliedsciences communityservice': 10, 'esl performingarts': 9, 'extracurricular health_wellness': 7, 'literacy nutritioneducation': 5, 'literacy warmth care_hunger': 4, 'charactereducation nutritioneducation': 1, 'financialliteracy visualarts': 3, 'communityservice gym_fitness': 1, 'foreignlanguages health_wellness': 7, 'economics literacy': 10, 'communityservice economics': 3, 'civics_government esl': 4, 'music parentinvolvement': 2, 'environmentalscience foreignlanguages': 5, 'foreignlanguages other': 6, 'communityservice nutritioneducation': 3, 'esl socialsciences': 10, 'communityservice other': 4, 'communityservice music': 1, 'financialliteracy history_geography': 9, 'socialsciences teamsports': 2, 'communityservice health_lifescience': 7, 'civics_government visualarts': 6, 'health_lifescience music': 6, 'charactereducation warmth care_hunger': 4, 'extracurricular teamsports': 19, 'esl extracurricular': 2, 'mathematics teamsports': 4, 'performingarts socialsciences': 7, 'extracurricular nutritioneducation': 2, 'economics environmentalscience': 4, 'environmentalscience teamsports': 2, 'parentinvolvement performingarts': 3, 'charactereducation foreignlanguages': 5, 'appliedsciences nutritioneducation': 2, 'extracurricular health_lifescience': 1, 'visualarts warmth care_hunger': 1, 'financialliteracy socialsciences': 2, 'economics nutritioneducation': 1, 'appliedsciences teamsports': 6, 'charactereducation civics_government': 3, 'civics_government nutritioneducation': 1, 'parentinvolvement socialsciences': 4, 'appliedsciences economics': 2, 'teamsports visualarts': 2, 'college_careerprep gym_fitness': 2, 'literature_writing warmth care_hunger': 3, 'college_careerprep economics': 2, 'mathematics nutritioneducation': 3, 'esl gym_fitness': 3, 'parentinvolvement teamsports': 1, 'parentinvolvement warmth care_hunger': 1, 'economics specialneeds': 2, 'earlydevelopment foreignlanguages': 2, 'communityservice performingarts': 3, 'foreignlanguages socialsciences': 3, 'earlydevelopment history_geography': 1, 'economics other': 1, 'communityservice financialliteracy': 1, 'economics health_lifescience': 2, 'extracurricular parentinvolvement': 1, 'health_lifescience performingarts': 2, 'other warmth care_hunger': 1, 'appliedsciences financialliteracy': 2, 'gym_fitness parentinvolvement': 1, 'other socialsciences': 1, 'college_careerprep teamsports': 2, 'nutritioneducation socialsciences': 1, 'history_geography teamsports': 1, 'gym_fitness socialsciences': 1, 'economics music': 1, 'history_geography parentinvolvement': 1, 'financialliteracy performingarts': 1, 'civics_government health_wellness': 1}\n",
      "{'literature_writing mathematics': 0.8669046404895462, 'health_wellness specialneeds': 0.8793103448275862, 'other specialneeds': 0.8082901554404145, 'charactereducation literacy': 0.8839285714285714, 'college_careerprep foreignlanguages': 0.7857142857142857, 'health_wellness': 0.8784736623807549, 'literacy': 0.8832787907121707, 'literacy specialneeds': 0.8612823674475956, 'health_lifescience mathematics': 0.8076923076923077, 'literature_writing': 0.8563333333333333, 'literacy literature_writing': 0.8672354038922954, 'environmentalscience health_lifescience': 0.8090062111801242, 'music': 0.8936170212765957, 'appliedsciences environmentalscience': 0.7929984779299848, 'literacy mathematics': 0.8763087843833185, 'charactereducation': 0.8169642857142857, 'health_lifescience socialsciences': 0.9111111111111111, 'esl specialneeds': 0.8776978417266187, 'charactereducation earlydevelopment': 0.7547169811320755, 'literature_writing visualarts': 0.8359550561797753, 'environmentalscience literature_writing': 0.8465346534653465, 'music performingarts': 0.8888888888888888, 'environmentalscience mathematics': 0.8122676579925651, 'history_geography literacy': 0.9146005509641874, 'specialneeds': 0.8047836792120999, 'gym_fitness': 0.8320987654320988, 'esl literature_writing': 0.8174442190669371, 'literacy socialsciences': 0.9012345679012346, 'health_wellness mathematics': 0.8525641025641025, 'mathematics': 0.8081475364712359, 'visualarts': 0.820786142571619, 'history_geography': 0.8207282913165266, 'history_geography literature_writing': 0.8625, 'appliedsciences health_lifescience': 0.808, 'earlydevelopment literacy': 0.8583333333333333, 'gym_fitness health_wellness': 0.8708388814913449, 'earlydevelopment': 0.8113821138211382, 'environmentalscience literacy': 0.8903225806451613, 'literacy visualarts': 0.8432432432432433, 'appliedsciences extracurricular': 0.8762886597938144, 'gym_fitness mathematics': 0.7777777777777778, 'literature_writing specialneeds': 0.8381839348079162, 'literature_writing socialsciences': 0.8778280542986425, 'other': 0.8464223385689355, 'appliedsciences literature_writing': 0.8736462093862816, 'nutritioneducation': 0.788659793814433, 'appliedsciences': 0.8200734394124847, 'esl mathematics': 0.8486486486486486, 'charactereducation other': 0.75, 'foreignlanguages literacy': 0.8581560283687943, 'gym_fitness teamsports': 0.7653061224489796, 'mathematics specialneeds': 0.8320512820512821, 'earlydevelopment specialneeds': 0.8178368121442126, 'health_lifescience literature_writing': 0.8823529411764706, 'appliedsciences mathematics': 0.8299015219337511, 'environmentalscience': 0.8205128205128205, 'earlydevelopment other': 0.8557692307692307, 'esl literacy': 0.8637602179836512, 'financialliteracy mathematics': 0.9090909090909091, 'health_lifescience health_wellness': 0.868421052631579, 'warmth care_hunger': 0.9334085778781038, 'literature_writing parentinvolvement': 0.8913043478260869, 'music specialneeds': 0.9240506329113924, 'civics_government history_geography': 0.847953216374269, 'performingarts visualarts': 0.8, 'mathematics socialsciences': 0.8793103448275862, 'earlydevelopment health_wellness': 0.8617021276595744, 'appliedsciences literacy': 0.8249336870026526, 'appliedsciences college_careerprep': 0.8103448275862069, 'teamsports': 0.8072122052704577, 'health_lifescience parentinvolvement': 0.7777777777777778, 'appliedsciences specialneeds': 0.8717948717948718, 'college_careerprep literature_writing': 0.8597285067873304, 'civics_government literacy': 0.8842105263157894, 'history_geography socialsciences': 0.8490566037735849, 'parentinvolvement visualarts': 0.92, 'specialneeds visualarts': 0.8222222222222222, 'charactereducation health_wellness': 0.8055555555555556, 'environmentalscience specialneeds': 0.8631578947368421, 'college_careerprep literacy': 0.9487179487179487, 'health_lifescience visualarts': 0.8333333333333334, 'literature_writing other': 0.7840909090909091, 'literacy performingarts': 0.8620689655172413, 'mathematics visualarts': 0.8144654088050315, 'nutritioneducation other': 1.0, 'college_careerprep other': 0.8095238095238095, 'literature_writing performingarts': 0.8571428571428571, 'health_wellness literature_writing': 0.8712871287128713, 'health_lifescience literacy': 0.8930232558139535, 'appliedsciences music': 0.8846153846153846, 'mathematics performingarts': 0.8888888888888888, 'gym_fitness specialneeds': 0.8598130841121495, 'environmentalscience socialsciences': 0.782608695652174, 'communityservice literacy': 0.8, 'economics': 0.8846153846153846, 'extracurricular performingarts': 0.9375, 'earlydevelopment visualarts': 0.788135593220339, 'communityservice environmentalscience': 0.8125, 'appliedsciences civics_government': 1.0, 'mathematics music': 0.9148936170212766, 'history_geography visualarts': 0.825, 'extracurricular visualarts': 0.7636363636363637, 'extracurricular literacy': 0.8214285714285714, 'health_lifescience': 0.8482142857142857, 'environmentalscience nutritioneducation': 0.6666666666666666, 'charactereducation college_careerprep': 0.8021978021978022, 'earlydevelopment warmth care_hunger': 1.0, 'esl earlydevelopment': 0.9574468085106383, 'college_careerprep': 0.8109090909090909, 'appliedsciences visualarts': 0.8086734693877551, 'earlydevelopment literature_writing': 0.8291139240506329, 'charactereducation visualarts': 0.8043478260869565, 'financialliteracy': 0.8035714285714286, 'health_wellness literacy': 0.870253164556962, 'economics financialliteracy': 0.8571428571428571, 'financialliteracy literacy': 0.8571428571428571, 'performingarts': 0.8768115942028986, 'environmentalscience history_geography': 0.8736842105263158, 'appliedsciences performingarts': 0.875, 'appliedsciences earlydevelopment': 0.8378378378378378, 'college_careerprep specialneeds': 0.7894736842105263, 'college_careerprep environmentalscience': 0.7368421052631579, 'financialliteracy parentinvolvement': 1.0, 'esl foreignlanguages': 0.8108108108108109, 'civics_government literature_writing': 0.9107142857142857, 'esl other': 0.8461538461538461, 'foreignlanguages literature_writing': 0.7719298245614035, 'charactereducation specialneeds': 0.7727272727272727, 'environmentalscience visualarts': 0.8082191780821918, 'earlydevelopment mathematics': 0.7897435897435897, 'history_geography other': 0.8888888888888888, 'health_wellness socialsciences': 0.9166666666666666, 'foreignlanguages': 0.811965811965812, 'history_geography specialneeds': 0.8607594936708861, 'earlydevelopment performingarts': 0.9230769230769231, 'esl': 0.8299319727891157, 'mathematics parentinvolvement': 0.8235294117647058, 'literacy music': 0.875, 'environmentalscience other': 0.875, 'charactereducation extracurricular': 0.7297297297297297, 'college_careerprep visualarts': 0.8953488372093024, 'health_wellness nutritioneducation': 0.8215613382899628, 'parentinvolvement specialneeds': 0.8260869565217391, 'college_careerprep parentinvolvement': 0.7857142857142857, 'literacy parentinvolvement': 0.8804347826086957, 'health_wellness music': 0.8636363636363636, 'charactereducation mathematics': 0.7761194029850746, 'health_wellness teamsports': 0.7907949790794979, 'college_careerprep mathematics': 0.8423645320197044, 'civics_government financialliteracy': 1.0, 'specialneeds teamsports': 0.8, 'health_wellness other': 0.8620689655172413, 'esl visualarts': 0.7692307692307693, 'earlydevelopment health_lifescience': 0.72, 'nutritioneducation specialneeds': 0.8636363636363636, 'college_careerprep esl': 0.75, 'literacy other': 0.8691588785046729, 'communityservice': 0.75, 'socialsciences visualarts': 0.8125, 'appliedsciences socialsciences': 0.8372093023255814, 'foreignlanguages mathematics': 0.8148148148148148, 'extracurricular': 0.8089887640449438, 'appliedsciences foreignlanguages': 0.8, 'esl environmentalscience': 0.8148148148148148, 'health_wellness performingarts': 1.0, 'specialneeds warmth care_hunger': 0.8333333333333334, 'civics_government': 0.7818181818181819, 'socialsciences': 0.8257575757575758, 'other visualarts': 0.775, 'history_geography music': 0.875, 'civics_government parentinvolvement': 1.0, 'communityservice specialneeds': 0.8125, 'charactereducation financialliteracy': 0.8, 'other performingarts': 0.3333333333333333, 'mathematics warmth care_hunger': 1.0, 'earlydevelopment environmentalscience': 0.75, 'appliedsciences charactereducation': 0.7931034482758621, 'music other': 0.75, 'mathematics other': 0.8253968253968254, 'financialliteracy specialneeds': 0.8214285714285714, 'esl financialliteracy': 0.6, 'civics_government specialneeds': 0.8333333333333334, 'health_wellness visualarts': 0.8076923076923077, 'esl history_geography': 0.84, 'foreignlanguages health_lifescience': 1.0, 'history_geography mathematics': 0.8933333333333333, 'civics_government socialsciences': 0.8958333333333334, 'socialsciences specialneeds': 0.8571428571428571, 'health_lifescience specialneeds': 0.7865168539325843, 'college_careerprep history_geography': 0.8333333333333334, 'charactereducation music': 0.8235294117647058, 'environmentalscience performingarts': 0.8, 'earlydevelopment nutritioneducation': 0.8571428571428571, 'earlydevelopment gym_fitness': 0.8148148148148148, 'environmentalscience health_wellness': 0.7333333333333333, 'charactereducation health_lifescience': 0.8, 'charactereducation literature_writing': 0.8403361344537815, 'charactereducation communityservice': 0.8478260869565217, 'appliedsciences gym_fitness': 0.6666666666666666, 'extracurricular gym_fitness': 0.8, 'communityservice health_wellness': 0.8, 'extracurricular literature_writing': 0.9523809523809523, 'college_careerprep nutritioneducation': 0.5, 'literature_writing music': 0.875, 'health_lifescience nutritioneducation': 0.59375, 'civics_government performingarts': 0.6666666666666666, 'civics_government economics': 0.7333333333333333, 'foreignlanguages gym_fitness': 1.0, 'esl music': 0.9285714285714286, 'esl nutritioneducation': 1.0, 'charactereducation gym_fitness': 0.3333333333333333, 'nutritioneducation visualarts': 0.8, 'appliedsciences parentinvolvement': 0.8666666666666667, 'economics mathematics': 0.9333333333333333, 'esl health_wellness': 0.8, 'extracurricular other': 0.7692307692307693, 'civics_government environmentalscience': 0.6875, 'college_careerprep extracurricular': 0.9333333333333333, 'extracurricular mathematics': 0.8571428571428571, 'college_careerprep performingarts': 0.625, 'communityservice earlydevelopment': 0.75, 'financialliteracy literature_writing': 1.0, 'communityservice literature_writing': 0.8095238095238095, 'literacy teamsports': 0.7142857142857143, 'earlydevelopment music': 0.75, 'college_careerprep health_wellness': 0.8, 'economics literature_writing': 1.0, 'economics visualarts': 1.0, 'environmentalscience music': 0.8333333333333334, 'appliedsciences history_geography': 0.7619047619047619, 'extracurricular music': 0.8421052631578947, 'gym_fitness nutritioneducation': 0.9230769230769231, 'music visualarts': 0.8, 'environmentalscience gym_fitness': 0.0, 'college_careerprep financialliteracy': 0.6363636363636364, 'literature_writing teamsports': 0.8333333333333334, 'charactereducation esl': 0.7857142857142857, 'college_careerprep music': 0.7142857142857143, 'earlydevelopment parentinvolvement': 0.88, 'civics_government college_careerprep': 0.6666666666666666, 'gym_fitness performingarts': 0.6, 'health_lifescience teamsports': 0.7142857142857143, 'performingarts teamsports': 0.6666666666666666, 'charactereducation history_geography': 1.0, 'appliedsciences other': 0.8571428571428571, 'gym_fitness literacy': 0.7142857142857143, 'charactereducation environmentalscience': 0.8, 'performingarts specialneeds': 0.6, 'college_careerprep earlydevelopment': 0.8235294117647058, 'charactereducation performingarts': 0.5714285714285714, 'extracurricular specialneeds': 0.9166666666666666, 'appliedsciences esl': 0.8653846153846154, 'civics_government mathematics': 0.25, 'other parentinvolvement': 1.0, 'earlydevelopment teamsports': 0.75, 'foreignlanguages performingarts': 0.75, 'foreignlanguages specialneeds': 0.8181818181818182, 'health_lifescience history_geography': 0.8947368421052632, 'communityservice mathematics': 0.7777777777777778, 'foreignlanguages music': 0.7142857142857143, 'communityservice socialsciences': 0.6, 'esl parentinvolvement': 0.625, 'economics history_geography': 0.8421052631578947, 'appliedsciences health_wellness': 0.9285714285714286, 'gym_fitness music': 0.9230769230769231, 'history_geography performingarts': 0.6923076923076923, 'music socialsciences': 0.8, 'communityservice history_geography': 0.75, 'charactereducation socialsciences': 0.7857142857142857, 'foreignlanguages visualarts': 0.42857142857142855, 'esl health_lifescience': 0.8636363636363636, 'communityservice visualarts': 0.7222222222222222, 'extracurricular socialsciences': 1.0, 'appliedsciences warmth care_hunger': 0.5, 'college_careerprep health_lifescience': 0.90625, 'parentinvolvement': 0.78125, 'charactereducation teamsports': 0.65, 'music teamsports': 0.8, 'health_wellness warmth care_hunger': 0.9090909090909091, 'charactereducation parentinvolvement': 0.7894736842105263, 'gym_fitness other': 1.0, 'civics_government communityservice': 0.8571428571428571, 'environmentalscience financialliteracy': 1.0, 'gym_fitness health_lifescience': 0.8, 'communityservice esl': 0.6666666666666666, 'health_wellness parentinvolvement': 0.5, 'earlydevelopment extracurricular': 1.0, 'college_careerprep communityservice': 0.7368421052631579, 'foreignlanguages history_geography': 0.7692307692307693, 'nutritioneducation teamsports': 0.8181818181818182, 'communityservice parentinvolvement': 1.0, 'gym_fitness literature_writing': 0.8, 'communityservice extracurricular': 0.8181818181818182, 'civics_government health_lifescience': 0.7272727272727273, 'civics_government extracurricular': 0.5, 'environmentalscience parentinvolvement': 0.8181818181818182, 'financialliteracy health_lifescience': 0.5, 'gym_fitness history_geography': 1.0, 'extracurricular history_geography': 1.0, 'nutritioneducation warmth care_hunger': 1.0, 'health_lifescience warmth care_hunger': 0.5, 'environmentalscience extracurricular': 0.6666666666666666, 'environmentalscience warmth care_hunger': 1.0, 'charactereducation economics': 1.0, 'health_wellness history_geography': 0.8181818181818182, 'college_careerprep socialsciences': 0.9545454545454546, 'earlydevelopment financialliteracy': 0.8, 'extracurricular financialliteracy': 1.0, 'earlydevelopment socialsciences': 0.875, 'other teamsports': 1.0, 'economics socialsciences': 0.7272727272727273, 'health_lifescience other': 0.7, 'gym_fitness visualarts': 0.6666666666666666, 'appliedsciences communityservice': 0.9, 'esl performingarts': 0.8888888888888888, 'extracurricular health_wellness': 1.0, 'literacy nutritioneducation': 0.6, 'literacy warmth care_hunger': 0.75, 'charactereducation nutritioneducation': 1.0, 'financialliteracy visualarts': 0.6666666666666666, 'communityservice gym_fitness': 1.0, 'foreignlanguages health_wellness': 0.7142857142857143, 'economics literacy': 0.9, 'communityservice economics': 0.6666666666666666, 'civics_government esl': 1.0, 'music parentinvolvement': 0.5, 'environmentalscience foreignlanguages': 0.8, 'foreignlanguages other': 0.8333333333333334, 'communityservice nutritioneducation': 0.3333333333333333, 'esl socialsciences': 0.9, 'communityservice other': 0.5, 'communityservice music': 1.0, 'financialliteracy history_geography': 0.8888888888888888, 'socialsciences teamsports': 1.0, 'communityservice health_lifescience': 0.7142857142857143, 'civics_government visualarts': 0.6666666666666666, 'health_lifescience music': 1.0, 'charactereducation warmth care_hunger': 0.5, 'extracurricular teamsports': 0.7894736842105263, 'esl extracurricular': 1.0, 'mathematics teamsports': 0.75, 'performingarts socialsciences': 0.7142857142857143, 'extracurricular nutritioneducation': 0.5, 'economics environmentalscience': 1.0, 'environmentalscience teamsports': 1.0, 'parentinvolvement performingarts': 1.0, 'charactereducation foreignlanguages': 0.8, 'appliedsciences nutritioneducation': 0.5, 'extracurricular health_lifescience': 1.0, 'visualarts warmth care_hunger': 1.0, 'financialliteracy socialsciences': 1.0, 'economics nutritioneducation': 1.0, 'appliedsciences teamsports': 0.8333333333333334, 'charactereducation civics_government': 1.0, 'civics_government nutritioneducation': 1.0, 'parentinvolvement socialsciences': 1.0, 'appliedsciences economics': 0.5, 'teamsports visualarts': 0.5, 'college_careerprep gym_fitness': 0.5, 'literature_writing warmth care_hunger': 1.0, 'college_careerprep economics': 1.0, 'mathematics nutritioneducation': 0.3333333333333333, 'esl gym_fitness': 0.6666666666666666, 'parentinvolvement teamsports': 1.0, 'parentinvolvement warmth care_hunger': 1.0, 'economics specialneeds': 0.0, 'earlydevelopment foreignlanguages': 1.0, 'communityservice performingarts': 1.0, 'foreignlanguages socialsciences': 0.6666666666666666, 'earlydevelopment history_geography': 1.0, 'economics other': 1.0, 'communityservice financialliteracy': 1.0, 'economics health_lifescience': 1.0, 'extracurricular parentinvolvement': 1.0, 'health_lifescience performingarts': 0.5, 'other warmth care_hunger': 1.0, 'appliedsciences financialliteracy': 0.5, 'gym_fitness parentinvolvement': 1.0, 'other socialsciences': 1.0, 'college_careerprep teamsports': 1.0, 'nutritioneducation socialsciences': 1.0, 'history_geography teamsports': 1.0, 'gym_fitness socialsciences': 1.0, 'economics music': 1.0, 'history_geography parentinvolvement': 1.0, 'financialliteracy performingarts': 1.0, 'civics_government health_wellness': 1.0}\n",
      "{'literature_writing mathematics': 0.13309535951045384, 'health_wellness specialneeds': 0.1206896551724138, 'other specialneeds': 0.19170984455958548, 'charactereducation literacy': 0.11607142857142858, 'college_careerprep foreignlanguages': 0.21428571428571427, 'health_wellness': 0.12152633761924513, 'literacy': 0.1167212092878292, 'literacy specialneeds': 0.13871763255240444, 'health_lifescience mathematics': 0.19230769230769232, 'literature_writing': 0.14366666666666666, 'literacy literature_writing': 0.1327645961077046, 'environmentalscience health_lifescience': 0.19099378881987578, 'music': 0.10638297872340426, 'appliedsciences environmentalscience': 0.2070015220700152, 'literacy mathematics': 0.12369121561668145, 'charactereducation': 0.18303571428571427, 'health_lifescience socialsciences': 0.08888888888888889, 'esl specialneeds': 0.1223021582733813, 'charactereducation earlydevelopment': 0.24528301886792453, 'literature_writing visualarts': 0.16404494382022472, 'environmentalscience literature_writing': 0.15346534653465346, 'music performingarts': 0.1111111111111111, 'environmentalscience mathematics': 0.18773234200743494, 'history_geography literacy': 0.08539944903581267, 'specialneeds': 0.1952163207879001, 'gym_fitness': 0.16790123456790124, 'esl literature_writing': 0.18255578093306288, 'literacy socialsciences': 0.09876543209876543, 'health_wellness mathematics': 0.14743589743589744, 'mathematics': 0.19185246352876412, 'visualarts': 0.17921385742838108, 'history_geography': 0.1792717086834734, 'history_geography literature_writing': 0.1375, 'appliedsciences health_lifescience': 0.192, 'earlydevelopment literacy': 0.14166666666666666, 'gym_fitness health_wellness': 0.12916111850865514, 'earlydevelopment': 0.1886178861788618, 'environmentalscience literacy': 0.10967741935483871, 'literacy visualarts': 0.15675675675675677, 'appliedsciences extracurricular': 0.12371134020618557, 'gym_fitness mathematics': 0.2222222222222222, 'literature_writing specialneeds': 0.16181606519208383, 'literature_writing socialsciences': 0.12217194570135746, 'other': 0.15357766143106458, 'appliedsciences literature_writing': 0.1263537906137184, 'nutritioneducation': 0.211340206185567, 'appliedsciences': 0.1799265605875153, 'esl mathematics': 0.15135135135135136, 'charactereducation other': 0.25, 'foreignlanguages literacy': 0.14184397163120568, 'gym_fitness teamsports': 0.23469387755102042, 'mathematics specialneeds': 0.16794871794871793, 'earlydevelopment specialneeds': 0.18216318785578747, 'health_lifescience literature_writing': 0.11764705882352941, 'appliedsciences mathematics': 0.1700984780662489, 'environmentalscience': 0.1794871794871795, 'earlydevelopment other': 0.14423076923076922, 'esl literacy': 0.1362397820163488, 'financialliteracy mathematics': 0.09090909090909091, 'health_lifescience health_wellness': 0.13157894736842105, 'warmth care_hunger': 0.06659142212189616, 'literature_writing parentinvolvement': 0.10869565217391304, 'music specialneeds': 0.0759493670886076, 'civics_government history_geography': 0.15204678362573099, 'performingarts visualarts': 0.2, 'mathematics socialsciences': 0.1206896551724138, 'earlydevelopment health_wellness': 0.13829787234042554, 'appliedsciences literacy': 0.17506631299734748, 'appliedsciences college_careerprep': 0.1896551724137931, 'teamsports': 0.1927877947295423, 'health_lifescience parentinvolvement': 0.2222222222222222, 'appliedsciences specialneeds': 0.1282051282051282, 'college_careerprep literature_writing': 0.14027149321266968, 'civics_government literacy': 0.11578947368421053, 'history_geography socialsciences': 0.1509433962264151, 'parentinvolvement visualarts': 0.08, 'specialneeds visualarts': 0.17777777777777778, 'charactereducation health_wellness': 0.19444444444444445, 'environmentalscience specialneeds': 0.1368421052631579, 'college_careerprep literacy': 0.05128205128205128, 'health_lifescience visualarts': 0.16666666666666666, 'literature_writing other': 0.2159090909090909, 'literacy performingarts': 0.13793103448275862, 'mathematics visualarts': 0.18553459119496854, 'nutritioneducation other': 0.0, 'college_careerprep other': 0.19047619047619047, 'literature_writing performingarts': 0.14285714285714285, 'health_wellness literature_writing': 0.12871287128712872, 'health_lifescience literacy': 0.10697674418604651, 'appliedsciences music': 0.11538461538461539, 'mathematics performingarts': 0.1111111111111111, 'gym_fitness specialneeds': 0.14018691588785046, 'environmentalscience socialsciences': 0.21739130434782608, 'communityservice literacy': 0.2, 'economics': 0.11538461538461539, 'extracurricular performingarts': 0.0625, 'earlydevelopment visualarts': 0.211864406779661, 'communityservice environmentalscience': 0.1875, 'appliedsciences civics_government': 0.0, 'mathematics music': 0.0851063829787234, 'history_geography visualarts': 0.175, 'extracurricular visualarts': 0.23636363636363636, 'extracurricular literacy': 0.17857142857142858, 'health_lifescience': 0.15178571428571427, 'environmentalscience nutritioneducation': 0.3333333333333333, 'charactereducation college_careerprep': 0.1978021978021978, 'earlydevelopment warmth care_hunger': 0.0, 'esl earlydevelopment': 0.0425531914893617, 'college_careerprep': 0.1890909090909091, 'appliedsciences visualarts': 0.1913265306122449, 'earlydevelopment literature_writing': 0.17088607594936708, 'charactereducation visualarts': 0.1956521739130435, 'financialliteracy': 0.19642857142857142, 'health_wellness literacy': 0.12974683544303797, 'economics financialliteracy': 0.14285714285714285, 'financialliteracy literacy': 0.14285714285714285, 'performingarts': 0.12318840579710146, 'environmentalscience history_geography': 0.12631578947368421, 'appliedsciences performingarts': 0.125, 'appliedsciences earlydevelopment': 0.16216216216216217, 'college_careerprep specialneeds': 0.21052631578947367, 'college_careerprep environmentalscience': 0.2631578947368421, 'financialliteracy parentinvolvement': 0.0, 'esl foreignlanguages': 0.1891891891891892, 'civics_government literature_writing': 0.08928571428571429, 'esl other': 0.15384615384615385, 'foreignlanguages literature_writing': 0.22807017543859648, 'charactereducation specialneeds': 0.22727272727272727, 'environmentalscience visualarts': 0.1917808219178082, 'earlydevelopment mathematics': 0.21025641025641026, 'history_geography other': 0.1111111111111111, 'health_wellness socialsciences': 0.08333333333333333, 'foreignlanguages': 0.18803418803418803, 'history_geography specialneeds': 0.13924050632911392, 'earlydevelopment performingarts': 0.07692307692307693, 'esl': 0.17006802721088435, 'mathematics parentinvolvement': 0.17647058823529413, 'literacy music': 0.125, 'environmentalscience other': 0.125, 'charactereducation extracurricular': 0.2702702702702703, 'college_careerprep visualarts': 0.10465116279069768, 'health_wellness nutritioneducation': 0.17843866171003717, 'parentinvolvement specialneeds': 0.17391304347826086, 'college_careerprep parentinvolvement': 0.21428571428571427, 'literacy parentinvolvement': 0.11956521739130435, 'health_wellness music': 0.13636363636363635, 'charactereducation mathematics': 0.22388059701492538, 'health_wellness teamsports': 0.20920502092050208, 'college_careerprep mathematics': 0.15763546798029557, 'civics_government financialliteracy': 0.0, 'specialneeds teamsports': 0.2, 'health_wellness other': 0.13793103448275862, 'esl visualarts': 0.23076923076923078, 'earlydevelopment health_lifescience': 0.28, 'nutritioneducation specialneeds': 0.13636363636363635, 'college_careerprep esl': 0.25, 'literacy other': 0.1308411214953271, 'communityservice': 0.25, 'socialsciences visualarts': 0.1875, 'appliedsciences socialsciences': 0.16279069767441862, 'foreignlanguages mathematics': 0.18518518518518517, 'extracurricular': 0.19101123595505617, 'appliedsciences foreignlanguages': 0.2, 'esl environmentalscience': 0.18518518518518517, 'health_wellness performingarts': 0.0, 'specialneeds warmth care_hunger': 0.16666666666666666, 'civics_government': 0.21818181818181817, 'socialsciences': 0.17424242424242425, 'other visualarts': 0.225, 'history_geography music': 0.125, 'civics_government parentinvolvement': 0.0, 'communityservice specialneeds': 0.1875, 'charactereducation financialliteracy': 0.2, 'other performingarts': 0.6666666666666666, 'mathematics warmth care_hunger': 0.0, 'earlydevelopment environmentalscience': 0.25, 'appliedsciences charactereducation': 0.20689655172413793, 'music other': 0.25, 'mathematics other': 0.1746031746031746, 'financialliteracy specialneeds': 0.17857142857142858, 'esl financialliteracy': 0.4, 'civics_government specialneeds': 0.16666666666666666, 'health_wellness visualarts': 0.19230769230769232, 'esl history_geography': 0.16, 'foreignlanguages health_lifescience': 0.0, 'history_geography mathematics': 0.10666666666666667, 'civics_government socialsciences': 0.10416666666666667, 'socialsciences specialneeds': 0.14285714285714285, 'health_lifescience specialneeds': 0.21348314606741572, 'college_careerprep history_geography': 0.16666666666666666, 'charactereducation music': 0.17647058823529413, 'environmentalscience performingarts': 0.2, 'earlydevelopment nutritioneducation': 0.14285714285714285, 'earlydevelopment gym_fitness': 0.18518518518518517, 'environmentalscience health_wellness': 0.26666666666666666, 'charactereducation health_lifescience': 0.2, 'charactereducation literature_writing': 0.15966386554621848, 'charactereducation communityservice': 0.15217391304347827, 'appliedsciences gym_fitness': 0.3333333333333333, 'extracurricular gym_fitness': 0.2, 'communityservice health_wellness': 0.2, 'extracurricular literature_writing': 0.047619047619047616, 'college_careerprep nutritioneducation': 0.5, 'literature_writing music': 0.125, 'health_lifescience nutritioneducation': 0.40625, 'civics_government performingarts': 0.3333333333333333, 'civics_government economics': 0.26666666666666666, 'foreignlanguages gym_fitness': 0.0, 'esl music': 0.07142857142857142, 'esl nutritioneducation': 0.0, 'charactereducation gym_fitness': 0.6666666666666666, 'nutritioneducation visualarts': 0.2, 'appliedsciences parentinvolvement': 0.13333333333333333, 'economics mathematics': 0.06666666666666667, 'esl health_wellness': 0.2, 'extracurricular other': 0.23076923076923078, 'civics_government environmentalscience': 0.3125, 'college_careerprep extracurricular': 0.06666666666666667, 'extracurricular mathematics': 0.14285714285714285, 'college_careerprep performingarts': 0.375, 'communityservice earlydevelopment': 0.25, 'financialliteracy literature_writing': 0.0, 'communityservice literature_writing': 0.19047619047619047, 'literacy teamsports': 0.2857142857142857, 'earlydevelopment music': 0.25, 'college_careerprep health_wellness': 0.2, 'economics literature_writing': 0.0, 'economics visualarts': 0.0, 'environmentalscience music': 0.16666666666666666, 'appliedsciences history_geography': 0.23809523809523808, 'extracurricular music': 0.15789473684210525, 'gym_fitness nutritioneducation': 0.07692307692307693, 'music visualarts': 0.2, 'environmentalscience gym_fitness': 1.0, 'college_careerprep financialliteracy': 0.36363636363636365, 'literature_writing teamsports': 0.16666666666666666, 'charactereducation esl': 0.21428571428571427, 'college_careerprep music': 0.2857142857142857, 'earlydevelopment parentinvolvement': 0.12, 'civics_government college_careerprep': 0.3333333333333333, 'gym_fitness performingarts': 0.4, 'health_lifescience teamsports': 0.2857142857142857, 'performingarts teamsports': 0.3333333333333333, 'charactereducation history_geography': 0.0, 'appliedsciences other': 0.14285714285714285, 'gym_fitness literacy': 0.2857142857142857, 'charactereducation environmentalscience': 0.2, 'performingarts specialneeds': 0.4, 'college_careerprep earlydevelopment': 0.17647058823529413, 'charactereducation performingarts': 0.42857142857142855, 'extracurricular specialneeds': 0.08333333333333333, 'appliedsciences esl': 0.1346153846153846, 'civics_government mathematics': 0.75, 'other parentinvolvement': 0.0, 'earlydevelopment teamsports': 0.25, 'foreignlanguages performingarts': 0.25, 'foreignlanguages specialneeds': 0.18181818181818182, 'health_lifescience history_geography': 0.10526315789473684, 'communityservice mathematics': 0.2222222222222222, 'foreignlanguages music': 0.2857142857142857, 'communityservice socialsciences': 0.4, 'esl parentinvolvement': 0.375, 'economics history_geography': 0.15789473684210525, 'appliedsciences health_wellness': 0.07142857142857142, 'gym_fitness music': 0.07692307692307693, 'history_geography performingarts': 0.3076923076923077, 'music socialsciences': 0.2, 'communityservice history_geography': 0.25, 'charactereducation socialsciences': 0.21428571428571427, 'foreignlanguages visualarts': 0.5714285714285714, 'esl health_lifescience': 0.13636363636363635, 'communityservice visualarts': 0.2777777777777778, 'extracurricular socialsciences': 0.0, 'appliedsciences warmth care_hunger': 0.5, 'college_careerprep health_lifescience': 0.09375, 'parentinvolvement': 0.21875, 'charactereducation teamsports': 0.35, 'music teamsports': 0.2, 'health_wellness warmth care_hunger': 0.09090909090909091, 'charactereducation parentinvolvement': 0.21052631578947367, 'gym_fitness other': 0.0, 'civics_government communityservice': 0.14285714285714285, 'environmentalscience financialliteracy': 0.0, 'gym_fitness health_lifescience': 0.2, 'communityservice esl': 0.3333333333333333, 'health_wellness parentinvolvement': 0.5, 'earlydevelopment extracurricular': 0.0, 'college_careerprep communityservice': 0.2631578947368421, 'foreignlanguages history_geography': 0.23076923076923078, 'nutritioneducation teamsports': 0.18181818181818182, 'communityservice parentinvolvement': 0.0, 'gym_fitness literature_writing': 0.2, 'communityservice extracurricular': 0.18181818181818182, 'civics_government health_lifescience': 0.2727272727272727, 'civics_government extracurricular': 0.5, 'environmentalscience parentinvolvement': 0.18181818181818182, 'financialliteracy health_lifescience': 0.5, 'gym_fitness history_geography': 0.0, 'extracurricular history_geography': 0.0, 'nutritioneducation warmth care_hunger': 0.0, 'health_lifescience warmth care_hunger': 0.5, 'environmentalscience extracurricular': 0.3333333333333333, 'environmentalscience warmth care_hunger': 0.0, 'charactereducation economics': 0.0, 'health_wellness history_geography': 0.18181818181818182, 'college_careerprep socialsciences': 0.045454545454545456, 'earlydevelopment financialliteracy': 0.2, 'extracurricular financialliteracy': 0.0, 'earlydevelopment socialsciences': 0.125, 'other teamsports': 0.0, 'economics socialsciences': 0.2727272727272727, 'health_lifescience other': 0.3, 'gym_fitness visualarts': 0.3333333333333333, 'appliedsciences communityservice': 0.1, 'esl performingarts': 0.1111111111111111, 'extracurricular health_wellness': 0.0, 'literacy nutritioneducation': 0.4, 'literacy warmth care_hunger': 0.25, 'charactereducation nutritioneducation': 0.0, 'financialliteracy visualarts': 0.3333333333333333, 'communityservice gym_fitness': 0.0, 'foreignlanguages health_wellness': 0.2857142857142857, 'economics literacy': 0.1, 'communityservice economics': 0.3333333333333333, 'civics_government esl': 0.0, 'music parentinvolvement': 0.5, 'environmentalscience foreignlanguages': 0.2, 'foreignlanguages other': 0.16666666666666666, 'communityservice nutritioneducation': 0.6666666666666666, 'esl socialsciences': 0.1, 'communityservice other': 0.5, 'communityservice music': 0.0, 'financialliteracy history_geography': 0.1111111111111111, 'socialsciences teamsports': 0.0, 'communityservice health_lifescience': 0.2857142857142857, 'civics_government visualarts': 0.3333333333333333, 'health_lifescience music': 0.0, 'charactereducation warmth care_hunger': 0.5, 'extracurricular teamsports': 0.21052631578947367, 'esl extracurricular': 0.0, 'mathematics teamsports': 0.25, 'performingarts socialsciences': 0.2857142857142857, 'extracurricular nutritioneducation': 0.5, 'economics environmentalscience': 0.0, 'environmentalscience teamsports': 0.0, 'parentinvolvement performingarts': 0.0, 'charactereducation foreignlanguages': 0.2, 'appliedsciences nutritioneducation': 0.5, 'extracurricular health_lifescience': 0.0, 'visualarts warmth care_hunger': 0.0, 'financialliteracy socialsciences': 0.0, 'economics nutritioneducation': 0.0, 'appliedsciences teamsports': 0.16666666666666666, 'charactereducation civics_government': 0.0, 'civics_government nutritioneducation': 0.0, 'parentinvolvement socialsciences': 0.0, 'appliedsciences economics': 0.5, 'teamsports visualarts': 0.5, 'college_careerprep gym_fitness': 0.5, 'literature_writing warmth care_hunger': 0.0, 'college_careerprep economics': 0.0, 'mathematics nutritioneducation': 0.6666666666666666, 'esl gym_fitness': 0.3333333333333333, 'parentinvolvement teamsports': 0.0, 'parentinvolvement warmth care_hunger': 0.0, 'economics specialneeds': 1.0, 'earlydevelopment foreignlanguages': 0.0, 'communityservice performingarts': 0.0, 'foreignlanguages socialsciences': 0.3333333333333333, 'earlydevelopment history_geography': 0.0, 'economics other': 0.0, 'communityservice financialliteracy': 0.0, 'economics health_lifescience': 0.0, 'extracurricular parentinvolvement': 0.0, 'health_lifescience performingarts': 0.5, 'other warmth care_hunger': 0.0, 'appliedsciences financialliteracy': 0.5, 'gym_fitness parentinvolvement': 0.0, 'other socialsciences': 0.0, 'college_careerprep teamsports': 0.0, 'nutritioneducation socialsciences': 0.0, 'history_geography teamsports': 0.0, 'gym_fitness socialsciences': 0.0, 'economics music': 0.0, 'history_geography parentinvolvement': 0.0, 'financialliteracy performingarts': 0.0, 'civics_government health_wellness': 0.0}\n"
     ]
    }
   ],
   "source": [
    "clean_sub_categories_positive={}\n",
    "clean_sub_categories_negative={}\n",
    "clean_sub_categories_total={}\n",
    "\n",
    "for prefix in X_train_positive['clean_subcategories']:\n",
    "  if prefix in clean_sub_categories_positive:\n",
    "    clean_sub_categories_positive[prefix]+=1\n",
    "  else:\n",
    "    clean_sub_categories_positive[prefix]=1\n",
    "\n",
    "for prefix in X_train_negative['clean_subcategories']:\n",
    "  if prefix in clean_sub_categories_negative:\n",
    "    clean_sub_categories_negative[prefix]+=1\n",
    "  else:\n",
    "    clean_sub_categories_negative[prefix]=1\n",
    "\n",
    "for prefix in X_train['clean_subcategories']:\n",
    "  if prefix in clean_sub_categories_total:\n",
    "    clean_sub_categories_total[prefix]+=1\n",
    "  else:\n",
    "    clean_sub_categories_total[prefix]=1\n",
    "  if prefix not in clean_sub_categories_positive:\n",
    "    clean_sub_categories_positive[prefix]=0\n",
    "  if prefix not in clean_sub_categories_negative:\n",
    "    clean_sub_categories_negative[prefix]=0\n",
    "\n",
    "print(clean_sub_categories_positive)\n",
    "print(clean_sub_categories_negative)\n",
    "print(clean_sub_categories_total)\n",
    "\n",
    "prob_clean_sub_categories_pos={}\n",
    "prob_clean_sub_categories_neg={}\n",
    "\n",
    "for prefix in clean_sub_categories_total.keys():\n",
    "  prob_clean_sub_categories_pos[prefix]=clean_sub_categories_positive[prefix]/clean_sub_categories_total[prefix]\n",
    "  prob_clean_sub_categories_neg[prefix]=clean_sub_categories_negative[prefix]/clean_sub_categories_total[prefix]\n",
    "\n",
    "print(prob_clean_sub_categories_pos)\n",
    "print(prob_clean_sub_categories_neg)"
   ]
  },
  {
   "cell_type": "code",
   "execution_count": 118,
   "metadata": {
    "id": "QcOTQfy5DGkg"
   },
   "outputs": [],
   "source": [
    "clean_sub_categories_1_train=[]\n",
    "clean_sub_categories_0_train=[]\n",
    "\n",
    "for cat in X_train['clean_subcategories']:\n",
    "  clean_sub_categories_1_train+=prob_clean_sub_categories_pos[prefix],\n",
    "  clean_sub_categories_0_train+=prob_clean_sub_categories_neg[prefix],\n",
    "\n",
    "clean_sub_categories_1_test=[]\n",
    "clean_sub_categories_0_test=[]\n",
    "\n",
    "for prefix in X_test['clean_subcategories']:\n",
    "  if prefix in prob_clean_sub_categories_pos:\n",
    "    clean_sub_categories_1_test+=prob_clean_sub_categories_pos[prefix],\n",
    "  else:\n",
    "    clean_sub_categories_1_test+=0.5,\n",
    "  if prefix in prob_clean_sub_categories_neg:\n",
    "    clean_sub_categories_0_test+=prob_clean_sub_categories_neg[prefix],\n",
    "  else:\n",
    "    clean_sub_categories_0_test+=0.5,\n",
    "\n",
    "X_train['clean_subcategories_1']=clean_sub_categories_1_train\n",
    "X_train['clean_subcategories_0']=clean_sub_categories_0_train\n",
    "X_test['clean_subcategories_1']=clean_sub_categories_1_test\n",
    "X_test['clean_subcategories_0']=clean_sub_categories_0_test"
   ]
  },
  {
   "cell_type": "code",
   "execution_count": 119,
   "metadata": {
    "colab": {
     "base_uri": "https://localhost:8080/",
     "height": 287
    },
    "id": "UMFMouj8DhGu",
    "outputId": "bc9d622c-a9fe-4885-8003-80eb506ac81d"
   },
   "outputs": [
    {
     "data": {
      "text/html": [
       "<div>\n",
       "<style scoped>\n",
       "    .dataframe tbody tr th:only-of-type {\n",
       "        vertical-align: middle;\n",
       "    }\n",
       "\n",
       "    .dataframe tbody tr th {\n",
       "        vertical-align: top;\n",
       "    }\n",
       "\n",
       "    .dataframe thead th {\n",
       "        text-align: right;\n",
       "    }\n",
       "</style>\n",
       "<table border=\"1\" class=\"dataframe\">\n",
       "  <thead>\n",
       "    <tr style=\"text-align: right;\">\n",
       "      <th></th>\n",
       "      <th>school_state</th>\n",
       "      <th>teacher_prefix</th>\n",
       "      <th>project_grade_category</th>\n",
       "      <th>teacher_number_of_previously_posted_projects</th>\n",
       "      <th>clean_categories</th>\n",
       "      <th>clean_subcategories</th>\n",
       "      <th>essay</th>\n",
       "      <th>price</th>\n",
       "      <th>school_state_1</th>\n",
       "      <th>school_state_0</th>\n",
       "      <th>teacher_prefix_1</th>\n",
       "      <th>teacher_prefix_0</th>\n",
       "      <th>project_grade_category_1</th>\n",
       "      <th>project_grade_category_0</th>\n",
       "      <th>clean_categories_1</th>\n",
       "      <th>clean_categories_0</th>\n",
       "      <th>clean_subcategories_1</th>\n",
       "      <th>clean_subcategories_0</th>\n",
       "    </tr>\n",
       "  </thead>\n",
       "  <tbody>\n",
       "    <tr>\n",
       "      <th>102241</th>\n",
       "      <td>oh</td>\n",
       "      <td>ms</td>\n",
       "      <td>grades_3_5</td>\n",
       "      <td>6</td>\n",
       "      <td>literacy_language math_science</td>\n",
       "      <td>literature_writing mathematics</td>\n",
       "      <td>project based learning we technology world tes...</td>\n",
       "      <td>35.70</td>\n",
       "      <td>0.884313</td>\n",
       "      <td>0.115687</td>\n",
       "      <td>0.844534</td>\n",
       "      <td>0.155466</td>\n",
       "      <td>0.85413</td>\n",
       "      <td>0.14587</td>\n",
       "      <td>0.871690</td>\n",
       "      <td>0.128310</td>\n",
       "      <td>1.0</td>\n",
       "      <td>0.0</td>\n",
       "    </tr>\n",
       "    <tr>\n",
       "      <th>56703</th>\n",
       "      <td>ny</td>\n",
       "      <td>mr</td>\n",
       "      <td>grades_3_5</td>\n",
       "      <td>0</td>\n",
       "      <td>health_sports specialneeds</td>\n",
       "      <td>health_wellness specialneeds</td>\n",
       "      <td>i student frequently falls seat little girl cl...</td>\n",
       "      <td>282.97</td>\n",
       "      <td>0.860981</td>\n",
       "      <td>0.139019</td>\n",
       "      <td>0.840506</td>\n",
       "      <td>0.159494</td>\n",
       "      <td>0.85413</td>\n",
       "      <td>0.14587</td>\n",
       "      <td>0.876727</td>\n",
       "      <td>0.123273</td>\n",
       "      <td>1.0</td>\n",
       "      <td>0.0</td>\n",
       "    </tr>\n",
       "  </tbody>\n",
       "</table>\n",
       "</div>"
      ],
      "text/plain": [
       "       school_state  ... clean_subcategories_0\n",
       "102241           oh  ...                   0.0\n",
       "56703            ny  ...                   0.0\n",
       "\n",
       "[2 rows x 18 columns]"
      ]
     },
     "execution_count": 119,
     "metadata": {
      "tags": []
     },
     "output_type": "execute_result"
    }
   ],
   "source": [
    "X_train.head(2)"
   ]
  },
  {
   "cell_type": "code",
   "execution_count": 120,
   "metadata": {
    "colab": {
     "base_uri": "https://localhost:8080/",
     "height": 374
    },
    "id": "SbmbNMP5Dliv",
    "outputId": "febc1582-7b67-4b49-9934-dfd8af0cec9c"
   },
   "outputs": [
    {
     "data": {
      "text/html": [
       "<div>\n",
       "<style scoped>\n",
       "    .dataframe tbody tr th:only-of-type {\n",
       "        vertical-align: middle;\n",
       "    }\n",
       "\n",
       "    .dataframe tbody tr th {\n",
       "        vertical-align: top;\n",
       "    }\n",
       "\n",
       "    .dataframe thead th {\n",
       "        text-align: right;\n",
       "    }\n",
       "</style>\n",
       "<table border=\"1\" class=\"dataframe\">\n",
       "  <thead>\n",
       "    <tr style=\"text-align: right;\">\n",
       "      <th></th>\n",
       "      <th>school_state</th>\n",
       "      <th>teacher_prefix</th>\n",
       "      <th>project_grade_category</th>\n",
       "      <th>teacher_number_of_previously_posted_projects</th>\n",
       "      <th>clean_categories</th>\n",
       "      <th>clean_subcategories</th>\n",
       "      <th>essay</th>\n",
       "      <th>price</th>\n",
       "      <th>school_state_1</th>\n",
       "      <th>school_state_0</th>\n",
       "      <th>teacher_prefix_1</th>\n",
       "      <th>teacher_prefix_0</th>\n",
       "      <th>project_grade_category_1</th>\n",
       "      <th>project_grade_category_0</th>\n",
       "      <th>clean_categories_1</th>\n",
       "      <th>clean_categories_0</th>\n",
       "      <th>clean_subcategories_1</th>\n",
       "      <th>clean_subcategories_0</th>\n",
       "    </tr>\n",
       "  </thead>\n",
       "  <tbody>\n",
       "    <tr>\n",
       "      <th>74877</th>\n",
       "      <td>la</td>\n",
       "      <td>ms</td>\n",
       "      <td>grades_3_5</td>\n",
       "      <td>7</td>\n",
       "      <td>literacy_language specialneeds</td>\n",
       "      <td>literacy specialneeds</td>\n",
       "      <td>no matter age students love learn i teach amaz...</td>\n",
       "      <td>338.88</td>\n",
       "      <td>0.831639</td>\n",
       "      <td>0.168361</td>\n",
       "      <td>0.844534</td>\n",
       "      <td>0.155466</td>\n",
       "      <td>0.85413</td>\n",
       "      <td>0.14587</td>\n",
       "      <td>0.854428</td>\n",
       "      <td>0.145572</td>\n",
       "      <td>0.861282</td>\n",
       "      <td>0.138718</td>\n",
       "    </tr>\n",
       "    <tr>\n",
       "      <th>95629</th>\n",
       "      <td>ct</td>\n",
       "      <td>mrs</td>\n",
       "      <td>grades_3_5</td>\n",
       "      <td>6</td>\n",
       "      <td>literacy_language math_science</td>\n",
       "      <td>literature_writing mathematics</td>\n",
       "      <td>what could better seeing smiles light faces fi...</td>\n",
       "      <td>459.70</td>\n",
       "      <td>0.867975</td>\n",
       "      <td>0.132025</td>\n",
       "      <td>0.855243</td>\n",
       "      <td>0.144757</td>\n",
       "      <td>0.85413</td>\n",
       "      <td>0.14587</td>\n",
       "      <td>0.871690</td>\n",
       "      <td>0.128310</td>\n",
       "      <td>0.866905</td>\n",
       "      <td>0.133095</td>\n",
       "    </tr>\n",
       "  </tbody>\n",
       "</table>\n",
       "</div>"
      ],
      "text/plain": [
       "      school_state teacher_prefix  ... clean_subcategories_1  clean_subcategories_0\n",
       "74877           la             ms  ...              0.861282               0.138718\n",
       "95629           ct            mrs  ...              0.866905               0.133095\n",
       "\n",
       "[2 rows x 18 columns]"
      ]
     },
     "execution_count": 120,
     "metadata": {
      "tags": []
     },
     "output_type": "execute_result"
    }
   ],
   "source": [
    "X_test.head(2)"
   ]
  },
  {
   "cell_type": "markdown",
   "metadata": {
    "id": "5t6b364iJntY"
   },
   "source": [
    "<h2>Encoding Sentiment</h2>"
   ]
  },
  {
   "cell_type": "code",
   "execution_count": 121,
   "metadata": {
    "colab": {
     "base_uri": "https://localhost:8080/"
    },
    "id": "VeYdjPMfJsiq",
    "outputId": "28ee1870-6fab-4028-a03d-d1f7d77620ae"
   },
   "outputs": [
    {
     "name": "stderr",
     "output_type": "stream",
     "text": [
      "100%|██████████| 73196/73196 [02:43<00:00, 448.94it/s]\n",
      "100%|██████████| 36052/36052 [01:18<00:00, 456.48it/s]\n"
     ]
    }
   ],
   "source": [
    "senti_train=[]\n",
    "senti_test=[]\n",
    "\n",
    "for sentence in tqdm(X_train['essay']):\n",
    "  ss=sid.polarity_scores(sentence)\n",
    "  senti_train.append([ss['neg'],ss['neu'],ss['pos'],ss['compound']])\n",
    "\n",
    "for sentence in tqdm(X_test['essay']):\n",
    "  ss=sid.polarity_scores(sentence)\n",
    "  senti_test.append([ss['neg'],ss['neu'],ss['pos'],ss['compound']])"
   ]
  },
  {
   "cell_type": "code",
   "execution_count": 122,
   "metadata": {
    "colab": {
     "base_uri": "https://localhost:8080/"
    },
    "id": "Ftvo3UR7Jvnn",
    "outputId": "6d7c5cee-d10f-43b9-d71e-fec2f5c1ee2f"
   },
   "outputs": [
    {
     "name": "stdout",
     "output_type": "stream",
     "text": [
      "73196 36052\n"
     ]
    }
   ],
   "source": [
    "print(len(senti_train),len(senti_test))"
   ]
  },
  {
   "cell_type": "code",
   "execution_count": 123,
   "metadata": {
    "colab": {
     "base_uri": "https://localhost:8080/"
    },
    "id": "HI8wskNCK4MY",
    "outputId": "457af78e-276f-4b4f-9663-a58787e567d8"
   },
   "outputs": [
    {
     "name": "stdout",
     "output_type": "stream",
     "text": [
      "(73196, 4) (36052, 4)\n"
     ]
    }
   ],
   "source": [
    "senti_train=np.array(senti_train)\n",
    "senti_test=np.array(senti_test)\n",
    "print(senti_train.shape,senti_test.shape)"
   ]
  },
  {
   "cell_type": "markdown",
   "metadata": {
    "id": "HJKfkQ7DLbP8"
   },
   "source": [
    "<h2>Normalizing all categorical features</h2>"
   ]
  },
  {
   "cell_type": "code",
   "execution_count": 124,
   "metadata": {
    "colab": {
     "base_uri": "https://localhost:8080/"
    },
    "id": "AQll7CyKLhCk",
    "outputId": "551d058d-a796-4f32-d2aa-9e44c66ad505"
   },
   "outputs": [
    {
     "name": "stdout",
     "output_type": "stream",
     "text": [
      "(1, 73196) (1, 36052)\n",
      "(1, 73196) (1, 36052)\n"
     ]
    }
   ],
   "source": [
    "from sklearn.preprocessing import Normalizer\n",
    "\n",
    "normalizer=Normalizer()\n",
    "\n",
    "normalizer.fit(X_train['school_state_0'].values.reshape(-1,1))\n",
    "X_train_state_0=normalizer.transform(X_train['school_state_0'].values.reshape(1,-1))\n",
    "X_test_state_0=normalizer.transform(X_test['school_state_0'].values.reshape(1,-1))\n",
    "\n",
    "normalizer=Normalizer()\n",
    "\n",
    "normalizer.fit(X_train['school_state_1'].values.reshape(1,-1))\n",
    "X_train_state_1=normalizer.transform(X_train['school_state_1'].values.reshape(1,-1))\n",
    "X_test_state_1=normalizer.transform(X_test['school_state_1'].values.reshape(1,-1))\n",
    "\n",
    "print(X_train_state_0.shape,X_test_state_0.shape)\n",
    "print(X_train_state_1.shape,X_test_state_1.shape)"
   ]
  },
  {
   "cell_type": "code",
   "execution_count": 125,
   "metadata": {
    "colab": {
     "base_uri": "https://localhost:8080/"
    },
    "id": "aBF-LhyaQVwB",
    "outputId": "5fbf11c3-7257-4c18-a19f-b1e7b9cc92c0"
   },
   "outputs": [
    {
     "name": "stdout",
     "output_type": "stream",
     "text": [
      "(1, 73196) (1, 36052)\n",
      "(1, 73196) (1, 36052)\n"
     ]
    }
   ],
   "source": [
    "from sklearn.preprocessing import Normalizer\n",
    "\n",
    "normalizer=Normalizer()\n",
    "\n",
    "normalizer.fit(X_train['teacher_prefix_0'].values.reshape(1,-1))\n",
    "X_train_pre_0=normalizer.transform(X_train['teacher_prefix_0'].values.reshape(1,-1))\n",
    "X_test_pre_0=normalizer.transform(X_test['teacher_prefix_0'].values.reshape(1,-1))\n",
    "\n",
    "normalizer=Normalizer()\n",
    "\n",
    "normalizer.fit(X_train['school_state_1'].values.reshape(1,-1))\n",
    "X_train_pre_1=normalizer.transform(X_train['teacher_prefix_1'].values.reshape(1,-1))\n",
    "X_test_pre_1=normalizer.transform(X_test['teacher_prefix_1'].values.reshape(1,-1))\n",
    "\n",
    "print(X_train_pre_0.shape,X_test_pre_0.shape)\n",
    "print(X_train_pre_1.shape,X_test_pre_1.shape)"
   ]
  },
  {
   "cell_type": "code",
   "execution_count": 126,
   "metadata": {
    "colab": {
     "base_uri": "https://localhost:8080/"
    },
    "id": "6UtnNaI8RRqa",
    "outputId": "f2f5a6a8-a331-47a4-919e-c2c6397f6fc2"
   },
   "outputs": [
    {
     "name": "stdout",
     "output_type": "stream",
     "text": [
      "(1, 73196) (1, 36052)\n",
      "(1, 73196) (1, 36052)\n"
     ]
    }
   ],
   "source": [
    "from sklearn.preprocessing import Normalizer\n",
    "\n",
    "normalizer=Normalizer()\n",
    "\n",
    "normalizer.fit(X_train['project_grade_category_0'].values.reshape(1,-1))\n",
    "X_train_grade_0=normalizer.transform(X_train['project_grade_category_0'].values.reshape(1,-1))\n",
    "X_test_grade_0=normalizer.transform(X_test['project_grade_category_0'].values.reshape(1,-1))\n",
    "\n",
    "normalizer=Normalizer()\n",
    "\n",
    "normalizer.fit(X_train['project_grade_category_1'].values.reshape(1,-1))\n",
    "X_train_grade_1=normalizer.transform(X_train['project_grade_category_1'].values.reshape(1,-1))\n",
    "X_test_grade_1=normalizer.transform(X_test['project_grade_category_1'].values.reshape(1,-1))\n",
    "\n",
    "print(X_train_grade_0.shape,X_test_grade_0.shape)\n",
    "print(X_train_grade_1.shape,X_test_grade_1.shape)"
   ]
  },
  {
   "cell_type": "code",
   "execution_count": 127,
   "metadata": {
    "colab": {
     "base_uri": "https://localhost:8080/"
    },
    "id": "qgtPfnJPRqoE",
    "outputId": "9e6fb317-c340-4b07-c3a6-bb6fbaa8cd79"
   },
   "outputs": [
    {
     "name": "stdout",
     "output_type": "stream",
     "text": [
      "(1, 73196) (1, 36052)\n",
      "(1, 73196) (1, 36052)\n"
     ]
    }
   ],
   "source": [
    "from sklearn.preprocessing import Normalizer\n",
    "\n",
    "normalizer=Normalizer()\n",
    "\n",
    "normalizer.fit(X_train['clean_categories_0'].values.reshape(1,-1))\n",
    "X_train_clean_0=normalizer.transform(X_train['clean_categories_0'].values.reshape(1,-1))\n",
    "X_test_clean_0=normalizer.transform(X_test['clean_categories_0'].values.reshape(1,-1))\n",
    "\n",
    "normalizer=Normalizer()\n",
    "\n",
    "normalizer.fit(X_train['clean_categories_1'].values.reshape(1,-1))\n",
    "X_train_clean_1=normalizer.transform(X_train['clean_categories_1'].values.reshape(1,-1))\n",
    "X_test_clean_1=normalizer.transform(X_test['clean_categories_1'].values.reshape(1,-1))\n",
    "\n",
    "print(X_train_clean_0.shape,X_test_clean_0.shape)\n",
    "print(X_train_clean_1.shape,X_test_clean_1.shape)"
   ]
  },
  {
   "cell_type": "code",
   "execution_count": 128,
   "metadata": {
    "colab": {
     "base_uri": "https://localhost:8080/"
    },
    "id": "8lHOK7WoSD62",
    "outputId": "69d56110-48de-4ca6-8703-4bd76ddade01"
   },
   "outputs": [
    {
     "name": "stdout",
     "output_type": "stream",
     "text": [
      "(1, 73196) (1, 36052)\n",
      "(1, 73196) (1, 36052)\n"
     ]
    }
   ],
   "source": [
    "from sklearn.preprocessing import Normalizer\n",
    "\n",
    "normalizer=Normalizer()\n",
    "\n",
    "normalizer.fit(X_train['clean_subcategories_0'].values.reshape(1,-1))\n",
    "X_train_sub_clean_0=normalizer.transform(X_train['clean_subcategories_0'].values.reshape(1,-1))\n",
    "X_test_sub_clean_0=normalizer.transform(X_test['clean_subcategories_0'].values.reshape(1,-1))\n",
    "\n",
    "normalizer=Normalizer()\n",
    "\n",
    "normalizer.fit(X_train['clean_subcategories_1'].values.reshape(1,-1))\n",
    "X_train_sub_clean_1=normalizer.transform(X_train['clean_subcategories_1'].values.reshape(1,-1))\n",
    "X_test_sub_clean_1=normalizer.transform(X_test['clean_subcategories_1'].values.reshape(1,-1))\n",
    "\n",
    "print(X_train_sub_clean_0.shape,X_test_sub_clean_0.shape)\n",
    "print(X_train_sub_clean_1.shape,X_test_sub_clean_1.shape)"
   ]
  },
  {
   "cell_type": "code",
   "execution_count": 162,
   "metadata": {
    "colab": {
     "base_uri": "https://localhost:8080/"
    },
    "id": "pgoHjJs6o6so",
    "outputId": "3865bc50-0687-433c-9d5e-6ce532690f5b"
   },
   "outputs": [
    {
     "data": {
      "text/plain": [
       "scipy.sparse.csr.csr_matrix"
      ]
     },
     "execution_count": 162,
     "metadata": {
      "tags": []
     },
     "output_type": "execute_result"
    }
   ],
   "source": [
    "type(X_train_essay)"
   ]
  },
  {
   "cell_type": "markdown",
   "metadata": {
    "id": "vn4FUASuS3Pv"
   },
   "source": [
    "<h2>Concatenating all the features</h2>"
   ]
  },
  {
   "cell_type": "code",
   "execution_count": 164,
   "metadata": {
    "colab": {
     "base_uri": "https://localhost:8080/"
    },
    "id": "RpO5gHQSS_tA",
    "outputId": "835db02c-a0db-4aa2-b152-8915e0ef51fe"
   },
   "outputs": [
    {
     "name": "stdout",
     "output_type": "stream",
     "text": [
      "(73196, 5016) (36052, 5016)\n",
      "(73196, 316) (36052, 316)\n"
     ]
    }
   ],
   "source": [
    "from scipy.sparse import hstack\n",
    "from scipy.sparse.csr import csr_matrix\n",
    "\n",
    "tfidf_w2v_train=csr_matrix(tfidf_w2v_train)\n",
    "tfidf_w2v_test=csr_matrix(tfidf_w2v_test)\n",
    "\n",
    "X_train_data1=hstack((X_train_state_0.T,X_train_state_1.T,X_train_pre_0.T,X_train_pre_1.T,X_train_grade_0.T,X_train_grade_1.T,\n",
    "                      X_train_clean_0.T,X_train_clean_1.T,X_train_sub_clean_0.T,X_train_sub_clean_1.T,X_train_proj.T\n",
    "                      ,X_train_price.T,X_train_essay,senti_train)).tocsr()\n",
    "\n",
    "X_train_data2=hstack((X_train_state_0.T,X_train_state_1.T,X_train_pre_0.T,X_train_pre_1.T,X_train_grade_0.T,X_train_grade_1.T,\n",
    "                      X_train_clean_0.T,X_train_clean_1.T,X_train_sub_clean_0.T,X_train_sub_clean_1.T,X_train_proj.T\n",
    "                      ,X_train_price.T,tfidf_w2v_train,senti_train)).tocsr()\n",
    "                      \n",
    "X_test_data1=hstack((X_test_state_0.T,X_test_state_1.T,X_test_pre_0.T,X_test_pre_1.T,X_test_grade_0.T,X_test_grade_1.T,\n",
    "                      X_test_clean_0.T,X_test_clean_1.T,X_test_sub_clean_0.T,X_test_sub_clean_1.T,X_test_proj.T\n",
    "                      ,X_test_price.T,X_test_essay,senti_test)).tocsr()\n",
    "\n",
    "X_test_data2=hstack((X_test_state_0.T,X_test_state_1.T,X_test_pre_0.T,X_test_pre_1.T,X_test_grade_0.T,X_test_grade_1.T,\n",
    "                      X_test_clean_0.T,X_test_clean_1.T,X_test_sub_clean_0.T,X_test_sub_clean_1.T,X_test_proj.T\n",
    "                      ,X_test_price.T,tfidf_w2v_test,senti_test)).tocsr()\n",
    "\n",
    "print(X_train_data1.shape,X_test_data1.shape)\n",
    "print(X_train_data2.shape,X_test_data2.shape)"
   ]
  },
  {
   "cell_type": "markdown",
   "metadata": {
    "id": "O5tWox1jsc3_"
   },
   "source": [
    "<h2><br>Apply GBDT on different kind of featurization as mentioned in the instructions\n",
    "<br> For Every model that you work on make sure you do the step 2 and step 3 of instrucations</h2>"
   ]
  },
  {
   "cell_type": "markdown",
   "metadata": {
    "id": "jYcPbqdzI-4V"
   },
   "source": [
    "<h1>Set1</h1>"
   ]
  },
  {
   "cell_type": "code",
   "execution_count": 168,
   "metadata": {
    "colab": {
     "base_uri": "https://localhost:8080/"
    },
    "id": "ARWulYUwsc4B",
    "outputId": "ee76ea50-0fdc-4256-ce05-b3f17c8fd619"
   },
   "outputs": [
    {
     "data": {
      "text/plain": [
       "GridSearchCV(cv=3, error_score=nan,\n",
       "             estimator=LGBMClassifier(boosting_type='gbdt',\n",
       "                                      class_weight='balanced',\n",
       "                                      colsample_bytree=1.0,\n",
       "                                      importance_type='split',\n",
       "                                      learning_rate=0.1, max_depth=-1,\n",
       "                                      min_child_samples=20,\n",
       "                                      min_child_weight=0.001,\n",
       "                                      min_split_gain=0.0, n_estimators=100,\n",
       "                                      n_jobs=-1, num_leaves=31, objective=None,\n",
       "                                      random_state=None, reg_alpha=0.0,\n",
       "                                      reg_lambda=0.0, silent=True,\n",
       "                                      subsample=1.0, subsample_for_bin=200000,\n",
       "                                      subsample_freq=0),\n",
       "             iid='deprecated', n_jobs=-1,\n",
       "             param_grid={'max_depth': [1, 5, 10, 50],\n",
       "                         'n_estimators': [10, 100, 500, 1000]},\n",
       "             pre_dispatch='2*n_jobs', refit=True, return_train_score=True,\n",
       "             scoring='roc_auc', verbose=0)"
      ]
     },
     "execution_count": 168,
     "metadata": {
      "tags": []
     },
     "output_type": "execute_result"
    }
   ],
   "source": [
    "from sklearn.model_selection import GridSearchCV\n",
    "import lightgbm as lgb\n",
    "\n",
    "parameters={'max_depth':[1,5,10,50],'n_estimators':[10,100,500,1000]}\n",
    "\n",
    "gbdt=lgb.LGBMClassifier(boosting_type='gbdt',class_weight='balanced')\n",
    "clf1=GridSearchCV(gbdt,parameters,scoring='roc_auc',cv=3,n_jobs=-1,return_train_score=True)\n",
    "clf1.fit(X_train_data1,Y_train)"
   ]
  },
  {
   "cell_type": "code",
   "execution_count": 170,
   "metadata": {
    "colab": {
     "base_uri": "https://localhost:8080/",
     "height": 236
    },
    "id": "GHG4OsWhEp6p",
    "outputId": "98fa9d09-578a-420c-ed71-61e2d9fc5aa3"
   },
   "outputs": [
    {
     "data": {
      "text/html": [
       "<div>\n",
       "<style scoped>\n",
       "    .dataframe tbody tr th:only-of-type {\n",
       "        vertical-align: middle;\n",
       "    }\n",
       "\n",
       "    .dataframe tbody tr th {\n",
       "        vertical-align: top;\n",
       "    }\n",
       "\n",
       "    .dataframe thead tr th {\n",
       "        text-align: left;\n",
       "    }\n",
       "\n",
       "    .dataframe thead tr:last-of-type th {\n",
       "        text-align: right;\n",
       "    }\n",
       "</style>\n",
       "<table border=\"1\" class=\"dataframe\">\n",
       "  <thead>\n",
       "    <tr>\n",
       "      <th></th>\n",
       "      <th colspan=\"4\" halign=\"left\">mean_train_score</th>\n",
       "      <th colspan=\"4\" halign=\"left\">mean_test_score</th>\n",
       "    </tr>\n",
       "    <tr>\n",
       "      <th>param_n_estimators</th>\n",
       "      <th>10</th>\n",
       "      <th>100</th>\n",
       "      <th>500</th>\n",
       "      <th>1000</th>\n",
       "      <th>10</th>\n",
       "      <th>100</th>\n",
       "      <th>500</th>\n",
       "      <th>1000</th>\n",
       "    </tr>\n",
       "    <tr>\n",
       "      <th>param_max_depth</th>\n",
       "      <th></th>\n",
       "      <th></th>\n",
       "      <th></th>\n",
       "      <th></th>\n",
       "      <th></th>\n",
       "      <th></th>\n",
       "      <th></th>\n",
       "      <th></th>\n",
       "    </tr>\n",
       "  </thead>\n",
       "  <tbody>\n",
       "    <tr>\n",
       "      <th>1</th>\n",
       "      <td>0.607427</td>\n",
       "      <td>0.642308</td>\n",
       "      <td>0.677719</td>\n",
       "      <td>0.705587</td>\n",
       "      <td>0.603709</td>\n",
       "      <td>0.634119</td>\n",
       "      <td>0.634935</td>\n",
       "      <td>0.630816</td>\n",
       "    </tr>\n",
       "    <tr>\n",
       "      <th>5</th>\n",
       "      <td>0.668297</td>\n",
       "      <td>0.771858</td>\n",
       "      <td>0.915751</td>\n",
       "      <td>0.975515</td>\n",
       "      <td>0.627127</td>\n",
       "      <td>0.626873</td>\n",
       "      <td>0.605065</td>\n",
       "      <td>0.590289</td>\n",
       "    </tr>\n",
       "    <tr>\n",
       "      <th>10</th>\n",
       "      <td>0.686406</td>\n",
       "      <td>0.850664</td>\n",
       "      <td>0.987668</td>\n",
       "      <td>0.999517</td>\n",
       "      <td>0.629777</td>\n",
       "      <td>0.619170</td>\n",
       "      <td>0.587735</td>\n",
       "      <td>0.574235</td>\n",
       "    </tr>\n",
       "    <tr>\n",
       "      <th>50</th>\n",
       "      <td>0.686279</td>\n",
       "      <td>0.871730</td>\n",
       "      <td>0.996355</td>\n",
       "      <td>0.999932</td>\n",
       "      <td>0.629851</td>\n",
       "      <td>0.617461</td>\n",
       "      <td>0.584649</td>\n",
       "      <td>0.573567</td>\n",
       "    </tr>\n",
       "  </tbody>\n",
       "</table>\n",
       "</div>"
      ],
      "text/plain": [
       "                   mean_train_score            ... mean_test_score          \n",
       "param_n_estimators             10        100   ...            500       1000\n",
       "param_max_depth                                ...                          \n",
       "1                          0.607427  0.642308  ...        0.634935  0.630816\n",
       "5                          0.668297  0.771858  ...        0.605065  0.590289\n",
       "10                         0.686406  0.850664  ...        0.587735  0.574235\n",
       "50                         0.686279  0.871730  ...        0.584649  0.573567\n",
       "\n",
       "[4 rows x 8 columns]"
      ]
     },
     "execution_count": 170,
     "metadata": {
      "tags": []
     },
     "output_type": "execute_result"
    }
   ],
   "source": [
    "results1=pd.DataFrame(clf1.cv_results_).groupby(['param_max_depth','param_n_estimators']).max().unstack()[['mean_train_score','mean_test_score']]\n",
    "results1"
   ]
  },
  {
   "cell_type": "code",
   "execution_count": 171,
   "metadata": {
    "colab": {
     "base_uri": "https://localhost:8080/",
     "height": 423
    },
    "id": "2U3rnDzYE6uE",
    "outputId": "5343d7ac-5ac2-45d0-c737-22332bd852ed"
   },
   "outputs": [
    {
     "data": {
      "text/plain": [
       "Text(0.5, 1.0, 'AUC CV set')"
      ]
     },
     "execution_count": 171,
     "metadata": {
      "tags": []
     },
     "output_type": "execute_result"
    },
    {
     "data": {
      "image/png": "[encoded data removed]",
      "text/plain": [
       "<Figure size 1080x432 with 4 Axes>"
      ]
     },
     "metadata": {
      "needs_background": "light",
      "tags": []
     },
     "output_type": "display_data"
    }
   ],
   "source": [
    "import seaborn as sns\n",
    "import matplotlib.pyplot as plt\n",
    "fig,ax=plt.subplots(1,2,figsize=(15,6))\n",
    "sns.heatmap(results1.mean_train_score,annot=True,ax=ax[0])\n",
    "sns.heatmap(results1.mean_test_score,annot=True,ax=ax[1])\n",
    "\n",
    "ax[0].set_title('AUC Train set')\n",
    "ax[1].set_title('AUC CV set')"
   ]
  },
  {
   "cell_type": "code",
   "execution_count": 172,
   "metadata": {
    "colab": {
     "base_uri": "https://localhost:8080/"
    },
    "id": "1rKsmsLjE9Wx",
    "outputId": "b5d177a5-47cb-4c5c-9e6f-ba16701f1546"
   },
   "outputs": [
    {
     "name": "stdout",
     "output_type": "stream",
     "text": [
      "LGBMClassifier(boosting_type='gbdt', class_weight='balanced',\n",
      "               colsample_bytree=1.0, importance_type='split', learning_rate=0.1,\n",
      "               max_depth=1, min_child_samples=20, min_child_weight=0.001,\n",
      "               min_split_gain=0.0, n_estimators=500, n_jobs=-1, num_leaves=31,\n",
      "               objective=None, random_state=None, reg_alpha=0.0, reg_lambda=0.0,\n",
      "               silent=True, subsample=1.0, subsample_for_bin=200000,\n",
      "               subsample_freq=0)\n",
      "0.6661066527584023\n",
      "0.6322324559601139\n"
     ]
    }
   ],
   "source": [
    "print(clf1.best_estimator_)\n",
    "print(clf1.score(X_train_data1,Y_train))\n",
    "print(clf1.score(X_test_data1,Y_test))"
   ]
  },
  {
   "cell_type": "code",
   "execution_count": 173,
   "metadata": {
    "id": "3-ZUqSsGFQtl"
   },
   "outputs": [],
   "source": [
    "best_max_depth=1\n",
    "best_n_estimator=500"
   ]
  },
  {
   "cell_type": "code",
   "execution_count": 175,
   "metadata": {
    "colab": {
     "base_uri": "https://localhost:8080/"
    },
    "id": "axm8a0_ZFabm",
    "outputId": "97aa9a08-7bc6-4845-aabf-0489fec62831"
   },
   "outputs": [
    {
     "data": {
      "text/plain": [
       "LGBMClassifier(boosting_type='gbdt', class_weight='balanced',\n",
       "               colsample_bytree=1.0, importance_type='split', learning_rate=0.1,\n",
       "               max_depth=1, min_child_samples=20, min_child_weight=0.001,\n",
       "               min_split_gain=0.0, n_estimators=500, n_jobs=-1, num_leaves=31,\n",
       "               objective=None, random_state=None, reg_alpha=0.0, reg_lambda=0.0,\n",
       "               silent=True, subsample=1.0, subsample_for_bin=200000,\n",
       "               subsample_freq=0)"
      ]
     },
     "execution_count": 175,
     "metadata": {
      "tags": []
     },
     "output_type": "execute_result"
    }
   ],
   "source": [
    "gbdt=lgb.LGBMClassifier(boosting_type='gbdt',class_weight='balanced',max_depth=best_max_depth,n_estimators=best_n_estimator)\n",
    "gbdt.fit(X_train_data1,Y_train)"
   ]
  },
  {
   "cell_type": "code",
   "execution_count": 176,
   "metadata": {
    "id": "W9fXzN8rF_qE"
   },
   "outputs": [],
   "source": [
    "Y_predict_train=gbdt.predict_proba(X_train_data1)[:,1]\n",
    "Y_predict_test=gbdt.predict_proba(X_test_data1)[:,1]"
   ]
  },
  {
   "cell_type": "code",
   "execution_count": 177,
   "metadata": {
    "colab": {
     "base_uri": "https://localhost:8080/"
    },
    "id": "t53W3Hg8GOzp",
    "outputId": "3b92b3c4-83ee-43f3-8008-556bf13c54fd"
   },
   "outputs": [
    {
     "name": "stdout",
     "output_type": "stream",
     "text": [
      "(73196,) (36052,)\n"
     ]
    }
   ],
   "source": [
    "print(Y_predict_train.shape,Y_predict_test.shape)"
   ]
  },
  {
   "cell_type": "code",
   "execution_count": 178,
   "metadata": {
    "colab": {
     "base_uri": "https://localhost:8080/",
     "height": 295
    },
    "id": "T2IQLB_JGVaf",
    "outputId": "5e48f59c-2134-484d-ec62-aa749ddd5440"
   },
   "outputs": [
    {
     "data": {
      "image/png": "[encoded data removed]",
      "text/plain": [
       "<Figure size 432x288 with 1 Axes>"
      ]
     },
     "metadata": {
      "needs_background": "light",
      "tags": []
     },
     "output_type": "display_data"
    }
   ],
   "source": [
    "from sklearn.metrics import roc_curve,auc\n",
    "\n",
    "train_fpr1,train_tpr1,tr_thresholds1=roc_curve(Y_train,Y_predict_train)\n",
    "test_fpr1,test_tpr1,te_thresholds1=roc_curve(Y_test,Y_predict_test)\n",
    "plt.plot(train_fpr1,train_tpr1,label='Train AUC='+str(auc(train_fpr1,train_tpr1)))\n",
    "plt.plot(test_fpr1, test_tpr1,label='Test AUC='+str(auc(test_fpr1,test_tpr1)))\n",
    "plt.legend()\n",
    "plt.xlabel('FPR')\n",
    "plt.ylabel('TPR')\n",
    "plt.title('ERROR PLOTS')\n",
    "plt.grid()\n",
    "plt.show()"
   ]
  },
  {
   "cell_type": "code",
   "execution_count": 179,
   "metadata": {
    "id": "8CDCE8t0Gkme"
   },
   "outputs": [],
   "source": [
    "def find_best_threshold(threshold,fpr,tpr,set_no):\n",
    "    t=threshold[np.argmax(tpr*(1-fpr))]\n",
    "    print(\"The maximum value of tpr*(1-fpr)\",max(tpr*(1-fpr)),\"for threshold\",np.round(t,3),\"for set\",set_no)\n",
    "    return t\n",
    "\n",
    "def predict_with_best_t(proba,threshold):\n",
    "    predictions=[]\n",
    "    for i in proba:\n",
    "        if i>=threshold:\n",
    "            predictions.append(1)\n",
    "        else:\n",
    "            predictions.append(0)\n",
    "    return predictions"
   ]
  },
  {
   "cell_type": "code",
   "execution_count": 180,
   "metadata": {
    "colab": {
     "base_uri": "https://localhost:8080/"
    },
    "id": "-B773GPtGk_-",
    "outputId": "4a07d2ac-339a-4387-a53b-b3378fac82c0"
   },
   "outputs": [
    {
     "name": "stdout",
     "output_type": "stream",
     "text": [
      "The maximum value of tpr*(1-fpr) 0.38153501956459435 for threshold 0.492 for set 1\n",
      "Train confusion matrix\n",
      "[[ 6939  4144]\n",
      " [24262 37851]]\n",
      "Test confusion matrix\n",
      "[[ 4873   586]\n",
      " [23344  7249]]\n"
     ]
    }
   ],
   "source": [
    "from sklearn.metrics import confusion_matrix\n",
    "\n",
    "best_t1=find_best_threshold(tr_thresholds1,train_fpr1,train_tpr1,1)\n",
    "\n",
    "print(\"Train confusion matrix\")\n",
    "print(confusion_matrix(Y_train,predict_with_best_t(Y_predict_train,best_t1)))\n",
    "\n",
    "print(\"Test confusion matrix\")\n",
    "predict1=predict_with_best_t(Y_predict_test,best_t1)\n",
    "print(confusion_matrix(Y_test,predict_with_best_t(Y_predict_test,best_t1)))"
   ]
  },
  {
   "cell_type": "code",
   "execution_count": 181,
   "metadata": {
    "colab": {
     "base_uri": "https://localhost:8080/",
     "height": 295
    },
    "id": "3n6IoFTDGx-v",
    "outputId": "b9fcb25a-595c-4b71-b952-36ae926adaba"
   },
   "outputs": [
    {
     "data": {
      "image/png": "[encoded data removed]",
      "text/plain": [
       "<Figure size 432x288 with 2 Axes>"
      ]
     },
     "metadata": {
      "needs_background": "light",
      "tags": []
     },
     "output_type": "display_data"
    }
   ],
   "source": [
    "ax=sns.heatmap(np.array(confusion_matrix(Y_train,predict_with_best_t(Y_predict_train,best_t1))),annot=True,fmt=\"\")\n",
    "ax.set(xlabel='Actual',ylabel='Predicted')\n",
    "ax.set_title('Confusion Matrix on Train dataset 1')\n",
    "plt.show()"
   ]
  },
  {
   "cell_type": "code",
   "execution_count": 182,
   "metadata": {
    "colab": {
     "base_uri": "https://localhost:8080/",
     "height": 295
    },
    "id": "JG4rduYcG0_N",
    "outputId": "803c9564-891b-4cb9-a044-ce0004f640fd"
   },
   "outputs": [
    {
     "data": {
      "image/png": "[encoded data removed]",
      "text/plain": [
       "<Figure size 432x288 with 2 Axes>"
      ]
     },
     "metadata": {
      "needs_background": "light",
      "tags": []
     },
     "output_type": "display_data"
    }
   ],
   "source": [
    "ax=sns.heatmap(np.array(confusion_matrix(Y_test,predict_with_best_t(Y_predict_test,best_t1))),annot=True,fmt=\"\")\n",
    "ax.set(xlabel='Actual',ylabel='Predicted')\n",
    "ax.set_title('Confusion Matrix on Test dataset 1')\n",
    "plt.show()"
   ]
  },
  {
   "cell_type": "markdown",
   "metadata": {
    "id": "8zCRn6S3I4VO"
   },
   "source": [
    "<h2>Set2</h2>"
   ]
  },
  {
   "cell_type": "code",
   "execution_count": 183,
   "metadata": {
    "colab": {
     "base_uri": "https://localhost:8080/"
    },
    "id": "ho_S4wLHHTMg",
    "outputId": "a73e094e-e633-4cc3-ce35-fad64805e1a6"
   },
   "outputs": [
    {
     "data": {
      "text/plain": [
       "GridSearchCV(cv=3, error_score=nan,\n",
       "             estimator=LGBMClassifier(boosting_type='gbdt',\n",
       "                                      class_weight='balanced',\n",
       "                                      colsample_bytree=1.0,\n",
       "                                      importance_type='split',\n",
       "                                      learning_rate=0.1, max_depth=-1,\n",
       "                                      min_child_samples=20,\n",
       "                                      min_child_weight=0.001,\n",
       "                                      min_split_gain=0.0, n_estimators=100,\n",
       "                                      n_jobs=-1, num_leaves=31, objective=None,\n",
       "                                      random_state=None, reg_alpha=0.0,\n",
       "                                      reg_lambda=0.0, silent=True,\n",
       "                                      subsample=1.0, subsample_for_bin=200000,\n",
       "                                      subsample_freq=0),\n",
       "             iid='deprecated', n_jobs=-1,\n",
       "             param_grid={'max_depth': [1, 5, 10, 50],\n",
       "                         'n_estimators': [10, 100, 500, 1000]},\n",
       "             pre_dispatch='2*n_jobs', refit=True, return_train_score=True,\n",
       "             scoring='roc_auc', verbose=0)"
      ]
     },
     "execution_count": 183,
     "metadata": {
      "tags": []
     },
     "output_type": "execute_result"
    }
   ],
   "source": [
    "from sklearn.model_selection import GridSearchCV\n",
    "import lightgbm as lgb\n",
    "\n",
    "parameters={'max_depth':[1,5,10,50],'n_estimators':[10,100,500,1000]}\n",
    "\n",
    "gbdt=lgb.LGBMClassifier(boosting_type='gbdt',class_weight='balanced')\n",
    "clf2=GridSearchCV(gbdt,parameters,scoring='roc_auc',cv=3,n_jobs=-1,return_train_score=True)\n",
    "clf2.fit(X_train_data2,Y_train)"
   ]
  },
  {
   "cell_type": "code",
   "execution_count": 184,
   "metadata": {
    "colab": {
     "base_uri": "https://localhost:8080/",
     "height": 236
    },
    "id": "ZWRXAd6nHdD5",
    "outputId": "1cb4d937-d963-4fcb-b46d-c84cac1d127f"
   },
   "outputs": [
    {
     "data": {
      "text/html": [
       "<div>\n",
       "<style scoped>\n",
       "    .dataframe tbody tr th:only-of-type {\n",
       "        vertical-align: middle;\n",
       "    }\n",
       "\n",
       "    .dataframe tbody tr th {\n",
       "        vertical-align: top;\n",
       "    }\n",
       "\n",
       "    .dataframe thead tr th {\n",
       "        text-align: left;\n",
       "    }\n",
       "\n",
       "    .dataframe thead tr:last-of-type th {\n",
       "        text-align: right;\n",
       "    }\n",
       "</style>\n",
       "<table border=\"1\" class=\"dataframe\">\n",
       "  <thead>\n",
       "    <tr>\n",
       "      <th></th>\n",
       "      <th colspan=\"4\" halign=\"left\">mean_train_score</th>\n",
       "      <th colspan=\"4\" halign=\"left\">mean_test_score</th>\n",
       "    </tr>\n",
       "    <tr>\n",
       "      <th>param_n_estimators</th>\n",
       "      <th>10</th>\n",
       "      <th>100</th>\n",
       "      <th>500</th>\n",
       "      <th>1000</th>\n",
       "      <th>10</th>\n",
       "      <th>100</th>\n",
       "      <th>500</th>\n",
       "      <th>1000</th>\n",
       "    </tr>\n",
       "    <tr>\n",
       "      <th>param_max_depth</th>\n",
       "      <th></th>\n",
       "      <th></th>\n",
       "      <th></th>\n",
       "      <th></th>\n",
       "      <th></th>\n",
       "      <th></th>\n",
       "      <th></th>\n",
       "      <th></th>\n",
       "    </tr>\n",
       "  </thead>\n",
       "  <tbody>\n",
       "    <tr>\n",
       "      <th>1</th>\n",
       "      <td>0.607427</td>\n",
       "      <td>0.642258</td>\n",
       "      <td>0.665478</td>\n",
       "      <td>0.680171</td>\n",
       "      <td>0.603709</td>\n",
       "      <td>0.634201</td>\n",
       "      <td>0.639251</td>\n",
       "      <td>0.637228</td>\n",
       "    </tr>\n",
       "    <tr>\n",
       "      <th>5</th>\n",
       "      <td>0.673707</td>\n",
       "      <td>0.841281</td>\n",
       "      <td>0.993359</td>\n",
       "      <td>0.999880</td>\n",
       "      <td>0.628448</td>\n",
       "      <td>0.627179</td>\n",
       "      <td>0.597617</td>\n",
       "      <td>0.585499</td>\n",
       "    </tr>\n",
       "    <tr>\n",
       "      <th>10</th>\n",
       "      <td>0.686636</td>\n",
       "      <td>0.884902</td>\n",
       "      <td>0.998942</td>\n",
       "      <td>0.999991</td>\n",
       "      <td>0.629851</td>\n",
       "      <td>0.624451</td>\n",
       "      <td>0.593050</td>\n",
       "      <td>0.582748</td>\n",
       "    </tr>\n",
       "    <tr>\n",
       "      <th>50</th>\n",
       "      <td>0.687195</td>\n",
       "      <td>0.886569</td>\n",
       "      <td>0.999305</td>\n",
       "      <td>0.999995</td>\n",
       "      <td>0.629489</td>\n",
       "      <td>0.624167</td>\n",
       "      <td>0.594881</td>\n",
       "      <td>0.583548</td>\n",
       "    </tr>\n",
       "  </tbody>\n",
       "</table>\n",
       "</div>"
      ],
      "text/plain": [
       "                   mean_train_score            ... mean_test_score          \n",
       "param_n_estimators             10        100   ...            500       1000\n",
       "param_max_depth                                ...                          \n",
       "1                          0.607427  0.642258  ...        0.639251  0.637228\n",
       "5                          0.673707  0.841281  ...        0.597617  0.585499\n",
       "10                         0.686636  0.884902  ...        0.593050  0.582748\n",
       "50                         0.687195  0.886569  ...        0.594881  0.583548\n",
       "\n",
       "[4 rows x 8 columns]"
      ]
     },
     "execution_count": 184,
     "metadata": {
      "tags": []
     },
     "output_type": "execute_result"
    }
   ],
   "source": [
    "results2=pd.DataFrame(clf2.cv_results_).groupby(['param_max_depth','param_n_estimators']).max().unstack()[['mean_train_score','mean_test_score']]\n",
    "results2"
   ]
  },
  {
   "cell_type": "code",
   "execution_count": 185,
   "metadata": {
    "colab": {
     "base_uri": "https://localhost:8080/",
     "height": 423
    },
    "id": "GtVFSoaLHkfV",
    "outputId": "0c01d5e0-aeb2-4552-de68-a119f3a02e1c"
   },
   "outputs": [
    {
     "data": {
      "text/plain": [
       "Text(0.5, 1.0, 'AUC CV set')"
      ]
     },
     "execution_count": 185,
     "metadata": {
      "tags": []
     },
     "output_type": "execute_result"
    },
    {
     "data": {
      "image/png": "[encoded data removed]",
      "text/plain": [
       "<Figure size 1080x432 with 4 Axes>"
      ]
     },
     "metadata": {
      "needs_background": "light",
      "tags": []
     },
     "output_type": "display_data"
    }
   ],
   "source": [
    "import seaborn as sns\n",
    "import matplotlib.pyplot as plt\n",
    "fig,ax=plt.subplots(1,2,figsize=(15,6))\n",
    "sns.heatmap(results2.mean_train_score,annot=True,ax=ax[0])\n",
    "sns.heatmap(results2.mean_test_score,annot=True,ax=ax[1])\n",
    "\n",
    "ax[0].set_title('AUC Train set')\n",
    "ax[1].set_title('AUC CV set')"
   ]
  },
  {
   "cell_type": "code",
   "execution_count": 187,
   "metadata": {
    "colab": {
     "base_uri": "https://localhost:8080/"
    },
    "id": "q5EZWQLPIEtp",
    "outputId": "9d07fa79-eda5-4281-ebdc-e30fa63a990a"
   },
   "outputs": [
    {
     "name": "stdout",
     "output_type": "stream",
     "text": [
      "LGBMClassifier(boosting_type='gbdt', class_weight='balanced',\n",
      "               colsample_bytree=1.0, importance_type='split', learning_rate=0.1,\n",
      "               max_depth=1, min_child_samples=20, min_child_weight=0.001,\n",
      "               min_split_gain=0.0, n_estimators=500, n_jobs=-1, num_leaves=31,\n",
      "               objective=None, random_state=None, reg_alpha=0.0, reg_lambda=0.0,\n",
      "               silent=True, subsample=1.0, subsample_for_bin=200000,\n",
      "               subsample_freq=0)\n",
      "0.6583166097199656\n",
      "0.6368524307879038\n"
     ]
    }
   ],
   "source": [
    "print(clf2.best_estimator_)\n",
    "print(clf2.score(X_train_data2,Y_train))\n",
    "print(clf2.score(X_test_data2,Y_test))"
   ]
  },
  {
   "cell_type": "code",
   "execution_count": 188,
   "metadata": {
    "id": "vXq4ljMEIKm9"
   },
   "outputs": [],
   "source": [
    "best_max_depth=1\n",
    "best_n_estimator=500"
   ]
  },
  {
   "cell_type": "code",
   "execution_count": 189,
   "metadata": {
    "colab": {
     "base_uri": "https://localhost:8080/"
    },
    "id": "2VxV_BFhIVtb",
    "outputId": "82d17bc5-6ee5-4c4c-a6b9-beda8ba2bbc7"
   },
   "outputs": [
    {
     "data": {
      "text/plain": [
       "LGBMClassifier(boosting_type='gbdt', class_weight='balanced',\n",
       "               colsample_bytree=1.0, importance_type='split', learning_rate=0.1,\n",
       "               max_depth=1, min_child_samples=20, min_child_weight=0.001,\n",
       "               min_split_gain=0.0, n_estimators=500, n_jobs=-1, num_leaves=31,\n",
       "               objective=None, random_state=None, reg_alpha=0.0, reg_lambda=0.0,\n",
       "               silent=True, subsample=1.0, subsample_for_bin=200000,\n",
       "               subsample_freq=0)"
      ]
     },
     "execution_count": 189,
     "metadata": {
      "tags": []
     },
     "output_type": "execute_result"
    }
   ],
   "source": [
    "gbdt=lgb.LGBMClassifier(boosting_type='gbdt',class_weight='balanced',max_depth=best_max_depth,n_estimators=best_n_estimator)\n",
    "gbdt.fit(X_train_data2,Y_train)"
   ]
  },
  {
   "cell_type": "code",
   "execution_count": 190,
   "metadata": {
    "id": "Jn5GB1HPIZ3D"
   },
   "outputs": [],
   "source": [
    "Y_predict_train=gbdt.predict_proba(X_train_data2)[:,1]\n",
    "Y_predict_test=gbdt.predict_proba(X_test_data2)[:,1]"
   ]
  },
  {
   "cell_type": "code",
   "execution_count": 191,
   "metadata": {
    "colab": {
     "base_uri": "https://localhost:8080/"
    },
    "id": "cddWie-LIhP0",
    "outputId": "ab366014-ea90-4ebc-f655-9e05aabc110a"
   },
   "outputs": [
    {
     "name": "stdout",
     "output_type": "stream",
     "text": [
      "(73196,) (36052,)\n"
     ]
    }
   ],
   "source": [
    "print(Y_predict_train.shape,Y_predict_test.shape)"
   ]
  },
  {
   "cell_type": "code",
   "execution_count": 192,
   "metadata": {
    "colab": {
     "base_uri": "https://localhost:8080/",
     "height": 295
    },
    "id": "GX3ld1NXIlGh",
    "outputId": "6b6ab374-1298-4581-ba69-2ce59bd72cfc"
   },
   "outputs": [
    {
     "data": {
      "image/png": "[encoded data removed]",
      "text/plain": [
       "<Figure size 432x288 with 1 Axes>"
      ]
     },
     "metadata": {
      "needs_background": "light",
      "tags": []
     },
     "output_type": "display_data"
    }
   ],
   "source": [
    "from sklearn.metrics import roc_curve,auc\n",
    "\n",
    "train_fpr2,train_tpr2,tr_thresholds2=roc_curve(Y_train,Y_predict_train)\n",
    "test_fpr2,test_tpr2,te_thresholds2=roc_curve(Y_test,Y_predict_test)\n",
    "plt.plot(train_fpr2,train_tpr2,label='Train AUC='+str(auc(train_fpr2,train_tpr2)))\n",
    "plt.plot(test_fpr2,test_tpr2,label='Test AUC='+str(auc(test_fpr2,test_tpr2)))\n",
    "plt.legend()\n",
    "plt.xlabel('FPR')\n",
    "plt.ylabel('TPR')\n",
    "plt.title('ERROR PLOTS')\n",
    "plt.grid()\n",
    "plt.show()"
   ]
  },
  {
   "cell_type": "code",
   "execution_count": 193,
   "metadata": {
    "colab": {
     "base_uri": "https://localhost:8080/"
    },
    "id": "FiM4ckIFIrNx",
    "outputId": "7edf7eba-eaba-4459-f443-0227b3f5b797"
   },
   "outputs": [
    {
     "name": "stdout",
     "output_type": "stream",
     "text": [
      "The maximum value of tpr*(1-fpr) 0.3750963916781681 for threshold 0.495 for set 2\n",
      "Train confusion matrix\n",
      "[[ 6951  4132]\n",
      " [24965 37148]]\n",
      "Test confusion matrix\n",
      "[[ 5044   415]\n",
      " [24818  5775]]\n"
     ]
    }
   ],
   "source": [
    "from sklearn.metrics import confusion_matrix\n",
    "\n",
    "best_t2=find_best_threshold(tr_thresholds2,train_fpr2,train_tpr2,2)\n",
    "\n",
    "print(\"Train confusion matrix\")\n",
    "print(confusion_matrix(Y_train,predict_with_best_t(Y_predict_train,best_t2)))\n",
    "\n",
    "print(\"Test confusion matrix\")\n",
    "predict2=predict_with_best_t(Y_predict_test,best_t2)\n",
    "print(confusion_matrix(Y_test,predict_with_best_t(Y_predict_test,best_t2)))"
   ]
  },
  {
   "cell_type": "code",
   "execution_count": 194,
   "metadata": {
    "colab": {
     "base_uri": "https://localhost:8080/",
     "height": 295
    },
    "id": "ReY9NDgSIvKx",
    "outputId": "df015061-2a7b-4709-f0e9-b86846a9cd6a"
   },
   "outputs": [
    {
     "data": {
      "image/png": "[encoded data removed]",
      "text/plain": [
       "<Figure size 432x288 with 2 Axes>"
      ]
     },
     "metadata": {
      "needs_background": "light",
      "tags": []
     },
     "output_type": "display_data"
    }
   ],
   "source": [
    "ax=sns.heatmap(np.array(confusion_matrix(Y_train,predict_with_best_t(Y_predict_train,best_t2))),annot=True,fmt=\"\")\n",
    "ax.set(xlabel='Actual',ylabel='Predicted')\n",
    "ax.set_title('Confusion Matrix on Train dataset 2')\n",
    "plt.show()"
   ]
  },
  {
   "cell_type": "code",
   "execution_count": 195,
   "metadata": {
    "colab": {
     "base_uri": "https://localhost:8080/",
     "height": 295
    },
    "id": "0VZ_tqECIxiq",
    "outputId": "b505b88a-2c36-4581-8083-db496a34a0e7"
   },
   "outputs": [
    {
     "data": {
      "image/png": "[encoded data removed]",
      "text/plain": [
       "<Figure size 432x288 with 2 Axes>"
      ]
     },
     "metadata": {
      "needs_background": "light",
      "tags": []
     },
     "output_type": "display_data"
    }
   ],
   "source": [
    "ax=sns.heatmap(np.array(confusion_matrix(Y_test,predict_with_best_t(Y_predict_test,best_t2))),annot=True,fmt=\"\")\n",
    "ax.set(xlabel='Actual',ylabel='Predicted')\n",
    "ax.set_title('Confusion Matrix on Test dataset 2')\n",
    "plt.show()"
   ]
  },
  {
   "cell_type": "markdown",
   "metadata": {
    "id": "YhFN-lDWsc4G"
   },
   "source": [
    "<h1>3. Summary</h1>\n",
    "\n",
    "<br> as mentioned in the step 4 of instructions"
   ]
  },
  {
   "cell_type": "code",
   "execution_count": 197,
   "metadata": {
    "colab": {
     "base_uri": "https://localhost:8080/"
    },
    "id": "BsIxKOT0JJ_m",
    "outputId": "129a9121-b711-417c-d31d-3beb2720b6ac"
   },
   "outputs": [
    {
     "name": "stdout",
     "output_type": "stream",
     "text": [
      "+------------+-------+----------------+-----------------------+-------+\n",
      "| Vectorizer | Model | Best Max Depth | Best No. of Estimator |  AUC  |\n",
      "+------------+-------+----------------+-----------------------+-------+\n",
      "|   TFIDF    |  GBDT |       1        |          500          | 0.632 |\n",
      "| TFIDF W2V  |  GBDT |       1        |          500          | 0.636 |\n",
      "+------------+-------+----------------+-----------------------+-------+\n"
     ]
    }
   ],
   "source": [
    "from prettytable import PrettyTable\n",
    "\n",
    "table=PrettyTable()\n",
    "table.field_names=['Vectorizer','Model','Best Max Depth','Best No. of Estimator','AUC']\n",
    "\n",
    "table.add_row(['TFIDF','GBDT','1','500','0.632'])\n",
    "table.add_row(['TFIDF W2V','GBDT','1','500','0.636'])\n",
    "\n",
    "print(table)"
   ]
  },
  {
   "cell_type": "code",
   "execution_count": null,
   "metadata": {
    "id": "CXoXJGENPohH"
   },
   "outputs": [],
   "source": []
  }
 ],
 "metadata": {
  "colab": {
   "collapsed_sections": [],
   "name": "11_Assignment_GBDT_Instructions.ipynb",
   "provenance": []
  },
  "kernelspec": {
   "display_name": "Python 3",
   "language": "python",
   "name": "python3"
  },
  "language_info": {
   "codemirror_mode": {
    "name": "ipython",
    "version": 3
   },
   "file_extension": ".py",
   "mimetype": "text/x-python",
   "name": "python",
   "nbconvert_exporter": "python",
   "pygments_lexer": "ipython3",
   "version": "3.8.5"
  }
 },
 "nbformat": 4,
 "nbformat_minor": 1
}
